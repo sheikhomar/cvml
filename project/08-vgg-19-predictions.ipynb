{
 "cells": [
  {
   "cell_type": "code",
   "execution_count": 1,
   "metadata": {},
   "outputs": [
    {
     "name": "stderr",
     "output_type": "stream",
     "text": [
      "/home/omar/anaconda3/envs/cvml/lib/python3.6/site-packages/h5py/__init__.py:36: FutureWarning: Conversion of the second argument of issubdtype from `float` to `np.floating` is deprecated. In future, it will be treated as `np.float64 == np.dtype(float).type`.\n",
      "  from ._conv import register_converters as _register_converters\n",
      "Using TensorFlow backend.\n"
     ]
    }
   ],
   "source": [
    "from model_vgg19 import ModelVGG19\n",
    "import pandas as pd\n",
    "from sklearn.model_selection import cross_val_score\n",
    "from sklearn.metrics import classification_report\n",
    "import matplotlib.pyplot as plt\n",
    "import numpy as np\n",
    "import os\n",
    "import re\n",
    "\n",
    "from keras.applications.imagenet_utils import preprocess_input\n",
    "from keras.preprocessing import image\n",
    "from keras.utils import Sequence\n",
    "\n",
    "from sklearn.model_selection import cross_val_score\n",
    "from sklearn.metrics import classification_report"
   ]
  },
  {
   "cell_type": "code",
   "execution_count": 2,
   "metadata": {},
   "outputs": [],
   "source": [
    "y_validation = pd.read_csv('Validation/valLbls.csv', header=None, names=['label'])"
   ]
  },
  {
   "cell_type": "code",
   "execution_count": 3,
   "metadata": {},
   "outputs": [],
   "source": [
    "m = ModelVGG19()"
   ]
  },
  {
   "cell_type": "code",
   "execution_count": 4,
   "metadata": {},
   "outputs": [
    {
     "name": "stdout",
     "output_type": "stream",
     "text": [
      "Creating model...\n",
      "Loading weights from saved_weights/vgg19-best-model.hdf5...\n",
      "Compiling...\n"
     ]
    }
   ],
   "source": [
    "keras_model = m.load_model(model_weights='saved_weights/vgg19-best-model.hdf5')"
   ]
  },
  {
   "cell_type": "code",
   "execution_count": 17,
   "metadata": {},
   "outputs": [],
   "source": [
    "key_label_map = {v: k for k, v in train_gen.class_indices.items()}"
   ]
  },
  {
   "cell_type": "code",
   "execution_count": 7,
   "metadata": {},
   "outputs": [
    {
     "data": {
      "text/plain": [
       "[0.5862689837618845, 0.8133159267892]"
      ]
     },
     "execution_count": 7,
     "metadata": {},
     "output_type": "execute_result"
    }
   ],
   "source": [
    "score_arr = keras_model.evaluate_generator(val_gen)"
   ]
  },
  {
   "cell_type": "code",
   "execution_count": null,
   "metadata": {},
   "outputs": [],
   "source": [
    "print(\"Loss: \", score_arr[0], \"Accuracy: \", score_arr[1])"
   ]
  },
  {
   "cell_type": "code",
   "execution_count": 24,
   "metadata": {},
   "outputs": [],
   "source": [
    "def load_img(img_path):\n",
    "    img = image.load_img(img_path, target_size=(256, 256))\n",
    "    x = image.img_to_array(img)\n",
    "    x = np.expand_dims(x, axis=0)\n",
    "    return x"
   ]
  },
  {
   "cell_type": "code",
   "execution_count": null,
   "metadata": {},
   "outputs": [
    {
     "name": "stdout",
     "output_type": "stream",
     "text": [
      "Processing Validation/ValidationImages/4\n",
      "Found 70208 images belonging to 29 classes.\n",
      "Predicted class for Validation/ValidationImages/4/Image307.jpg: 4\n",
      "Predicted class for Validation/ValidationImages/4/Image308.jpg: 11\n",
      "Predicted class for Validation/ValidationImages/4/Image309.jpg: 4\n",
      "Predicted class for Validation/ValidationImages/4/Image310.jpg: 4\n",
      "Predicted class for Validation/ValidationImages/4/Image311.jpg: 11\n",
      "Predicted class for Validation/ValidationImages/4/Image312.jpg: 4\n",
      "Predicted class for Validation/ValidationImages/4/Image313.jpg: 4\n",
      "Predicted class for Validation/ValidationImages/4/Image314.jpg: 4\n",
      "Predicted class for Validation/ValidationImages/4/Image315.jpg: 4\n",
      "Predicted class for Validation/ValidationImages/4/Image316.jpg: 4\n",
      "Predicted class for Validation/ValidationImages/4/Image317.jpg: 4\n",
      "Predicted class for Validation/ValidationImages/4/Image318.jpg: 4\n",
      "Predicted class for Validation/ValidationImages/4/Image319.jpg: 4\n",
      "Predicted class for Validation/ValidationImages/4/Image320.jpg: 5\n",
      "Predicted class for Validation/ValidationImages/4/Image321.jpg: 4\n",
      "Predicted class for Validation/ValidationImages/4/Image322.jpg: 4\n",
      "Predicted class for Validation/ValidationImages/4/Image323.jpg: 4\n",
      "Predicted class for Validation/ValidationImages/4/Image324.jpg: 4\n",
      "Predicted class for Validation/ValidationImages/4/Image325.jpg: 4\n",
      "Predicted class for Validation/ValidationImages/4/Image326.jpg: 4\n",
      "Predicted class for Validation/ValidationImages/4/Image327.jpg: 4\n",
      "Predicted class for Validation/ValidationImages/4/Image328.jpg: 4\n",
      "Predicted class for Validation/ValidationImages/4/Image329.jpg: 4\n",
      "Predicted class for Validation/ValidationImages/4/Image330.jpg: 4\n",
      "Predicted class for Validation/ValidationImages/4/Image331.jpg: 5\n",
      "Predicted class for Validation/ValidationImages/4/Image332.jpg: 4\n",
      "Predicted class for Validation/ValidationImages/4/Image333.jpg: 4\n",
      "Predicted class for Validation/ValidationImages/4/Image334.jpg: 4\n",
      "Predicted class for Validation/ValidationImages/4/Image335.jpg: 4\n",
      "Predicted class for Validation/ValidationImages/4/Image336.jpg: 4\n",
      "Predicted class for Validation/ValidationImages/4/Image337.jpg: 5\n",
      "Predicted class for Validation/ValidationImages/4/Image338.jpg: 4\n",
      "Predicted class for Validation/ValidationImages/4/Image339.jpg: 4\n",
      "Predicted class for Validation/ValidationImages/4/Image340.jpg: 4\n",
      "Predicted class for Validation/ValidationImages/4/Image341.jpg: 29\n",
      "Predicted class for Validation/ValidationImages/4/Image342.jpg: 4\n",
      "Predicted class for Validation/ValidationImages/4/Image343.jpg: 4\n",
      "Predicted class for Validation/ValidationImages/4/Image344.jpg: 5\n",
      "Predicted class for Validation/ValidationImages/4/Image345.jpg: 4\n",
      "Predicted class for Validation/ValidationImages/4/Image346.jpg: 4\n",
      "Predicted class for Validation/ValidationImages/4/Image347.jpg: 4\n",
      "Predicted class for Validation/ValidationImages/4/Image348.jpg: 4\n",
      "Predicted class for Validation/ValidationImages/4/Image349.jpg: 4\n",
      "Predicted class for Validation/ValidationImages/4/Image350.jpg: 4\n",
      "Predicted class for Validation/ValidationImages/4/Image351.jpg: 4\n",
      "Predicted class for Validation/ValidationImages/4/Image352.jpg: 4\n",
      "Predicted class for Validation/ValidationImages/4/Image353.jpg: 4\n",
      "Predicted class for Validation/ValidationImages/4/Image354.jpg: 4\n",
      "Predicted class for Validation/ValidationImages/4/Image355.jpg: 4\n",
      "Predicted class for Validation/ValidationImages/4/Image356.jpg: 4\n",
      "Predicted class for Validation/ValidationImages/4/Image357.jpg: 5\n",
      "Predicted class for Validation/ValidationImages/4/Image358.jpg: 4\n",
      "Predicted class for Validation/ValidationImages/4/Image359.jpg: 4\n",
      "Predicted class for Validation/ValidationImages/4/Image360.jpg: 4\n",
      "Predicted class for Validation/ValidationImages/4/Image361.jpg: 4\n",
      "Predicted class for Validation/ValidationImages/4/Image362.jpg: 4\n",
      "Predicted class for Validation/ValidationImages/4/Image363.jpg: 4\n",
      "Predicted class for Validation/ValidationImages/4/Image364.jpg: 4\n",
      "Predicted class for Validation/ValidationImages/4/Image365.jpg: 4\n",
      "Predicted class for Validation/ValidationImages/4/Image366.jpg: 4\n",
      "Predicted class for Validation/ValidationImages/4/Image367.jpg: 5\n",
      "Predicted class for Validation/ValidationImages/4/Image368.jpg: 4\n",
      "Predicted class for Validation/ValidationImages/4/Image369.jpg: 4\n",
      "Predicted class for Validation/ValidationImages/4/Image370.jpg: 4\n",
      "Predicted class for Validation/ValidationImages/4/Image371.jpg: 4\n"
     ]
    }
   ],
   "source": [
    "root_folder = 'Validation/ValidationImages'\n",
    "sub_folder = '4'\n",
    "\n",
    "print('Processing {}'.format(os.path.join(root_folder, sub_folder)))\n",
    "list_of_files = os.listdir(os.path.join(root_folder, sub_folder))\n",
    "file_map = list(map(lambda fn: (int(re.findall(r'\\d+', fn)[0]), fn), list_of_files))\n",
    "file_map.sort(key=lambda tup: tup[0])\n",
    "\n",
    "train_gen = m._get_train_generator()\n",
    "class_index_label_map = {v: k for k, v in train_gen.class_indices.items()}\n",
    "\n",
    "for kpv in file_map:\n",
    "    img_number, img_name = kpv\n",
    "    file_path = os.path.join(root_folder, sub_folder, img_name)\n",
    "    img_data = load_img(file_path)\n",
    "    pred_class_index = keras_model.predict_classes(img_data)[0]\n",
    "    pred_class = class_index_label_map[pred_class_index]\n",
    "    print('Predicted class for {}: {}'.format(file_path, pred_class))"
   ]
  },
  {
   "cell_type": "code",
   "execution_count": null,
   "metadata": {},
   "outputs": [],
   "source": [
    "m = model.get_model()"
   ]
  },
  {
   "cell_type": "code",
   "execution_count": 15,
   "metadata": {},
   "outputs": [
    {
     "data": {
      "text/plain": [
       "array([[1.0000000e+00, 1.6351426e-22, 5.1903583e-19, 2.8252514e-22,\n",
       "        3.8527707e-16, 4.1434102e-17, 4.2498898e-20, 3.1328856e-11,\n",
       "        4.0766569e-15, 9.7212641e-21, 3.2881936e-22, 2.7124460e-18,\n",
       "        1.2407835e-17, 1.8426739e-22, 5.7879772e-23, 1.1537304e-17,\n",
       "        2.3177415e-19, 6.1233302e-17, 2.8890502e-16, 1.2250484e-22,\n",
       "        4.1878593e-23, 2.6905642e-13, 6.6451214e-22, 5.3675040e-22,\n",
       "        2.0615970e-21, 1.5743118e-17, 4.7195087e-22, 1.0654637e-18,\n",
       "        4.0811007e-18]], dtype=float32)"
      ]
     },
     "execution_count": 15,
     "metadata": {},
     "output_type": "execute_result"
    }
   ],
   "source": [
    "prediction"
   ]
  },
  {
   "cell_type": "code",
   "execution_count": null,
   "metadata": {},
   "outputs": [],
   "source": []
  },
  {
   "cell_type": "code",
   "execution_count": null,
   "metadata": {},
   "outputs": [],
   "source": [
    "y_predictions = np.zeros(y_validation.shape)\n",
    "\n",
    "root_folder = 'Validation/ValidationImages'\n",
    "\n",
    "for sub_folder in os.listdir(root_folder):\n",
    "    print('Processing {}'.format(sub_folder))\n",
    "    list_of_files = os.listdir(os.path.join(root_folder, sub_folder))\n",
    "    file_map = list(map(lambda fn: (int(re.findall(r'\\d+', fn)[0]), fn), list_of_files))\n",
    "    file_map.sort(key=lambda tup: tup[0])\n",
    "    \n",
    "    for kpv in file_map:\n",
    "        img_number, img_name = kpv\n",
    "        file_path = os.path.join(root_folder, sub_folder, img_name)\n",
    "        img_data = load_img(file_path)\n",
    "        prediction = m.predict(img_data)\n",
    "        predicted_class = prediction.argmax()+1\n",
    "        max_val = prediction.max()\n",
    "        y_predictions[img_number-1] = predicted_class\n",
    "    #print(y_predictions[img_number-10:img_number+10])\n",
    "    #print('Image number {}'.format(img_number))"
   ]
  },
  {
   "cell_type": "code",
   "execution_count": null,
   "metadata": {},
   "outputs": [],
   "source": [
    "y_predictions.min()"
   ]
  },
  {
   "cell_type": "code",
   "execution_count": null,
   "metadata": {},
   "outputs": [],
   "source": [
    "y_predictions.max()"
   ]
  },
  {
   "cell_type": "code",
   "execution_count": null,
   "metadata": {},
   "outputs": [],
   "source": [
    "y_validation.max()"
   ]
  },
  {
   "cell_type": "code",
   "execution_count": null,
   "metadata": {},
   "outputs": [],
   "source": [
    "y_pred = y_predictions.reshape(y_validation.shape[0])"
   ]
  },
  {
   "cell_type": "code",
   "execution_count": null,
   "metadata": {},
   "outputs": [],
   "source": [
    "np.unique(y_pred)"
   ]
  },
  {
   "cell_type": "code",
   "execution_count": null,
   "metadata": {},
   "outputs": [],
   "source": [
    "y_validation['label']"
   ]
  },
  {
   "cell_type": "code",
   "execution_count": null,
   "metadata": {},
   "outputs": [],
   "source": [
    "print(classification_report(y_validation['label'], y_predictions.reshape(y_validation.shape[0])))"
   ]
  },
  {
   "cell_type": "code",
   "execution_count": null,
   "metadata": {},
   "outputs": [],
   "source": [
    "data = []\n",
    "with open('model_04_train_history.txt') as f:\n",
    "    lines = f.readlines()\n",
    "for line in content:\n",
    "    matches = re.findall(r'epoch(\\d+)[^\\d]+(\\d+\\.\\d+)[^\\d]+(\\d+\\.\\d+)[^\\d]+(\\d+\\.\\d+)[^\\d]+(\\d+\\.\\d+)', line)\n",
    "    values = list(map(lambda v: float(v), matches[0]))\n",
    "    data.append(values)\n"
   ]
  },
  {
   "cell_type": "code",
   "execution_count": null,
   "metadata": {},
   "outputs": [],
   "source": [
    "data"
   ]
  },
  {
   "cell_type": "code",
   "execution_count": null,
   "metadata": {},
   "outputs": [],
   "source": [
    "line = content[0]"
   ]
  },
  {
   "cell_type": "code",
   "execution_count": null,
   "metadata": {},
   "outputs": [],
   "source": [
    "import re"
   ]
  },
  {
   "cell_type": "code",
   "execution_count": null,
   "metadata": {},
   "outputs": [],
   "source": [
    "matches = re.findall(r'epoch(\\d+)[^\\d]+(\\d+\\.\\d+)[^\\d]+(\\d+\\.\\d+)[^\\d]+(\\d+\\.\\d+)[^\\d]+(\\d+\\.\\d+)', line)"
   ]
  },
  {
   "cell_type": "code",
   "execution_count": null,
   "metadata": {},
   "outputs": [],
   "source": [
    "list(map(lambda v: float(v), matches[0]))"
   ]
  },
  {
   "cell_type": "code",
   "execution_count": null,
   "metadata": {},
   "outputs": [],
   "source": []
  }
 ],
 "metadata": {
  "kernelspec": {
   "display_name": "Python 3",
   "language": "python",
   "name": "python3"
  },
  "language_info": {
   "codemirror_mode": {
    "name": "ipython",
    "version": 3
   },
   "file_extension": ".py",
   "mimetype": "text/x-python",
   "name": "python",
   "nbconvert_exporter": "python",
   "pygments_lexer": "ipython3",
   "version": "3.6.5"
  }
 },
 "nbformat": 4,
 "nbformat_minor": 2
}
