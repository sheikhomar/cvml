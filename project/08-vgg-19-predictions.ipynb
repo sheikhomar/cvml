{
 "cells": [
  {
   "cell_type": "code",
   "execution_count": null,
   "metadata": {},
   "outputs": [],
   "source": [
    "from model_vgg19 import ModelVGG19\n",
    "import pandas as pd\n",
    "from sklearn.model_selection import cross_val_score\n",
    "from sklearn.metrics import classification_report\n",
    "import matplotlib.pyplot as plt\n",
    "import numpy as np\n",
    "import os\n",
    "import re\n",
    "\n",
    "from keras.applications.imagenet_utils import preprocess_input\n",
    "from keras.preprocessing import image\n",
    "from keras.utils import Sequence\n",
    "\n",
    "from sklearn.model_selection import cross_val_score\n",
    "from sklearn.metrics import classification_report"
   ]
  },
  {
   "cell_type": "code",
   "execution_count": null,
   "metadata": {},
   "outputs": [],
   "source": []
  },
  {
   "cell_type": "code",
   "execution_count": null,
   "metadata": {},
   "outputs": [],
   "source": [
    "m = ModelVGG19()"
   ]
  },
  {
   "cell_type": "code",
   "execution_count": null,
   "metadata": {},
   "outputs": [],
   "source": [
    "y_predictions = m.predict_validation(model_weights='saved_weights/vgg19-best-model.hdf5')"
   ]
  },
  {
   "cell_type": "code",
   "execution_count": null,
   "metadata": {},
   "outputs": [],
   "source": [
    "y_validation = pd.read_csv('Validation/valLbls.csv', header=None, names=['label'])"
   ]
  },
  {
   "cell_type": "code",
   "execution_count": null,
   "metadata": {},
   "outputs": [],
   "source": [
    "print(classification_report(y_validation, y_predictions))"
   ]
  },
  {
   "cell_type": "code",
   "execution_count": null,
   "metadata": {},
   "outputs": [],
   "source": []
  },
  {
   "cell_type": "code",
   "execution_count": null,
   "metadata": {},
   "outputs": [],
   "source": []
  },
  {
   "cell_type": "code",
   "execution_count": null,
   "metadata": {},
   "outputs": [],
   "source": []
  },
  {
   "cell_type": "code",
   "execution_count": null,
   "metadata": {},
   "outputs": [],
   "source": []
  },
  {
   "cell_type": "code",
   "execution_count": null,
   "metadata": {},
   "outputs": [],
   "source": []
  },
  {
   "cell_type": "code",
   "execution_count": null,
   "metadata": {},
   "outputs": [],
   "source": []
  },
  {
   "cell_type": "code",
   "execution_count": null,
   "metadata": {},
   "outputs": [],
   "source": []
  },
  {
   "cell_type": "code",
   "execution_count": null,
   "metadata": {},
   "outputs": [],
   "source": []
  },
  {
   "cell_type": "code",
   "execution_count": null,
   "metadata": {},
   "outputs": [],
   "source": []
  },
  {
   "cell_type": "code",
   "execution_count": null,
   "metadata": {},
   "outputs": [],
   "source": []
  },
  {
   "cell_type": "code",
   "execution_count": null,
   "metadata": {},
   "outputs": [],
   "source": []
  },
  {
   "cell_type": "code",
   "execution_count": null,
   "metadata": {},
   "outputs": [],
   "source": []
  },
  {
   "cell_type": "code",
   "execution_count": null,
   "metadata": {},
   "outputs": [],
   "source": []
  },
  {
   "cell_type": "code",
   "execution_count": null,
   "metadata": {},
   "outputs": [],
   "source": []
  },
  {
   "cell_type": "code",
   "execution_count": null,
   "metadata": {},
   "outputs": [],
   "source": []
  },
  {
   "cell_type": "code",
   "execution_count": null,
   "metadata": {},
   "outputs": [],
   "source": [
    "os.path.isfile('Validation/ValidationImages/4/Image997.jpg')"
   ]
  },
  {
   "cell_type": "code",
   "execution_count": null,
   "metadata": {},
   "outputs": [],
   "source": [
    "keras_model = m.load_model(model_weights='saved_weights/vgg19-best-model.hdf5')"
   ]
  },
  {
   "cell_type": "code",
   "execution_count": null,
   "metadata": {},
   "outputs": [],
   "source": []
  },
  {
   "cell_type": "code",
   "execution_count": null,
   "metadata": {},
   "outputs": [],
   "source": [
    "key_label_map = {v: k for k, v in train_gen.class_indices.items()}"
   ]
  },
  {
   "cell_type": "code",
   "execution_count": null,
   "metadata": {},
   "outputs": [],
   "source": [
    "score_arr = keras_model.evaluate_generator(val_gen)"
   ]
  },
  {
   "cell_type": "code",
   "execution_count": null,
   "metadata": {},
   "outputs": [],
   "source": [
    "print(\"Loss: \", score_arr[0], \"Accuracy: \", score_arr[1])"
   ]
  },
  {
   "cell_type": "code",
   "execution_count": null,
   "metadata": {},
   "outputs": [],
   "source": [
    "def load_img(img_path):\n",
    "    img = image.load_img(img_path, target_size=(256, 256))\n",
    "    x = image.img_to_array(img)\n",
    "    x = np.expand_dims(x, axis=0)\n",
    "    return x"
   ]
  },
  {
   "cell_type": "code",
   "execution_count": null,
   "metadata": {},
   "outputs": [],
   "source": [
    "root_folder = 'Validation/ValidationImages'\n",
    "sub_folder = '4'\n",
    "\n",
    "print('Processing {}'.format(os.path.join(root_folder, sub_folder)))\n",
    "list_of_files = os.listdir(os.path.join(root_folder, sub_folder))\n",
    "file_map = list(map(lambda fn: (int(re.findall(r'\\d+', fn)[0]), fn), list_of_files))\n",
    "file_map.sort(key=lambda tup: tup[0])\n",
    "\n",
    "train_gen = m._get_train_generator()\n",
    "class_index_label_map = {v: k for k, v in train_gen.class_indices.items()}\n",
    "\n",
    "for kpv in file_map:\n",
    "    img_number, img_name = kpv\n",
    "    file_path = os.path.join(root_folder, sub_folder, img_name)\n",
    "    img_data = load_img(file_path)\n",
    "    pred_class_index = keras_model.predict_classes(img_data)[0]\n",
    "    pred_class = class_index_label_map[pred_class_index]\n",
    "    print('Predicted class for {}: {}'.format(file_path, pred_class))"
   ]
  },
  {
   "cell_type": "code",
   "execution_count": null,
   "metadata": {},
   "outputs": [],
   "source": [
    "m = model.get_model()"
   ]
  },
  {
   "cell_type": "code",
   "execution_count": null,
   "metadata": {},
   "outputs": [],
   "source": [
    "os.path.isfile('Validation/ValidationImages/21/Image1804.jpg')"
   ]
  },
  {
   "cell_type": "code",
   "execution_count": null,
   "metadata": {},
   "outputs": [],
   "source": [
    "prediction"
   ]
  },
  {
   "cell_type": "code",
   "execution_count": null,
   "metadata": {},
   "outputs": [],
   "source": [
    "root_dir = m.validation_data_dir\n",
    "final_list = []\n",
    "i = 0\n",
    "for sub_dir in os.listdir(root_dir):\n",
    "    sub_dir_path = os.path.join(root_dir, sub_dir)\n",
    "    print(sub_dir_path)\n",
    "    list_of_files = os.listdir(sub_dir_path)\n",
    "    print(list_of_files)\n",
    "    \n",
    "    file_maps = map(lambda fn: (int(re.findall(r'\\d+', fn)[0]), os.path.join(sub_dir_path, fn)), list_of_files)\n",
    "    final_list.append(file_maps)\n",
    "    print('Processing {}'.format(sub_dir_path))\n",
    "    i += 1\n",
    "    if i > 2:\n",
    "        break\n",
    "flatten_list = [item for sublist in final_list for item in sublist]\n",
    "flatten_list"
   ]
  },
  {
   "cell_type": "code",
   "execution_count": null,
   "metadata": {},
   "outputs": [],
   "source": [
    "flatten_list"
   ]
  },
  {
   "cell_type": "code",
   "execution_count": null,
   "metadata": {},
   "outputs": [],
   "source": [
    "y_validation.shape"
   ]
  },
  {
   "cell_type": "code",
   "execution_count": null,
   "metadata": {},
   "outputs": [],
   "source": [
    "len(flatten_list)"
   ]
  },
  {
   "cell_type": "code",
   "execution_count": null,
   "metadata": {},
   "outputs": [],
   "source": [
    "y_predictions = np.zeros(y_validation.shape)\n",
    "\n",
    "root_folder = 'Validation/ValidationImages'\n",
    "\n",
    "for sub_folder in os.listdir(root_folder):\n",
    "    print('Processing {}'.format(sub_folder))\n",
    "    list_of_files = os.listdir(os.path.join(root_folder, sub_folder))\n",
    "    file_map = list(map(lambda fn: (int(re.findall(r'\\d+', fn)[0]), fn), list_of_files))\n",
    "    file_map.sort(key=lambda tup: tup[0])\n",
    "    \n",
    "    for kpv in file_map:\n",
    "        img_number, img_name = kpv\n",
    "        file_path = os.path.join(root_folder, sub_folder, img_name)\n",
    "        img_data = load_img(file_path)\n",
    "        prediction = m.predict(img_data)\n",
    "        predicted_class = prediction.argmax()+1\n",
    "        max_val = prediction.max()\n",
    "        y_predictions[img_number-1] = predicted_class\n",
    "    #print(y_predictions[img_number-10:img_number+10])\n",
    "    #print('Image number {}'.format(img_number))"
   ]
  },
  {
   "cell_type": "code",
   "execution_count": null,
   "metadata": {},
   "outputs": [],
   "source": [
    "y_predictions.min()"
   ]
  },
  {
   "cell_type": "code",
   "execution_count": null,
   "metadata": {},
   "outputs": [],
   "source": [
    "y_predictions.max()"
   ]
  },
  {
   "cell_type": "code",
   "execution_count": null,
   "metadata": {},
   "outputs": [],
   "source": [
    "y_validation.max()"
   ]
  },
  {
   "cell_type": "code",
   "execution_count": null,
   "metadata": {},
   "outputs": [],
   "source": [
    "y_pred = y_predictions.reshape(y_validation.shape[0])"
   ]
  },
  {
   "cell_type": "code",
   "execution_count": null,
   "metadata": {},
   "outputs": [],
   "source": [
    "np.unique(y_pred)"
   ]
  },
  {
   "cell_type": "code",
   "execution_count": null,
   "metadata": {},
   "outputs": [],
   "source": [
    "y_validation['label']"
   ]
  },
  {
   "cell_type": "code",
   "execution_count": null,
   "metadata": {},
   "outputs": [],
   "source": [
    "print(classification_report(y_validation['label'], y_predictions.reshape(y_validation.shape[0])))"
   ]
  },
  {
   "cell_type": "code",
   "execution_count": null,
   "metadata": {},
   "outputs": [],
   "source": [
    "data = []\n",
    "with open('model_04_train_history.txt') as f:\n",
    "    lines = f.readlines()\n",
    "for line in content:\n",
    "    matches = re.findall(r'epoch(\\d+)[^\\d]+(\\d+\\.\\d+)[^\\d]+(\\d+\\.\\d+)[^\\d]+(\\d+\\.\\d+)[^\\d]+(\\d+\\.\\d+)', line)\n",
    "    values = list(map(lambda v: float(v), matches[0]))\n",
    "    data.append(values)\n"
   ]
  },
  {
   "cell_type": "code",
   "execution_count": null,
   "metadata": {},
   "outputs": [],
   "source": [
    "data"
   ]
  },
  {
   "cell_type": "code",
   "execution_count": null,
   "metadata": {},
   "outputs": [],
   "source": [
    "line = content[0]"
   ]
  },
  {
   "cell_type": "code",
   "execution_count": null,
   "metadata": {},
   "outputs": [],
   "source": [
    "import re"
   ]
  },
  {
   "cell_type": "code",
   "execution_count": null,
   "metadata": {},
   "outputs": [],
   "source": [
    "matches = re.findall(r'epoch(\\d+)[^\\d]+(\\d+\\.\\d+)[^\\d]+(\\d+\\.\\d+)[^\\d]+(\\d+\\.\\d+)[^\\d]+(\\d+\\.\\d+)', line)"
   ]
  },
  {
   "cell_type": "code",
   "execution_count": null,
   "metadata": {},
   "outputs": [],
   "source": [
    "list(map(lambda v: float(v), matches[0]))"
   ]
  },
  {
   "cell_type": "code",
   "execution_count": null,
   "metadata": {},
   "outputs": [],
   "source": []
  },
  {
   "cell_type": "code",
   "execution_count": null,
   "metadata": {},
   "outputs": [],
   "source": []
  },
  {
   "cell_type": "code",
   "execution_count": null,
   "metadata": {},
   "outputs": [],
   "source": []
  },
  {
   "cell_type": "code",
   "execution_count": 9,
   "metadata": {},
   "outputs": [],
   "source": [
    "import time\n",
    "import sys\n",
    "\n",
    "def show_progress_bar(iteration, total, barLength=50):\n",
    "    percent = int(round((iteration / total) * 100))\n",
    "    nb_bar_fill = int(round((barLength * percent) / 100))\n",
    "    bar_fill = '#' * nb_bar_fill\n",
    "    bar_empty = ' ' * (barLength - nb_bar_fill)\n",
    "    sys.stdout.write(\"\\r  [{0}] {1}%\".format(str(bar_fill + bar_empty), percent))\n",
    "    sys.stdout.flush()\n",
    "    \n",
    "def bar_example():\n",
    "    for i in range(100):\n",
    "        time.sleep(0.1)\n",
    "        progress_bar(i, 2000)\n",
    "        "
   ]
  },
  {
   "cell_type": "code",
   "execution_count": 10,
   "metadata": {},
   "outputs": [
    {
     "name": "stdout",
     "output_type": "stream",
     "text": [
      "  [##                                                ] 5%"
     ]
    }
   ],
   "source": [
    "bar_example()"
   ]
  },
  {
   "cell_type": "code",
   "execution_count": null,
   "metadata": {},
   "outputs": [],
   "source": []
  }
 ],
 "metadata": {
  "kernelspec": {
   "display_name": "Python 3",
   "language": "python",
   "name": "python3"
  },
  "language_info": {
   "codemirror_mode": {
    "name": "ipython",
    "version": 3
   },
   "file_extension": ".py",
   "mimetype": "text/x-python",
   "name": "python",
   "nbconvert_exporter": "python",
   "pygments_lexer": "ipython3",
   "version": "3.6.5"
  }
 },
 "nbformat": 4,
 "nbformat_minor": 2
}
