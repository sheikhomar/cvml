{
 "cells": [
  {
   "cell_type": "markdown",
   "metadata": {},
   "source": [
    "# LDA"
   ]
  },
  {
   "cell_type": "code",
   "execution_count": 30,
   "metadata": {},
   "outputs": [],
   "source": [
    "from time import time\n",
    "\n",
    "import numpy as np\n",
    "import pandas as pd\n",
    "import matplotlib.pyplot as plt\n",
    "import seaborn as sns\n",
    "\n",
    "%matplotlib inline\n",
    "\n",
    "from sklearn.discriminant_analysis import LinearDiscriminantAnalysis\n",
    "from sklearn.discriminant_analysis import QuadraticDiscriminantAnalysis\n",
    "from sklearn.preprocessing import StandardScaler\n",
    "from sklearn.preprocessing import MinMaxScaler\n",
    "from sklearn.preprocessing import QuantileTransformer\n",
    "from sklearn.pipeline import Pipeline\n",
    "\n",
    "from sklearn.model_selection import cross_val_score, cross_val_predict, StratifiedKFold\n",
    "from sklearn.metrics import classification_report\n",
    "from sklearn.metrics import accuracy_score"
   ]
  },
  {
   "cell_type": "code",
   "execution_count": 2,
   "metadata": {},
   "outputs": [],
   "source": [
    "def write_predictions(predictions, file_name='pred.csv'):\n",
    "    with open(file_name, 'w') as file:\n",
    "        file.write('ID,Label')\n",
    "        for index, value in enumerate(predictions):\n",
    "            file.write('\\n{0},{1}'.format(index+1, value))"
   ]
  },
  {
   "cell_type": "code",
   "execution_count": 3,
   "metadata": {},
   "outputs": [],
   "source": [
    "X_train = pd.read_csv('Train/trainVectors.csv', header=None).transpose()\n",
    "y_train = pd.read_csv('Train/trainLbls.csv', header=None, names=['label'])\n",
    "\n",
    "X_validation = pd.read_csv('Validation/valVectors.csv', header=None).transpose()\n",
    "y_validation = pd.read_csv('Validation/valLbls.csv', header=None, names=['label'])\n",
    "\n",
    "X = pd.concat([X_train, X_validation]).reset_index(drop=True)\n",
    "y = pd.concat([y_train, y_validation]).reset_index(drop=True)['label']\n",
    "\n",
    "y_train = y_train['label']\n",
    "y_validation = y_validation['label']\n",
    "\n",
    "X_test = pd.read_csv('Test/testVectors.csv', header=None).transpose()"
   ]
  },
  {
   "cell_type": "code",
   "execution_count": null,
   "metadata": {},
   "outputs": [],
   "source": [
    "estimator = LinearDiscriminantAnalysis()\n",
    "estimator.fit(X_train, y_train)\n",
    "y_validation_predictions = estimator.predict(X_validation)\n",
    "print('Validation Accuracy: %s' % accuracy_score(y_validation, y_validation_predictions))\n",
    "y_test_predictions = estimator.predict(X_test)\n",
    "write_predictions(y_test_predictions, 'simple_model_results/test-pred-lda-vanilla.csv')"
   ]
  },
  {
   "cell_type": "code",
   "execution_count": 23,
   "metadata": {},
   "outputs": [
    {
     "data": {
      "text/plain": [
       "1526140216.0276356"
      ]
     },
     "execution_count": 23,
     "metadata": {},
     "output_type": "execute_result"
    }
   ],
   "source": [
    "time()"
   ]
  },
  {
   "cell_type": "code",
   "execution_count": 27,
   "metadata": {},
   "outputs": [
    {
     "name": "stdout",
     "output_type": "stream",
     "text": [
      "(8128, 4096)\n",
      "Fold contains 7304 training samples and 824 validation samples.\n",
      " Training time: 83 s\n",
      " Prediction accuracy: 0.808252427184466 \n",
      "Fold contains 7304 training samples and 824 validation samples.\n",
      " Training time: 71 s\n",
      " Prediction accuracy: 0.7924757281553398 \n",
      "Fold contains 7308 training samples and 820 validation samples.\n",
      " Training time: 71 s\n",
      " Prediction accuracy: 0.774390243902439 \n",
      "Fold contains 7308 training samples and 820 validation samples.\n",
      " Training time: 71 s\n",
      " Prediction accuracy: 0.7841463414634147 \n",
      "Fold contains 7317 training samples and 811 validation samples.\n"
     ]
    },
    {
     "name": "stderr",
     "output_type": "stream",
     "text": [
      "/home/omar/anaconda3/envs/cvml/lib/python3.6/site-packages/sklearn/discriminant_analysis.py:442: UserWarning: The priors do not sum to 1. Renormalizing\n",
      "  UserWarning)\n"
     ]
    },
    {
     "name": "stdout",
     "output_type": "stream",
     "text": [
      " Training time: 71 s\n",
      " Prediction accuracy: 0.8014796547472256 \n",
      "Fold contains 7317 training samples and 811 validation samples.\n",
      " Training time: 71 s\n",
      " Prediction accuracy: 0.7928483353884094 \n",
      "Fold contains 7321 training samples and 807 validation samples.\n",
      " Training time: 73 s\n",
      " Prediction accuracy: 0.8178438661710037 \n",
      "Fold contains 7321 training samples and 807 validation samples.\n",
      " Training time: 70 s\n",
      " Prediction accuracy: 0.748451053283767 \n",
      "Fold contains 7326 training samples and 802 validation samples.\n",
      " Training time: 71 s\n",
      " Prediction accuracy: 0.7418952618453866 \n",
      "Fold contains 7326 training samples and 802 validation samples.\n",
      " Training time: 70 s\n",
      " Prediction accuracy: 0.729426433915212 \n",
      "Mean score 0.7791209346056664 (0.028387292189462832)\n"
     ]
    }
   ],
   "source": [
    "cv = StratifiedKFold(10)\n",
    "scores = []\n",
    "estimators = []\n",
    "\n",
    "for train_index, val_index in cv.split(X, y):\n",
    "    start_time = time()\n",
    "    X_train, X_val = X.iloc[train_index], X.iloc[val_index]\n",
    "    y_train, y_val = y.iloc[train_index], y.iloc[val_index]\n",
    "    print('Fold contains {} training samples and {} validation samples.'.format(X_train.shape[0], X_val.shape[0]))\n",
    "    \n",
    "    estimator = LinearDiscriminantAnalysis()\n",
    "    estimator.fit(X_train, y_train)\n",
    "    print(' Training time: {} s'.format(round(time() - start_time)))\n",
    "    \n",
    "    y_val_pred = estimator.predict(X_val)\n",
    "    acc = accuracy_score(y_val, y_val_pred)\n",
    "    print(' Prediction accuracy: {0:.5f} '.format(acc))\n",
    "    \n",
    "    scores.append(acc)\n",
    "    estimators.append(estimator)\n",
    "\n",
    "mean_score = np.mean(scores)\n",
    "stdev = np.std(scores)\n",
    "print('Mean score {0:.5f}. Standard deviation: {1:.3f})'.format(mean_score, stdev))"
   ]
  },
  {
   "cell_type": "code",
   "execution_count": null,
   "metadata": {},
   "outputs": [],
   "source": []
  },
  {
   "cell_type": "code",
   "execution_count": 29,
   "metadata": {},
   "outputs": [
    {
     "name": "stdout",
     "output_type": "stream",
     "text": [
      "Fold contains 7304 training samples and 824 validation samples.\n",
      " Training time: 78 s\n",
      " Prediction accuracy: 0.76335 \n",
      "Fold contains 7304 training samples and 824 validation samples.\n",
      " Training time: 78 s\n",
      " Prediction accuracy: 0.75728 \n",
      "Fold contains 7308 training samples and 820 validation samples.\n",
      " Training time: 79 s\n",
      " Prediction accuracy: 0.72073 \n",
      "Fold contains 7308 training samples and 820 validation samples.\n",
      " Training time: 78 s\n",
      " Prediction accuracy: 0.74024 \n",
      "Fold contains 7317 training samples and 811 validation samples.\n"
     ]
    },
    {
     "name": "stderr",
     "output_type": "stream",
     "text": [
      "/home/omar/anaconda3/envs/cvml/lib/python3.6/site-packages/sklearn/discriminant_analysis.py:442: UserWarning: The priors do not sum to 1. Renormalizing\n",
      "  UserWarning)\n"
     ]
    },
    {
     "name": "stdout",
     "output_type": "stream",
     "text": [
      " Training time: 78 s\n",
      " Prediction accuracy: 0.75339 \n",
      "Fold contains 7317 training samples and 811 validation samples.\n"
     ]
    },
    {
     "name": "stderr",
     "output_type": "stream",
     "text": [
      "/home/omar/anaconda3/envs/cvml/lib/python3.6/site-packages/sklearn/discriminant_analysis.py:442: UserWarning: The priors do not sum to 1. Renormalizing\n",
      "  UserWarning)\n"
     ]
    },
    {
     "name": "stdout",
     "output_type": "stream",
     "text": [
      " Training time: 78 s\n",
      " Prediction accuracy: 0.73613 \n",
      "Fold contains 7321 training samples and 807 validation samples.\n",
      " Training time: 78 s\n",
      " Prediction accuracy: 0.75836 \n",
      "Fold contains 7321 training samples and 807 validation samples.\n",
      " Training time: 78 s\n",
      " Prediction accuracy: 0.71623 \n",
      "Fold contains 7326 training samples and 802 validation samples.\n"
     ]
    },
    {
     "name": "stderr",
     "output_type": "stream",
     "text": [
      "/home/omar/anaconda3/envs/cvml/lib/python3.6/site-packages/sklearn/discriminant_analysis.py:442: UserWarning: The priors do not sum to 1. Renormalizing\n",
      "  UserWarning)\n"
     ]
    },
    {
     "name": "stdout",
     "output_type": "stream",
     "text": [
      " Training time: 79 s\n",
      " Prediction accuracy: 0.69576 \n",
      "Fold contains 7326 training samples and 802 validation samples.\n"
     ]
    },
    {
     "name": "stderr",
     "output_type": "stream",
     "text": [
      "/home/omar/anaconda3/envs/cvml/lib/python3.6/site-packages/sklearn/discriminant_analysis.py:442: UserWarning: The priors do not sum to 1. Renormalizing\n",
      "  UserWarning)\n"
     ]
    },
    {
     "name": "stdout",
     "output_type": "stream",
     "text": [
      " Training time: 79 s\n",
      " Prediction accuracy: 0.67207 \n",
      "Mean score 0.73136. Standard deviation: 0.029)\n"
     ]
    }
   ],
   "source": [
    "cv = StratifiedKFold(10)\n",
    "scores = []\n",
    "estimators = []\n",
    "\n",
    "for train_index, val_index in cv.split(X, y):\n",
    "    start_time = time()\n",
    "    X_train, X_val = X.iloc[train_index], X.iloc[val_index]\n",
    "    y_train, y_val = y.iloc[train_index], y.iloc[val_index]\n",
    "    print('Fold contains {} training samples and {} validation samples.'.format(X_train.shape[0], X_val.shape[0]))\n",
    "    \n",
    "    estimator = Pipeline([\n",
    "        ('transformer', QuantileTransformer(output_distribution='normal')), \n",
    "        ('lda', LinearDiscriminantAnalysis())\n",
    "    ])\n",
    "    estimator.fit(X_train, y_train)\n",
    "    print(' Training time: {} s'.format(round(time() - start_time)))\n",
    "    \n",
    "    y_val_pred = estimator.predict(X_val)\n",
    "    acc = accuracy_score(y_val, y_val_pred)\n",
    "    print(' Prediction accuracy: {0:.5f} '.format(acc))\n",
    "    \n",
    "    scores.append(acc)\n",
    "    estimators.append(estimator)\n",
    "\n",
    "mean_score = np.mean(scores)\n",
    "stdev = np.std(scores)\n",
    "print('Mean score {0:.5f}. Standard deviation: {1:.3f})'.format(mean_score, stdev))"
   ]
  },
  {
   "cell_type": "code",
   "execution_count": 31,
   "metadata": {},
   "outputs": [
    {
     "name": "stdout",
     "output_type": "stream",
     "text": [
      "Fold contains 7304 training samples and 824 validation samples.\n"
     ]
    },
    {
     "name": "stderr",
     "output_type": "stream",
     "text": [
      "/home/omar/anaconda3/envs/cvml/lib/python3.6/site-packages/sklearn/discriminant_analysis.py:682: UserWarning: Variables are collinear\n",
      "  warnings.warn(\"Variables are collinear\")\n"
     ]
    },
    {
     "name": "stdout",
     "output_type": "stream",
     "text": [
      " Training time: 7 s\n",
      " Prediction accuracy: 0.07888 \n",
      "Fold contains 7304 training samples and 824 validation samples.\n",
      " Training time: 8 s\n",
      " Prediction accuracy: 0.05218 \n",
      "Fold contains 7308 training samples and 820 validation samples.\n",
      " Training time: 8 s\n",
      " Prediction accuracy: 0.07927 \n",
      "Fold contains 7308 training samples and 820 validation samples.\n",
      " Training time: 8 s\n",
      " Prediction accuracy: 0.06829 \n",
      "Fold contains 7317 training samples and 811 validation samples.\n",
      " Training time: 10 s\n",
      " Prediction accuracy: 0.07152 \n",
      "Fold contains 7317 training samples and 811 validation samples.\n",
      " Training time: 7 s\n",
      " Prediction accuracy: 0.07645 \n",
      "Fold contains 7321 training samples and 807 validation samples.\n",
      " Training time: 7 s\n",
      " Prediction accuracy: 0.05948 \n",
      "Fold contains 7321 training samples and 807 validation samples.\n",
      " Training time: 7 s\n",
      " Prediction accuracy: 0.06320 \n",
      "Fold contains 7326 training samples and 802 validation samples.\n",
      " Training time: 7 s\n",
      " Prediction accuracy: 0.09102 \n",
      "Fold contains 7326 training samples and 802 validation samples.\n",
      " Training time: 7 s\n",
      " Prediction accuracy: 0.07731 \n",
      "Mean score 0.07176. Standard deviation: 0.011)\n"
     ]
    }
   ],
   "source": [
    "cv = StratifiedKFold(10)\n",
    "scores = []\n",
    "estimators = []\n",
    "\n",
    "for train_index, val_index in cv.split(X, y):\n",
    "    start_time = time()\n",
    "    X_train, X_val = X.iloc[train_index], X.iloc[val_index]\n",
    "    y_train, y_val = y.iloc[train_index], y.iloc[val_index]\n",
    "    print('Fold contains {} training samples and {} validation samples.'.format(X_train.shape[0], X_val.shape[0]))\n",
    "    \n",
    "    estimator = QuadraticDiscriminantAnalysis()\n",
    "    estimator.fit(X_train, y_train)\n",
    "    print(' Training time: {} s'.format(round(time() - start_time)))\n",
    "    \n",
    "    y_val_pred = estimator.predict(X_val)\n",
    "    acc = accuracy_score(y_val, y_val_pred)\n",
    "    print(' Prediction accuracy: {0:.5f} '.format(acc))\n",
    "    \n",
    "    scores.append(acc)\n",
    "    estimators.append(estimator)\n",
    "\n",
    "mean_score = np.mean(scores)\n",
    "stdev = np.std(scores)\n",
    "print('Mean score {0:.5f}. Standard deviation: {1:.3f})'.format(mean_score, stdev))"
   ]
  },
  {
   "cell_type": "code",
   "execution_count": null,
   "metadata": {},
   "outputs": [],
   "source": []
  }
 ],
 "metadata": {
  "kernelspec": {
   "display_name": "Python 3",
   "language": "python",
   "name": "python3"
  },
  "language_info": {
   "codemirror_mode": {
    "name": "ipython",
    "version": 3
   },
   "file_extension": ".py",
   "mimetype": "text/x-python",
   "name": "python",
   "nbconvert_exporter": "python",
   "pygments_lexer": "ipython3",
   "version": "3.6.5"
  }
 },
 "nbformat": 4,
 "nbformat_minor": 2
}
