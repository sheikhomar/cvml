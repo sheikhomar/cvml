{
 "cells": [
  {
   "cell_type": "markdown",
   "metadata": {},
   "source": [
    "# VGG 19"
   ]
  },
  {
   "cell_type": "code",
   "execution_count": 1,
   "metadata": {
    "ExecuteTime": {
     "end_time": "2018-04-08T06:35:42.850248Z",
     "start_time": "2018-04-08T06:35:38.665235Z"
    }
   },
   "outputs": [
    {
     "name": "stderr",
     "output_type": "stream",
     "text": [
      "/home/omar/anaconda3/envs/cvml/lib/python3.6/site-packages/h5py/__init__.py:36: FutureWarning: Conversion of the second argument of issubdtype from `float` to `np.floating` is deprecated. In future, it will be treated as `np.float64 == np.dtype(float).type`.\n",
      "  from ._conv import register_converters as _register_converters\n",
      "Using TensorFlow backend.\n"
     ]
    }
   ],
   "source": [
    "from model_vgg19 import ModelVGG19\n",
    "import pandas as pd\n",
    "from sklearn.model_selection import cross_val_score\n",
    "from sklearn.metrics import classification_report"
   ]
  },
  {
   "cell_type": "code",
   "execution_count": 2,
   "metadata": {},
   "outputs": [],
   "source": [
    "model = ModelVGG19()"
   ]
  },
  {
   "cell_type": "code",
   "execution_count": 4,
   "metadata": {},
   "outputs": [
    {
     "name": "stdout",
     "output_type": "stream",
     "text": [
      "Creating model...\n",
      "Loading weights from saved_weights/vgg19-best-model.hdf5...\n",
      "Compiling...\n",
      "Found 70208 images belonging to 29 classes.\n"
     ]
    }
   ],
   "source": [
    "y_validation_predictions = model.predict_validation(model_weights='saved_weights/vgg19-best-model.hdf5')"
   ]
  },
  {
   "cell_type": "code",
   "execution_count": 5,
   "metadata": {},
   "outputs": [],
   "source": [
    "y_validation = pd.read_csv('Validation/valLbls.csv', header=None, names=['label'])['label']"
   ]
  },
  {
   "cell_type": "code",
   "execution_count": 6,
   "metadata": {},
   "outputs": [
    {
     "name": "stdout",
     "output_type": "stream",
     "text": [
      "             precision    recall  f1-score   support\n",
      "\n",
      "          1       0.99      1.00      1.00       116\n",
      "          2       0.63      0.68      0.65        96\n",
      "          3       0.76      0.83      0.79        94\n",
      "          4       0.93      0.88      0.91        92\n",
      "          5       0.77      0.97      0.85        88\n",
      "          6       0.71      0.61      0.65        92\n",
      "          7       0.73      0.55      0.63        92\n",
      "          8       0.80      0.65      0.72        88\n",
      "          9       0.90      0.84      0.87        88\n",
      "         10       0.76      0.80      0.78        82\n",
      "         11       0.85      0.95      0.90        86\n",
      "         12       0.86      0.81      0.83        80\n",
      "         13       0.82      0.94      0.87        80\n",
      "         14       0.88      0.74      0.81        82\n",
      "         15       0.79      0.70      0.74        82\n",
      "         16       0.71      0.94      0.81        82\n",
      "         17       0.95      0.96      0.96        80\n",
      "         18       0.91      0.90      0.91        80\n",
      "         19       0.95      0.92      0.94        78\n",
      "         20       0.54      0.72      0.62        74\n",
      "         21       0.93      0.89      0.91        76\n",
      "         22       0.79      0.81      0.80        74\n",
      "         23       0.91      0.80      0.85        66\n",
      "         24       0.82      0.74      0.77        72\n",
      "         25       0.63      0.34      0.44        64\n",
      "         26       0.79      0.91      0.85        66\n",
      "         27       0.93      0.98      0.96        56\n",
      "         28       0.87      0.87      0.87        52\n",
      "         29       0.72      0.82      0.77        40\n",
      "\n",
      "avg / total       0.82      0.81      0.81      2298\n",
      "\n"
     ]
    }
   ],
   "source": [
    "print(classification_report(y_validation, y_validation_predictions))"
   ]
  },
  {
   "cell_type": "code",
   "execution_count": 7,
   "metadata": {},
   "outputs": [
    {
     "name": "stdout",
     "output_type": "stream",
     "text": [
      "Creating model...\n",
      "Loading weights from saved_weights/vgg19-best-model.hdf5...\n",
      "Compiling...\n",
      "Found 70208 images belonging to 29 classes.\n"
     ]
    }
   ],
   "source": [
    "y_test_predictions = model.predict_test(model_weights='saved_weights/vgg19-best-model.hdf5')"
   ]
  },
  {
   "cell_type": "code",
   "execution_count": 12,
   "metadata": {},
   "outputs": [],
   "source": [
    "model.write_predictions(y_test_predictions, 'test-pred-model-04-vgg19-type-4.csv')"
   ]
  },
  {
   "cell_type": "code",
   "execution_count": null,
   "metadata": {},
   "outputs": [],
   "source": []
  }
 ],
 "metadata": {
  "kernelspec": {
   "display_name": "Python 3",
   "language": "python",
   "name": "python3"
  },
  "language_info": {
   "codemirror_mode": {
    "name": "ipython",
    "version": 3
   },
   "file_extension": ".py",
   "mimetype": "text/x-python",
   "name": "python",
   "nbconvert_exporter": "python",
   "pygments_lexer": "ipython3",
   "version": "3.6.5"
  },
  "toc": {
   "colors": {
    "hover_highlight": "#DAA520",
    "navigate_num": "#000000",
    "navigate_text": "#333333",
    "running_highlight": "#FF0000",
    "selected_highlight": "#FFD700",
    "sidebar_border": "#EEEEEE",
    "wrapper_background": "#FFFFFF"
   },
   "moveMenuLeft": true,
   "nav_menu": {
    "height": "30px",
    "width": "252px"
   },
   "navigate_menu": true,
   "number_sections": true,
   "sideBar": true,
   "threshold": 4.0,
   "toc_cell": false,
   "toc_section_display": "block",
   "toc_window_display": false,
   "widenNotebook": false
  }
 },
 "nbformat": 4,
 "nbformat_minor": 2
}
