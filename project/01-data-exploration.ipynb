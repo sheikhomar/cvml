{
 "cells": [
  {
   "cell_type": "markdown",
   "metadata": {},
   "source": [
    "# Exploring dataset"
   ]
  },
  {
   "cell_type": "code",
   "execution_count": 1,
   "metadata": {},
   "outputs": [],
   "source": [
    "import numpy as np\n",
    "import pandas as pd\n",
    "import matplotlib.pyplot as plt\n",
    "import seaborn as sns\n",
    "import matplotlib.dates as mdates"
   ]
  },
  {
   "cell_type": "code",
   "execution_count": 4,
   "metadata": {},
   "outputs": [],
   "source": [
    "#column_names = ['domain', 'alexa_rank', 'rank', 'date']\n",
    "df_labels = pd.read_csv('Train/trainLbls.csv')"
   ]
  },
  {
   "cell_type": "code",
   "execution_count": 7,
   "metadata": {},
   "outputs": [
    {
     "data": {
      "text/html": [
       "<div>\n",
       "<style scoped>\n",
       "    .dataframe tbody tr th:only-of-type {\n",
       "        vertical-align: middle;\n",
       "    }\n",
       "\n",
       "    .dataframe tbody tr th {\n",
       "        vertical-align: top;\n",
       "    }\n",
       "\n",
       "    .dataframe thead th {\n",
       "        text-align: right;\n",
       "    }\n",
       "</style>\n",
       "<table border=\"1\" class=\"dataframe\">\n",
       "  <thead>\n",
       "    <tr style=\"text-align: right;\">\n",
       "      <th></th>\n",
       "      <th>1</th>\n",
       "    </tr>\n",
       "  </thead>\n",
       "  <tbody>\n",
       "    <tr>\n",
       "      <th>0</th>\n",
       "      <td>1</td>\n",
       "    </tr>\n",
       "    <tr>\n",
       "      <th>1</th>\n",
       "      <td>1</td>\n",
       "    </tr>\n",
       "    <tr>\n",
       "      <th>2</th>\n",
       "      <td>1</td>\n",
       "    </tr>\n",
       "    <tr>\n",
       "      <th>3</th>\n",
       "      <td>1</td>\n",
       "    </tr>\n",
       "    <tr>\n",
       "      <th>4</th>\n",
       "      <td>1</td>\n",
       "    </tr>\n",
       "  </tbody>\n",
       "</table>\n",
       "</div>"
      ],
      "text/plain": [
       "   1\n",
       "0  1\n",
       "1  1\n",
       "2  1\n",
       "3  1\n",
       "4  1"
      ]
     },
     "execution_count": 7,
     "metadata": {},
     "output_type": "execute_result"
    }
   ],
   "source": [
    "df.head()"
   ]
  },
  {
   "cell_type": "code",
   "execution_count": 8,
   "metadata": {},
   "outputs": [
    {
     "name": "stdout",
     "output_type": "stream",
     "text": [
      "<class 'pandas.core.frame.DataFrame'>\n",
      "RangeIndex: 5829 entries, 0 to 5828\n",
      "Data columns (total 1 columns):\n",
      "1    5829 non-null int64\n",
      "dtypes: int64(1)\n",
      "memory usage: 45.6 KB\n"
     ]
    }
   ],
   "source": [
    "df.info()"
   ]
  },
  {
   "cell_type": "code",
   "execution_count": 11,
   "metadata": {},
   "outputs": [],
   "source": [
    "df = pd.read_csv('Train/trainVectors.csv', header=0)"
   ]
  },
  {
   "cell_type": "code",
   "execution_count": 13,
   "metadata": {},
   "outputs": [
    {
     "data": {
      "text/html": [
       "<div>\n",
       "<style scoped>\n",
       "    .dataframe tbody tr th:only-of-type {\n",
       "        vertical-align: middle;\n",
       "    }\n",
       "\n",
       "    .dataframe tbody tr th {\n",
       "        vertical-align: top;\n",
       "    }\n",
       "\n",
       "    .dataframe thead th {\n",
       "        text-align: right;\n",
       "    }\n",
       "</style>\n",
       "<table border=\"1\" class=\"dataframe\">\n",
       "  <thead>\n",
       "    <tr style=\"text-align: right;\">\n",
       "      <th></th>\n",
       "      <th>0</th>\n",
       "      <th>0.1</th>\n",
       "      <th>0.2</th>\n",
       "      <th>0.3</th>\n",
       "      <th>0.4</th>\n",
       "      <th>0.5</th>\n",
       "      <th>0.6</th>\n",
       "      <th>0.7</th>\n",
       "      <th>0.8</th>\n",
       "      <th>0.9</th>\n",
       "      <th>...</th>\n",
       "      <th>0.5366</th>\n",
       "      <th>0.5367</th>\n",
       "      <th>0.5368</th>\n",
       "      <th>0.5369</th>\n",
       "      <th>0.5370</th>\n",
       "      <th>0.5371</th>\n",
       "      <th>0.5372</th>\n",
       "      <th>0.5373</th>\n",
       "      <th>0.5374</th>\n",
       "      <th>0.76197</th>\n",
       "    </tr>\n",
       "  </thead>\n",
       "  <tbody>\n",
       "    <tr>\n",
       "      <th>0</th>\n",
       "      <td>5.78900</td>\n",
       "      <td>3.94990</td>\n",
       "      <td>3.8154</td>\n",
       "      <td>4.7163</td>\n",
       "      <td>5.4124</td>\n",
       "      <td>0.0000</td>\n",
       "      <td>5.673700</td>\n",
       "      <td>3.2042</td>\n",
       "      <td>2.97600</td>\n",
       "      <td>0.0000</td>\n",
       "      <td>...</td>\n",
       "      <td>0.000</td>\n",
       "      <td>0.0000</td>\n",
       "      <td>0.22685</td>\n",
       "      <td>0.000000</td>\n",
       "      <td>0.0000</td>\n",
       "      <td>0.000</td>\n",
       "      <td>0.00000</td>\n",
       "      <td>0.0000</td>\n",
       "      <td>0.0000</td>\n",
       "      <td>0.0</td>\n",
       "    </tr>\n",
       "    <tr>\n",
       "      <th>1</th>\n",
       "      <td>0.00000</td>\n",
       "      <td>0.00000</td>\n",
       "      <td>0.0000</td>\n",
       "      <td>0.0000</td>\n",
       "      <td>0.0000</td>\n",
       "      <td>0.0000</td>\n",
       "      <td>0.008881</td>\n",
       "      <td>0.0000</td>\n",
       "      <td>0.00000</td>\n",
       "      <td>0.0000</td>\n",
       "      <td>...</td>\n",
       "      <td>0.000</td>\n",
       "      <td>0.0000</td>\n",
       "      <td>0.00000</td>\n",
       "      <td>0.000000</td>\n",
       "      <td>0.0000</td>\n",
       "      <td>0.000</td>\n",
       "      <td>1.76850</td>\n",
       "      <td>0.0000</td>\n",
       "      <td>3.5743</td>\n",
       "      <td>0.0</td>\n",
       "    </tr>\n",
       "    <tr>\n",
       "      <th>2</th>\n",
       "      <td>0.56612</td>\n",
       "      <td>0.29012</td>\n",
       "      <td>0.0000</td>\n",
       "      <td>2.6672</td>\n",
       "      <td>3.0934</td>\n",
       "      <td>1.2022</td>\n",
       "      <td>0.000000</td>\n",
       "      <td>2.3956</td>\n",
       "      <td>0.85822</td>\n",
       "      <td>0.0000</td>\n",
       "      <td>...</td>\n",
       "      <td>0.000</td>\n",
       "      <td>0.0000</td>\n",
       "      <td>0.00000</td>\n",
       "      <td>0.000000</td>\n",
       "      <td>0.0000</td>\n",
       "      <td>0.000</td>\n",
       "      <td>0.00000</td>\n",
       "      <td>1.1822</td>\n",
       "      <td>0.0000</td>\n",
       "      <td>0.0</td>\n",
       "    </tr>\n",
       "    <tr>\n",
       "      <th>3</th>\n",
       "      <td>0.99131</td>\n",
       "      <td>0.00000</td>\n",
       "      <td>0.0000</td>\n",
       "      <td>0.0000</td>\n",
       "      <td>1.9659</td>\n",
       "      <td>1.4854</td>\n",
       "      <td>0.516980</td>\n",
       "      <td>0.0000</td>\n",
       "      <td>0.52498</td>\n",
       "      <td>0.0000</td>\n",
       "      <td>...</td>\n",
       "      <td>1.006</td>\n",
       "      <td>3.2345</td>\n",
       "      <td>0.21515</td>\n",
       "      <td>1.528800</td>\n",
       "      <td>0.0000</td>\n",
       "      <td>1.356</td>\n",
       "      <td>0.00000</td>\n",
       "      <td>1.5922</td>\n",
       "      <td>0.0000</td>\n",
       "      <td>0.0</td>\n",
       "    </tr>\n",
       "    <tr>\n",
       "      <th>4</th>\n",
       "      <td>4.57170</td>\n",
       "      <td>3.16790</td>\n",
       "      <td>2.8567</td>\n",
       "      <td>3.9262</td>\n",
       "      <td>3.3847</td>\n",
       "      <td>3.6458</td>\n",
       "      <td>4.056200</td>\n",
       "      <td>3.2825</td>\n",
       "      <td>0.91876</td>\n",
       "      <td>2.1773</td>\n",
       "      <td>...</td>\n",
       "      <td>0.000</td>\n",
       "      <td>0.0000</td>\n",
       "      <td>2.64680</td>\n",
       "      <td>0.001776</td>\n",
       "      <td>2.4592</td>\n",
       "      <td>0.000</td>\n",
       "      <td>0.66183</td>\n",
       "      <td>0.0000</td>\n",
       "      <td>0.0000</td>\n",
       "      <td>0.0</td>\n",
       "    </tr>\n",
       "  </tbody>\n",
       "</table>\n",
       "<p>5 rows × 5830 columns</p>\n",
       "</div>"
      ],
      "text/plain": [
       "         0      0.1     0.2     0.3     0.4     0.5       0.6     0.7  \\\n",
       "0  5.78900  3.94990  3.8154  4.7163  5.4124  0.0000  5.673700  3.2042   \n",
       "1  0.00000  0.00000  0.0000  0.0000  0.0000  0.0000  0.008881  0.0000   \n",
       "2  0.56612  0.29012  0.0000  2.6672  3.0934  1.2022  0.000000  2.3956   \n",
       "3  0.99131  0.00000  0.0000  0.0000  1.9659  1.4854  0.516980  0.0000   \n",
       "4  4.57170  3.16790  2.8567  3.9262  3.3847  3.6458  4.056200  3.2825   \n",
       "\n",
       "       0.8     0.9   ...     0.5366  0.5367   0.5368    0.5369  0.5370  \\\n",
       "0  2.97600  0.0000   ...      0.000  0.0000  0.22685  0.000000  0.0000   \n",
       "1  0.00000  0.0000   ...      0.000  0.0000  0.00000  0.000000  0.0000   \n",
       "2  0.85822  0.0000   ...      0.000  0.0000  0.00000  0.000000  0.0000   \n",
       "3  0.52498  0.0000   ...      1.006  3.2345  0.21515  1.528800  0.0000   \n",
       "4  0.91876  2.1773   ...      0.000  0.0000  2.64680  0.001776  2.4592   \n",
       "\n",
       "   0.5371   0.5372  0.5373  0.5374  0.76197  \n",
       "0   0.000  0.00000  0.0000  0.0000      0.0  \n",
       "1   0.000  1.76850  0.0000  3.5743      0.0  \n",
       "2   0.000  0.00000  1.1822  0.0000      0.0  \n",
       "3   1.356  0.00000  1.5922  0.0000      0.0  \n",
       "4   0.000  0.66183  0.0000  0.0000      0.0  \n",
       "\n",
       "[5 rows x 5830 columns]"
      ]
     },
     "execution_count": 13,
     "metadata": {},
     "output_type": "execute_result"
    }
   ],
   "source": [
    "df.head()"
   ]
  },
  {
   "cell_type": "code",
   "execution_count": 12,
   "metadata": {},
   "outputs": [
    {
     "name": "stdout",
     "output_type": "stream",
     "text": [
      "<class 'pandas.core.frame.DataFrame'>\n",
      "RangeIndex: 4095 entries, 0 to 4094\n",
      "Columns: 5830 entries, 0 to 0.76197\n",
      "dtypes: float64(5830)\n",
      "memory usage: 182.1 MB\n"
     ]
    }
   ],
   "source": [
    "df.info()"
   ]
  },
  {
   "cell_type": "code",
   "execution_count": null,
   "metadata": {},
   "outputs": [],
   "source": []
  }
 ],
 "metadata": {
  "kernelspec": {
   "display_name": "Python 3",
   "language": "python",
   "name": "python3"
  },
  "language_info": {
   "codemirror_mode": {
    "name": "ipython",
    "version": 3
   },
   "file_extension": ".py",
   "mimetype": "text/x-python",
   "name": "python",
   "nbconvert_exporter": "python",
   "pygments_lexer": "ipython3",
   "version": "3.6.4"
  }
 },
 "nbformat": 4,
 "nbformat_minor": 2
}
