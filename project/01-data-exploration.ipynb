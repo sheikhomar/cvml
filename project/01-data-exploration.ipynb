{
 "cells": [
  {
   "cell_type": "markdown",
   "metadata": {},
   "source": [
    "# Exploring dataset"
   ]
  },
  {
   "cell_type": "code",
   "execution_count": 1,
   "metadata": {},
   "outputs": [],
   "source": [
    "import time\n",
    "\n",
    "import numpy as np\n",
    "import pandas as pd\n",
    "import matplotlib.pyplot as plt\n",
    "import seaborn as sns\n",
    "\n",
    "%matplotlib inline\n",
    "\n",
    "from sklearn.neighbors import KNeighborsClassifier\n",
    "from sklearn.model_selection import cross_val_score\n",
    "from sklearn.metrics import classification_report\n",
    "\n",
    "from imblearn.under_sampling import RandomUnderSampler"
   ]
  },
  {
   "cell_type": "code",
   "execution_count": 2,
   "metadata": {},
   "outputs": [],
   "source": [
    "def write_predictions(predictions, file_name='pred.csv'):\n",
    "    with open(file_name, 'w') as file:\n",
    "        file.write('ID,Label')\n",
    "        for index, value in enumerate(predictions):\n",
    "            file.write('\\n{0},{1}'.format(index+1, value))"
   ]
  },
  {
   "cell_type": "markdown",
   "metadata": {},
   "source": [
    "### Load the datasets"
   ]
  },
  {
   "cell_type": "code",
   "execution_count": 3,
   "metadata": {},
   "outputs": [],
   "source": [
    "X_train = pd.read_csv('Train/trainVectors.csv', header=None).transpose()\n",
    "y_train = pd.read_csv('Train/trainLbls.csv', header=None, names=['label'])"
   ]
  },
  {
   "cell_type": "code",
   "execution_count": 4,
   "metadata": {},
   "outputs": [],
   "source": [
    "X_validation = pd.read_csv('Validation/valVectors.csv', header=None).transpose()\n",
    "y_validation = pd.read_csv('Validation/valLbls.csv', header=None, names=['label'])"
   ]
  },
  {
   "cell_type": "code",
   "execution_count": 5,
   "metadata": {},
   "outputs": [],
   "source": [
    "X_test = pd.read_csv('Test/testVectors.csv', header=None).transpose()"
   ]
  },
  {
   "cell_type": "code",
   "execution_count": 6,
   "metadata": {},
   "outputs": [
    {
     "name": "stdout",
     "output_type": "stream",
     "text": [
      "<class 'pandas.core.frame.DataFrame'>\n",
      "Int64Index: 5830 entries, 0 to 5829\n",
      "Columns: 4096 entries, 0 to 4095\n",
      "dtypes: float64(4096)\n",
      "memory usage: 182.4 MB\n"
     ]
    }
   ],
   "source": [
    "X_train.info()"
   ]
  },
  {
   "cell_type": "code",
   "execution_count": 7,
   "metadata": {},
   "outputs": [
    {
     "name": "stdout",
     "output_type": "stream",
     "text": [
      "<class 'pandas.core.frame.DataFrame'>\n",
      "RangeIndex: 5830 entries, 0 to 5829\n",
      "Data columns (total 1 columns):\n",
      "label    5830 non-null int64\n",
      "dtypes: int64(1)\n",
      "memory usage: 45.6 KB\n"
     ]
    }
   ],
   "source": [
    "y_train.info()"
   ]
  },
  {
   "cell_type": "markdown",
   "metadata": {},
   "source": [
    "### Number of labels"
   ]
  },
  {
   "cell_type": "code",
   "execution_count": 8,
   "metadata": {},
   "outputs": [
    {
     "data": {
      "text/plain": [
       "array([ 1,  2,  3,  4,  5,  6,  7,  8,  9, 10, 11, 12, 13, 14, 15, 16, 17,\n",
       "       18, 19, 20, 21, 22, 23, 24, 25, 26, 27, 28, 29])"
      ]
     },
     "execution_count": 8,
     "metadata": {},
     "output_type": "execute_result"
    }
   ],
   "source": [
    "y_train['label'].unique()"
   ]
  },
  {
   "cell_type": "markdown",
   "metadata": {},
   "source": [
    "### Distribution of labels"
   ]
  },
  {
   "cell_type": "markdown",
   "metadata": {},
   "source": [
    "We need to check whether our data is balanced."
   ]
  },
  {
   "cell_type": "code",
   "execution_count": 9,
   "metadata": {},
   "outputs": [
    {
     "data": {
      "text/plain": [
       "<matplotlib.axes._subplots.AxesSubplot at 0x7f929a9527f0>"
      ]
     },
     "execution_count": 9,
     "metadata": {},
     "output_type": "execute_result"
    },
    {
     "data": {
      "image/png": "[encoded data removed]",
      "text/plain": [
       "<matplotlib.figure.Figure at 0x7f92d530d240>"
      ]
     },
     "metadata": {},
     "output_type": "display_data"
    }
   ],
   "source": [
    "sns.countplot(x='label', data=y_train)"
   ]
  },
  {
   "cell_type": "markdown",
   "metadata": {},
   "source": [
    "### Resampling the data"
   ]
  },
  {
   "cell_type": "markdown",
   "metadata": {},
   "source": [
    "The data set is unbalaced. Let us try undersampling."
   ]
  },
  {
   "cell_type": "code",
   "execution_count": 10,
   "metadata": {},
   "outputs": [],
   "source": [
    "sampler = RandomUnderSampler(random_state=42)\n",
    "X_train_resampled, y_train_resampled = sampler.fit_sample(X_train, y_train['label'])"
   ]
  },
  {
   "cell_type": "code",
   "execution_count": 11,
   "metadata": {},
   "outputs": [
    {
     "data": {
      "text/plain": [
       "<matplotlib.axes._subplots.AxesSubplot at 0x7f929a862940>"
      ]
     },
     "execution_count": 11,
     "metadata": {},
     "output_type": "execute_result"
    },
    {
     "data": {
      "image/png": "[encoded data removed]",
      "text/plain": [
       "<matplotlib.figure.Figure at 0x7f929a928550>"
      ]
     },
     "metadata": {},
     "output_type": "display_data"
    }
   ],
   "source": [
    "sns.countplot(x=0, data=pd.DataFrame(y_train_resampled))"
   ]
  },
  {
   "cell_type": "markdown",
   "metadata": {},
   "source": [
    "## Random Classifier"
   ]
  },
  {
   "cell_type": "markdown",
   "metadata": {},
   "source": [
    "To generate random set of labels, we need to ensure that the label numbers are consecutive."
   ]
  },
  {
   "cell_type": "code",
   "execution_count": 12,
   "metadata": {},
   "outputs": [
    {
     "data": {
      "text/plain": [
       "array([ 1,  2,  3,  4,  5,  6,  7,  8,  9, 10, 11, 12, 13, 14, 15, 16, 17,\n",
       "       18, 19, 20, 21, 22, 23, 24, 25, 26, 27, 28, 29])"
      ]
     },
     "execution_count": 12,
     "metadata": {},
     "output_type": "execute_result"
    }
   ],
   "source": [
    "y_train['label'].unique()"
   ]
  },
  {
   "cell_type": "code",
   "execution_count": 13,
   "metadata": {},
   "outputs": [],
   "source": [
    "import random\n",
    "population = y_train['label']\n",
    "sample_size = 3460 # X_test.shape[0]\n",
    "y_random = random.choices(population, k=sample_size)"
   ]
  },
  {
   "cell_type": "code",
   "execution_count": 14,
   "metadata": {},
   "outputs": [],
   "source": [
    "write_predictions(y_random, 'random-1.csv')"
   ]
  },
  {
   "cell_type": "markdown",
   "metadata": {},
   "source": [
    "## Classification using k-Nearest Neighbours"
   ]
  },
  {
   "cell_type": "code",
   "execution_count": 15,
   "metadata": {},
   "outputs": [],
   "source": [
    "def plot_knn_score(X_train, y_train, k_from=5, k_to=10):\n",
    "    k_scores = []\n",
    "    k_values = np.arange(k_from, k_to, 1)\n",
    "    for k in k_values:\n",
    "        start_time = time.time()\n",
    "        print('Running k-Neighbors with k={}'.format(k))\n",
    "        knn = KNeighborsClassifier(n_neighbors=k)\n",
    "        scores = cross_val_score(knn, X_train, y_train, scoring='accuracy')\n",
    "        avg_score = np.mean(scores)\n",
    "        k_scores.append(avg_score)\n",
    "        duration = time.time() - start_time\n",
    "        print(' - average score for k={} is {}. Completed in {} seconds'.format(k, avg_score, duration))\n",
    "\n",
    "    # Plot the scores\n",
    "    fig, ax = plt.subplots(figsize=(10,4))\n",
    "    ax.plot(k_values, k_scores, 'o-')\n",
    "    ax.set_xlabel('$k$')\n",
    "    ax.set_ylabel('Score')"
   ]
  },
  {
   "cell_type": "markdown",
   "metadata": {},
   "source": [
    "### kNN with the balanced data set"
   ]
  },
  {
   "cell_type": "markdown",
   "metadata": {},
   "source": [
    "Find the best $k$ value for the balanced dataset"
   ]
  },
  {
   "cell_type": "code",
   "execution_count": 41,
   "metadata": {
    "scrolled": false
   },
   "outputs": [
    {
     "name": "stdout",
     "output_type": "stream",
     "text": [
      "Running k-Neighbors with k=1\n",
      " - average score for k=1 is 0.6430732002419842. Completed in 56.98434638977051 seconds\n",
      "Running k-Neighbors with k=2\n",
      " - average score for k=2 is 0.6143375680580762. Completed in 58.932398319244385 seconds\n",
      "Running k-Neighbors with k=3\n",
      " - average score for k=3 is 0.6512401693889897. Completed in 61.8937611579895 seconds\n",
      "Running k-Neighbors with k=4\n",
      " - average score for k=4 is 0.6727162734422262. Completed in 59.80538296699524 seconds\n",
      "Running k-Neighbors with k=5\n",
      " - average score for k=5 is 0.6823956442831216. Completed in 60.01204800605774 seconds\n",
      "Running k-Neighbors with k=6\n",
      " - average score for k=6 is 0.6802782819116757. Completed in 60.70847129821777 seconds\n",
      "Running k-Neighbors with k=7\n",
      " - average score for k=7 is 0.6845130066545675. Completed in 59.54422068595886 seconds\n",
      "Running k-Neighbors with k=8\n",
      " - average score for k=8 is 0.6866303690260134. Completed in 59.35246992111206 seconds\n",
      "Running k-Neighbors with k=9\n",
      " - average score for k=9 is 0.6866303690260133. Completed in 59.524964332580566 seconds\n"
     ]
    },
    {
     "data": {
      "image/png": "[encoded data removed]",
      "text/plain": [
       "<matplotlib.figure.Figure at 0x7f8caf805e48>"
      ]
     },
     "metadata": {},
     "output_type": "display_data"
    }
   ],
   "source": [
    "plot_knn_score(X_train_resampled, y_train_resampled, k_from=1, k_to=10)"
   ]
  },
  {
   "cell_type": "code",
   "execution_count": 42,
   "metadata": {},
   "outputs": [
    {
     "name": "stdout",
     "output_type": "stream",
     "text": [
      "Running k-Neighbors with k=10\n",
      " - average score for k=10 is 0.6884452510586812. Completed in 59.647788763046265 seconds\n",
      "Running k-Neighbors with k=11\n",
      " - average score for k=11 is 0.6875378100423473. Completed in 59.55633211135864 seconds\n",
      "Running k-Neighbors with k=12\n",
      " - average score for k=12 is 0.6923774954627948. Completed in 59.73446726799011 seconds\n",
      "Running k-Neighbors with k=13\n",
      " - average score for k=13 is 0.6978221415607985. Completed in 59.74858617782593 seconds\n",
      "Running k-Neighbors with k=14\n",
      " - average score for k=14 is 0.6969147005444646. Completed in 59.79623746871948 seconds\n",
      "Running k-Neighbors with k=15\n",
      " - average score for k=15 is 0.690865093768905. Completed in 59.786160469055176 seconds\n",
      "Running k-Neighbors with k=16\n",
      " - average score for k=16 is 0.6923774954627948. Completed in 59.78726553916931 seconds\n",
      "Running k-Neighbors with k=17\n",
      " - average score for k=17 is 0.6926799758015729. Completed in 59.82225513458252 seconds\n",
      "Running k-Neighbors with k=18\n",
      " - average score for k=18 is 0.6893526920750151. Completed in 59.962451696395874 seconds\n",
      "Running k-Neighbors with k=19\n",
      " - average score for k=19 is 0.6881427707199032. Completed in 60.91409945487976 seconds\n",
      "Running k-Neighbors with k=20\n",
      " - average score for k=20 is 0.6863278886872354. Completed in 60.12340545654297 seconds\n",
      "Running k-Neighbors with k=21\n",
      " - average score for k=21 is 0.6823956442831216. Completed in 60.68315815925598 seconds\n",
      "Running k-Neighbors with k=22\n",
      " - average score for k=22 is 0.6860254083484573. Completed in 59.99580717086792 seconds\n",
      "Running k-Neighbors with k=23\n",
      " - average score for k=23 is 0.6851179673321234. Completed in 59.9295608997345 seconds\n",
      "Running k-Neighbors with k=24\n",
      " - average score for k=24 is 0.6826981246218996. Completed in 60.19346380233765 seconds\n",
      "Running k-Neighbors with k=25\n",
      " - average score for k=25 is 0.6799758015728977. Completed in 60.136977672576904 seconds\n",
      "Running k-Neighbors with k=26\n",
      " - average score for k=26 is 0.6808832425892316. Completed in 60.20278239250183 seconds\n",
      "Running k-Neighbors with k=27\n",
      " - average score for k=27 is 0.6811857229280097. Completed in 60.18802094459534 seconds\n",
      "Running k-Neighbors with k=28\n",
      " - average score for k=28 is 0.6820931639443436. Completed in 60.26390504837036 seconds\n"
     ]
    },
    {
     "data": {
      "image/png": "[encoded data removed]",
      "text/plain": [
       "<matplotlib.figure.Figure at 0x7f8cafaa2b00>"
      ]
     },
     "metadata": {},
     "output_type": "display_data"
    }
   ],
   "source": [
    "plot_knn_score(X_train_resampled, y_train_resampled, k_from=10, k_to=29)"
   ]
  },
  {
   "cell_type": "markdown",
   "metadata": {},
   "source": [
    "It seems that the best $k$ is 13. Next, we try to predict labels using the validation dataset."
   ]
  },
  {
   "cell_type": "code",
   "execution_count": 16,
   "metadata": {},
   "outputs": [
    {
     "data": {
      "text/plain": [
       "KNeighborsClassifier(algorithm='auto', leaf_size=30, metric='minkowski',\n",
       "           metric_params=None, n_jobs=1, n_neighbors=13, p=2,\n",
       "           weights='uniform')"
      ]
     },
     "execution_count": 16,
     "metadata": {},
     "output_type": "execute_result"
    }
   ],
   "source": [
    "knn = KNeighborsClassifier(n_neighbors=13)\n",
    "knn.fit(X_train_resampled, y_train_resampled)"
   ]
  },
  {
   "cell_type": "code",
   "execution_count": 17,
   "metadata": {
    "scrolled": false
   },
   "outputs": [
    {
     "name": "stdout",
     "output_type": "stream",
     "text": [
      "             precision    recall  f1-score   support\n",
      "\n",
      "          1       0.97      1.00      0.99       116\n",
      "          2       0.41      0.52      0.46        96\n",
      "          3       0.73      0.51      0.60        94\n",
      "          4       0.91      0.84      0.87        92\n",
      "          5       0.66      0.76      0.71        88\n",
      "          6       0.42      0.61      0.50        92\n",
      "          7       0.36      0.50      0.42        92\n",
      "          8       0.33      0.36      0.35        88\n",
      "          9       0.80      0.80      0.80        88\n",
      "         10       0.50      0.43      0.46        82\n",
      "         11       0.93      0.92      0.92        86\n",
      "         12       0.51      0.78      0.62        80\n",
      "         13       0.98      0.75      0.85        80\n",
      "         14       0.83      0.41      0.55        82\n",
      "         15       0.66      0.67      0.67        82\n",
      "         16       0.87      0.50      0.64        82\n",
      "         17       0.96      0.84      0.89        80\n",
      "         18       0.92      0.82      0.87        80\n",
      "         19       0.85      0.65      0.74        78\n",
      "         20       0.54      0.50      0.52        74\n",
      "         21       0.88      0.99      0.93        76\n",
      "         22       0.56      0.65      0.60        74\n",
      "         23       0.66      0.68      0.67        66\n",
      "         24       0.67      0.56      0.61        72\n",
      "         25       0.30      0.22      0.25        64\n",
      "         26       0.80      0.53      0.64        66\n",
      "         27       0.82      0.98      0.89        56\n",
      "         28       0.55      0.85      0.67        52\n",
      "         29       0.48      0.57      0.52        40\n",
      "\n",
      "avg / total       0.69      0.66      0.67      2298\n",
      "\n"
     ]
    }
   ],
   "source": [
    "y_validation_predictions = knn.predict(X_validation)\n",
    "print(classification_report(y_validation, y_validation_predictions))"
   ]
  },
  {
   "cell_type": "code",
   "execution_count": 18,
   "metadata": {},
   "outputs": [],
   "source": [
    "y_test_predictions = knn.predict(X_test)"
   ]
  },
  {
   "cell_type": "code",
   "execution_count": 19,
   "metadata": {},
   "outputs": [],
   "source": [
    "write_predictions(y_test_predictions, 'knn-k13-balanced-training.csv')"
   ]
  },
  {
   "cell_type": "markdown",
   "metadata": {},
   "source": [
    "### kNN with all data points"
   ]
  },
  {
   "cell_type": "code",
   "execution_count": 48,
   "metadata": {},
   "outputs": [
    {
     "name": "stdout",
     "output_type": "stream",
     "text": [
      "Running k-Neighbors with k=4\n",
      " - average score for k=4 is 0.702933240440112. Completed in 179.85105729103088 seconds\n",
      "Running k-Neighbors with k=5\n",
      " - average score for k=5 is 0.7049781389428929. Completed in 183.3263759613037 seconds\n",
      "Running k-Neighbors with k=6\n",
      " - average score for k=6 is 0.7051445363923504. Completed in 183.2727563381195 seconds\n",
      "Running k-Neighbors with k=7\n",
      " - average score for k=7 is 0.7101373951627248. Completed in 181.865225315094 seconds\n",
      "Running k-Neighbors with k=8\n",
      " - average score for k=8 is 0.7132163013737909. Completed in 182.2682340145111 seconds\n",
      "Running k-Neighbors with k=9\n",
      " - average score for k=9 is 0.7147688960923547. Completed in 182.81168174743652 seconds\n",
      "Running k-Neighbors with k=10\n",
      " - average score for k=10 is 0.7164952833472898. Completed in 183.2762155532837 seconds\n",
      "Running k-Neighbors with k=11\n",
      " - average score for k=11 is 0.7161664679585883. Completed in 185.98030877113342 seconds\n",
      "Running k-Neighbors with k=12\n",
      " - average score for k=12 is 0.7166787630405556. Completed in 184.14327335357666 seconds\n",
      "Running k-Neighbors with k=13\n",
      " - average score for k=13 is 0.7148014181962811. Completed in 184.30462884902954 seconds\n",
      "Running k-Neighbors with k=14\n",
      " - average score for k=14 is 0.7204669471823126. Completed in 184.48008275032043 seconds\n",
      "Running k-Neighbors with k=15\n",
      " - average score for k=15 is 0.715314534470093. Completed in 184.56719875335693 seconds\n",
      "Running k-Neighbors with k=16\n",
      " - average score for k=16 is 0.7206201968416327. Completed in 185.8844256401062 seconds\n",
      "Running k-Neighbors with k=17\n",
      " - average score for k=17 is 0.7180421907672897. Completed in 185.57601404190063 seconds\n",
      "Running k-Neighbors with k=18\n",
      " - average score for k=18 is 0.7190878099829162. Completed in 185.8558611869812 seconds\n",
      "Running k-Neighbors with k=19\n",
      " - average score for k=19 is 0.7159993677723926. Completed in 185.92378091812134 seconds\n"
     ]
    },
    {
     "data": {
      "image/png": "[encoded data removed]",
      "text/plain": [
       "<matplotlib.figure.Figure at 0x7f8cafcaee80>"
      ]
     },
     "metadata": {},
     "output_type": "display_data"
    }
   ],
   "source": [
    "plot_knn_score(X_train, y_train['label'], k_from=4, k_to=20)"
   ]
  },
  {
   "cell_type": "code",
   "execution_count": 49,
   "metadata": {},
   "outputs": [
    {
     "name": "stdout",
     "output_type": "stream",
     "text": [
      "Running k-Neighbors with k=20\n",
      " - average score for k=20 is 0.7158169258330687. Completed in 187.7631754875183 seconds\n",
      "Running k-Neighbors with k=21\n",
      " - average score for k=21 is 0.713588915356556. Completed in 185.65223693847656 seconds\n",
      "Running k-Neighbors with k=22\n",
      " - average score for k=22 is 0.7189021566747763. Completed in 186.06444573402405 seconds\n"
     ]
    },
    {
     "data": {
      "image/png": "[encoded data removed]",
      "text/plain": [
       "<matplotlib.figure.Figure at 0x7f8caf29f400>"
      ]
     },
     "metadata": {},
     "output_type": "display_data"
    }
   ],
   "source": [
    "plot_knn_score(X_train, y_train['label'], k_from=20, k_to=23)"
   ]
  },
  {
   "cell_type": "markdown",
   "metadata": {},
   "source": [
    "It seems $k=14$ is a good value."
   ]
  },
  {
   "cell_type": "code",
   "execution_count": 20,
   "metadata": {},
   "outputs": [
    {
     "data": {
      "text/plain": [
       "KNeighborsClassifier(algorithm='auto', leaf_size=30, metric='minkowski',\n",
       "           metric_params=None, n_jobs=1, n_neighbors=14, p=2,\n",
       "           weights='uniform')"
      ]
     },
     "execution_count": 20,
     "metadata": {},
     "output_type": "execute_result"
    }
   ],
   "source": [
    "# Train the model\n",
    "knn = KNeighborsClassifier(n_neighbors=14)\n",
    "knn.fit(X_train, y_train['label'])"
   ]
  },
  {
   "cell_type": "code",
   "execution_count": 21,
   "metadata": {},
   "outputs": [
    {
     "name": "stdout",
     "output_type": "stream",
     "text": [
      "             precision    recall  f1-score   support\n",
      "\n",
      "          1       0.97      1.00      0.98       116\n",
      "          2       0.40      0.54      0.46        96\n",
      "          3       0.65      0.66      0.65        94\n",
      "          4       0.90      0.85      0.87        92\n",
      "          5       0.65      0.81      0.72        88\n",
      "          6       0.42      0.57      0.48        92\n",
      "          7       0.36      0.55      0.44        92\n",
      "          8       0.40      0.39      0.39        88\n",
      "          9       0.79      0.82      0.80        88\n",
      "         10       0.50      0.49      0.49        82\n",
      "         11       0.91      0.95      0.93        86\n",
      "         12       0.55      0.75      0.63        80\n",
      "         13       0.93      0.80      0.86        80\n",
      "         14       0.81      0.48      0.60        82\n",
      "         15       0.71      0.70      0.70        82\n",
      "         16       0.87      0.56      0.68        82\n",
      "         17       0.94      0.85      0.89        80\n",
      "         18       0.92      0.82      0.87        80\n",
      "         19       0.83      0.68      0.75        78\n",
      "         20       0.49      0.47      0.48        74\n",
      "         21       0.92      0.95      0.94        76\n",
      "         22       0.65      0.72      0.68        74\n",
      "         23       0.72      0.70      0.71        66\n",
      "         24       0.68      0.54      0.60        72\n",
      "         25       0.40      0.19      0.26        64\n",
      "         26       0.81      0.52      0.63        66\n",
      "         27       0.86      1.00      0.93        56\n",
      "         28       0.66      0.79      0.72        52\n",
      "         29       0.67      0.45      0.54        40\n",
      "\n",
      "avg / total       0.70      0.68      0.68      2298\n",
      "\n"
     ]
    }
   ],
   "source": [
    "# Test the model again the Validation dataset\n",
    "y_validation_predictions = knn.predict(X_validation)\n",
    "print(classification_report(y_validation, y_validation_predictions))"
   ]
  },
  {
   "cell_type": "code",
   "execution_count": 22,
   "metadata": {},
   "outputs": [],
   "source": [
    "# Predict the labels for the Test dataset\n",
    "y_test_predictions = knn.predict(X_test)"
   ]
  },
  {
   "cell_type": "code",
   "execution_count": 23,
   "metadata": {},
   "outputs": [],
   "source": [
    "# Write to file\n",
    "write_predictions(y_test_predictions, 'knn-k14.csv')"
   ]
  },
  {
   "cell_type": "code",
   "execution_count": null,
   "metadata": {},
   "outputs": [],
   "source": []
  }
 ],
 "metadata": {
  "kernelspec": {
   "display_name": "Python 3",
   "language": "python",
   "name": "python3"
  },
  "language_info": {
   "codemirror_mode": {
    "name": "ipython",
    "version": 3
   },
   "file_extension": ".py",
   "mimetype": "text/x-python",
   "name": "python",
   "nbconvert_exporter": "python",
   "pygments_lexer": "ipython3",
   "version": "3.6.4"
  }
 },
 "nbformat": 4,
 "nbformat_minor": 2
}
