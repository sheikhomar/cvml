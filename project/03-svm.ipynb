{
 "cells": [
  {
   "cell_type": "markdown",
   "metadata": {},
   "source": [
    "# Exploring dataset"
   ]
  },
  {
   "cell_type": "code",
   "execution_count": 4,
   "metadata": {},
   "outputs": [],
   "source": [
    "import time\n",
    "\n",
    "import numpy as np\n",
    "import pandas as pd\n",
    "import matplotlib.pyplot as plt\n",
    "from matplotlib.colors import Normalize\n",
    "import seaborn as sns\n",
    "import json\n",
    "\n",
    "%matplotlib inline"
   ]
  },
  {
   "cell_type": "code",
   "execution_count": 2,
   "metadata": {},
   "outputs": [],
   "source": [
    "def write_predictions(predictions, file_name='pred.csv'):\n",
    "    with open(file_name, 'w') as file:\n",
    "        file.write('ID,Label')\n",
    "        for index, value in enumerate(predictions):\n",
    "            file.write('\\n{0},{1}'.format(index+1, value))"
   ]
  },
  {
   "cell_type": "markdown",
   "metadata": {},
   "source": [
    "### Load the datasets"
   ]
  },
  {
   "cell_type": "code",
   "execution_count": 3,
   "metadata": {},
   "outputs": [],
   "source": [
    "X_train = pd.read_csv('Train/trainVectors.csv', header=None).transpose()\n",
    "y_train = pd.read_csv('Train/trainLbls.csv', header=None, names=['label'])['label']"
   ]
  },
  {
   "cell_type": "code",
   "execution_count": 4,
   "metadata": {},
   "outputs": [],
   "source": [
    "X_validation = pd.read_csv('Validation/valVectors.csv', header=None).transpose()\n",
    "y_validation = pd.read_csv('Validation/valLbls.csv', header=None, names=['label'])['label']"
   ]
  },
  {
   "cell_type": "code",
   "execution_count": 5,
   "metadata": {},
   "outputs": [],
   "source": [
    "X_test = pd.read_csv('Test/testVectors.csv', header=None).transpose()"
   ]
  },
  {
   "cell_type": "code",
   "execution_count": 6,
   "metadata": {},
   "outputs": [
    {
     "name": "stdout",
     "output_type": "stream",
     "text": [
      "<class 'pandas.core.frame.DataFrame'>\n",
      "Int64Index: 5830 entries, 0 to 5829\n",
      "Columns: 4096 entries, 0 to 4095\n",
      "dtypes: float64(4096)\n",
      "memory usage: 182.4 MB\n"
     ]
    }
   ],
   "source": [
    "X_train.info()"
   ]
  },
  {
   "cell_type": "code",
   "execution_count": 7,
   "metadata": {},
   "outputs": [
    {
     "data": {
      "text/plain": [
       "0    1\n",
       "1    1\n",
       "2    1\n",
       "3    1\n",
       "4    1\n",
       "Name: label, dtype: int64"
      ]
     },
     "execution_count": 7,
     "metadata": {},
     "output_type": "execute_result"
    }
   ],
   "source": [
    "y_train.head()"
   ]
  },
  {
   "cell_type": "markdown",
   "metadata": {},
   "source": [
    "## Support Vector Classifier"
   ]
  },
  {
   "cell_type": "code",
   "execution_count": 8,
   "metadata": {},
   "outputs": [],
   "source": [
    "from sklearn.svm import SVC\n",
    "from sklearn.metrics import classification_report, confusion_matrix"
   ]
  },
  {
   "cell_type": "markdown",
   "metadata": {},
   "source": [
    "### Default Parameters"
   ]
  },
  {
   "cell_type": "code",
   "execution_count": 9,
   "metadata": {},
   "outputs": [],
   "source": [
    "estimator = SVC()"
   ]
  },
  {
   "cell_type": "code",
   "execution_count": 10,
   "metadata": {},
   "outputs": [
    {
     "name": "stdout",
     "output_type": "stream",
     "text": [
      "CPU times: user 1min 57s, sys: 32 ms, total: 1min 57s\n",
      "Wall time: 1min 57s\n"
     ]
    },
    {
     "data": {
      "text/plain": [
       "SVC(C=1.0, cache_size=200, class_weight=None, coef0=0.0,\n",
       "  decision_function_shape='ovr', degree=3, gamma='auto', kernel='rbf',\n",
       "  max_iter=-1, probability=False, random_state=None, shrinking=True,\n",
       "  tol=0.001, verbose=False)"
      ]
     },
     "execution_count": 10,
     "metadata": {},
     "output_type": "execute_result"
    }
   ],
   "source": [
    "%time estimator.fit(X_train, y_train)"
   ]
  },
  {
   "cell_type": "code",
   "execution_count": 11,
   "metadata": {},
   "outputs": [
    {
     "name": "stdout",
     "output_type": "stream",
     "text": [
      "CPU times: user 1min 2s, sys: 0 ns, total: 1min 2s\n",
      "Wall time: 1min 2s\n"
     ]
    }
   ],
   "source": [
    "%time y_validation_predictions = estimator.predict(X_validation)"
   ]
  },
  {
   "cell_type": "code",
   "execution_count": 12,
   "metadata": {},
   "outputs": [
    {
     "name": "stdout",
     "output_type": "stream",
     "text": [
      "             precision    recall  f1-score   support\n",
      "\n",
      "          1       1.00      0.97      0.99       119\n",
      "          2       0.65      0.57      0.60       109\n",
      "          3       0.74      0.74      0.74        95\n",
      "          4       0.93      0.91      0.92        94\n",
      "          5       0.84      0.86      0.85        86\n",
      "          6       0.60      0.57      0.59        96\n",
      "          7       0.57      0.50      0.53       104\n",
      "          8       0.53      0.53      0.53        89\n",
      "          9       0.82      0.82      0.82        88\n",
      "         10       0.62      0.72      0.67        71\n",
      "         11       0.99      0.91      0.95        93\n",
      "         12       0.70      0.72      0.71        78\n",
      "         13       0.90      0.90      0.90        80\n",
      "         14       0.61      0.76      0.68        66\n",
      "         15       0.70      0.70      0.70        82\n",
      "         16       0.77      0.80      0.78        79\n",
      "         17       0.90      0.92      0.91        78\n",
      "         18       0.89      0.89      0.89        80\n",
      "         19       0.83      0.87      0.85        75\n",
      "         20       0.54      0.59      0.56        68\n",
      "         21       0.95      0.99      0.97        73\n",
      "         22       0.73      0.71      0.72        76\n",
      "         23       0.79      0.70      0.74        74\n",
      "         24       0.69      0.63      0.66        79\n",
      "         25       0.33      0.42      0.37        50\n",
      "         26       0.76      0.79      0.78        63\n",
      "         27       1.00      0.86      0.93        65\n",
      "         28       0.81      0.72      0.76        58\n",
      "         29       0.53      0.70      0.60        30\n",
      "\n",
      "avg / total       0.76      0.75      0.76      2298\n",
      "\n"
     ]
    }
   ],
   "source": [
    "print(classification_report(y_validation_predictions, y_validation))"
   ]
  },
  {
   "cell_type": "code",
   "execution_count": 15,
   "metadata": {},
   "outputs": [
    {
     "name": "stdout",
     "output_type": "stream",
     "text": [
      "CPU times: user 1min 34s, sys: 0 ns, total: 1min 34s\n",
      "Wall time: 1min 34s\n"
     ]
    }
   ],
   "source": [
    "# Predict the labels for the Test dataset\n",
    "%time y_test_predictions = estimator.predict(X_test)"
   ]
  },
  {
   "cell_type": "code",
   "execution_count": 16,
   "metadata": {},
   "outputs": [],
   "source": [
    "# Write to file\n",
    "write_predictions(y_test_predictions, 'svc-default-parameters.csv')"
   ]
  },
  {
   "cell_type": "markdown",
   "metadata": {},
   "source": [
    "### Parameter Tuning using Grid Search"
   ]
  },
  {
   "cell_type": "code",
   "execution_count": 19,
   "metadata": {},
   "outputs": [],
   "source": [
    "from sklearn.model_selection import GridSearchCV"
   ]
  },
  {
   "cell_type": "code",
   "execution_count": 26,
   "metadata": {},
   "outputs": [],
   "source": [
    "param_grid = {\n",
    "    'C': [0.1, 10]\n",
    "}\n",
    "gs = GridSearchCV(SVC(), param_grid, verbose=3, n_jobs=4)"
   ]
  },
  {
   "cell_type": "code",
   "execution_count": 27,
   "metadata": {},
   "outputs": [
    {
     "name": "stdout",
     "output_type": "stream",
     "text": [
      "Fitting 3 folds for each of 2 candidates, totalling 6 fits\n",
      "[CV] C=0.1 ...........................................................\n",
      "[CV] C=0.1 ...........................................................\n",
      "[CV] C=0.1 ...........................................................\n",
      "[CV] C=10 ............................................................\n",
      "[CV] ................... C=10, score=0.8524590163934426, total= 2.1min\n",
      "[CV] C=10 ............................................................\n",
      "[CV] .................. C=0.1, score=0.6782786885245902, total= 3.2min\n",
      "[CV] C=10 ............................................................\n"
     ]
    },
    {
     "name": "stderr",
     "output_type": "stream",
     "text": [
      "[Parallel(n_jobs=4)]: Done   2 out of   6 | elapsed:  4.9min remaining:  9.7min\n"
     ]
    },
    {
     "name": "stdout",
     "output_type": "stream",
     "text": [
      "[CV] .................. C=0.1, score=0.6625514403292181, total= 3.2min\n",
      "[CV] .................. C=0.1, score=0.6990692864529473, total= 3.3min\n",
      "[CV] ................... C=10, score=0.8446502057613169, total= 2.0min\n",
      "[CV] ................... C=10, score=0.8671147880041365, total= 1.8min\n"
     ]
    },
    {
     "name": "stderr",
     "output_type": "stream",
     "text": [
      "[Parallel(n_jobs=4)]: Done   6 out of   6 | elapsed:  7.9min finished\n"
     ]
    },
    {
     "data": {
      "text/plain": [
       "GridSearchCV(cv=None, error_score='raise',\n",
       "       estimator=SVC(C=1.0, cache_size=200, class_weight=None, coef0=0.0,\n",
       "  decision_function_shape='ovr', degree=3, gamma='auto', kernel='rbf',\n",
       "  max_iter=-1, probability=False, random_state=None, shrinking=True,\n",
       "  tol=0.001, verbose=False),\n",
       "       fit_params=None, iid=True, n_jobs=4, param_grid={'C': [0.1, 10]},\n",
       "       pre_dispatch='2*n_jobs', refit=True, return_train_score='warn',\n",
       "       scoring=None, verbose=3)"
      ]
     },
     "execution_count": 27,
     "metadata": {},
     "output_type": "execute_result"
    }
   ],
   "source": [
    "gs.fit(X_train, y_train)"
   ]
  },
  {
   "cell_type": "code",
   "execution_count": 29,
   "metadata": {},
   "outputs": [
    {
     "name": "stdout",
     "output_type": "stream",
     "text": [
      "Fitting 3 folds for each of 3 candidates, totalling 9 fits\n",
      "[CV] C=16 ............................................................\n",
      "[CV] C=16 ............................................................\n",
      "[CV] C=16 ............................................................\n",
      "[CV] C=32 ............................................................\n",
      "[CV] ................... C=16, score=0.8441358024691358, total= 2.0min\n",
      "[CV] C=32 ............................................................\n",
      "[CV] ................... C=16, score=0.8676318510858325, total= 2.0min\n",
      "[CV] C=32 ............................................................\n",
      "[CV] ................... C=16, score=0.8524590163934426, total= 2.0min\n",
      "[CV] C=64 ............................................................\n",
      "[CV] ................... C=32, score=0.8514344262295082, total= 2.0min\n",
      "[CV] C=64 ............................................................\n",
      "[CV] ................... C=32, score=0.8671147880041365, total= 2.0min\n",
      "[CV] C=64 ............................................................\n",
      "[CV] ................... C=64, score=0.8519467213114754, total= 2.0min\n"
     ]
    },
    {
     "name": "stderr",
     "output_type": "stream",
     "text": [
      "[Parallel(n_jobs=4)]: Done   6 out of   9 | elapsed:  6.9min remaining:  3.4min\n"
     ]
    },
    {
     "name": "stdout",
     "output_type": "stream",
     "text": [
      "[CV] ................... C=32, score=0.8446502057613169, total= 2.0min\n",
      "[CV] ................... C=64, score=0.8446502057613169, total= 2.1min\n",
      "[CV] ................... C=64, score=0.8665977249224406, total= 1.7min\n"
     ]
    },
    {
     "name": "stderr",
     "output_type": "stream",
     "text": [
      "[Parallel(n_jobs=4)]: Done   9 out of   9 | elapsed:  9.8min finished\n"
     ]
    },
    {
     "data": {
      "text/plain": [
       "GridSearchCV(cv=None, error_score='raise',\n",
       "       estimator=SVC(C=1.0, cache_size=200, class_weight=None, coef0=0.0,\n",
       "  decision_function_shape='ovr', degree=3, gamma='auto', kernel='rbf',\n",
       "  max_iter=-1, probability=False, random_state=None, shrinking=True,\n",
       "  tol=0.001, verbose=False),\n",
       "       fit_params=None, iid=True, n_jobs=4, param_grid={'C': [16, 32, 64]},\n",
       "       pre_dispatch='2*n_jobs', refit=True, return_train_score='warn',\n",
       "       scoring=None, verbose=3)"
      ]
     },
     "execution_count": 29,
     "metadata": {},
     "output_type": "execute_result"
    }
   ],
   "source": [
    "param_grid = {\n",
    "    'C': [16, 32, 64]\n",
    "}\n",
    "gs = GridSearchCV(SVC(), param_grid, verbose=3, n_jobs=4)\n",
    "gs.fit(X_train, y_train)"
   ]
  },
  {
   "cell_type": "code",
   "execution_count": 31,
   "metadata": {},
   "outputs": [
    {
     "name": "stdout",
     "output_type": "stream",
     "text": [
      "Fitting 3 folds for each of 3 candidates, totalling 9 fits\n",
      "[CV] C=2 .............................................................\n",
      "[CV] C=2 .............................................................\n",
      "[CV] C=2 .............................................................\n",
      "[CV] C=4 .............................................................\n",
      "[CV] .................... C=2, score=0.8467078189300411, total= 1.9min\n",
      "[CV] C=4 .............................................................\n",
      "[CV] .................... C=2, score=0.8702171664943124, total= 1.9min\n",
      "[CV] C=4 .............................................................\n",
      "[CV] .................... C=2, score=0.8483606557377049, total= 2.0min\n",
      "[CV] C=8 .............................................................\n",
      "[CV] .................... C=4, score=0.8545081967213115, total= 2.0min\n",
      "[CV] C=8 .............................................................\n",
      "[CV] .................... C=4, score=0.8446502057613169, total= 2.0min\n",
      "[CV] C=8 .............................................................\n",
      "[CV] .................... C=8, score=0.8529713114754098, total= 2.0min\n"
     ]
    },
    {
     "name": "stderr",
     "output_type": "stream",
     "text": [
      "[Parallel(n_jobs=4)]: Done   6 out of   9 | elapsed:  6.9min remaining:  3.5min\n"
     ]
    },
    {
     "name": "stdout",
     "output_type": "stream",
     "text": [
      "[CV] .................... C=4, score=0.8681489141675285, total= 2.1min\n",
      "[CV] ..................... C=8, score=0.845164609053498, total= 2.0min\n",
      "[CV] .................... C=8, score=0.8665977249224406, total= 1.7min\n"
     ]
    },
    {
     "name": "stderr",
     "output_type": "stream",
     "text": [
      "[Parallel(n_jobs=4)]: Done   9 out of   9 | elapsed:  9.8min finished\n"
     ]
    },
    {
     "data": {
      "text/plain": [
       "GridSearchCV(cv=None, error_score='raise',\n",
       "       estimator=SVC(C=1.0, cache_size=200, class_weight=None, coef0=0.0,\n",
       "  decision_function_shape='ovr', degree=3, gamma='auto', kernel='rbf',\n",
       "  max_iter=-1, probability=False, random_state=None, shrinking=True,\n",
       "  tol=0.001, verbose=False),\n",
       "       fit_params=None, iid=True, n_jobs=4, param_grid={'C': [2, 4, 8]},\n",
       "       pre_dispatch='2*n_jobs', refit=True, return_train_score='warn',\n",
       "       scoring=None, verbose=3)"
      ]
     },
     "execution_count": 31,
     "metadata": {},
     "output_type": "execute_result"
    }
   ],
   "source": [
    "param_grid = {\n",
    "    'C': [2, 4, 8]\n",
    "}\n",
    "gs = GridSearchCV(SVC(), param_grid, verbose=3, n_jobs=4)\n",
    "gs.fit(X_train, y_train)"
   ]
  },
  {
   "cell_type": "code",
   "execution_count": 32,
   "metadata": {},
   "outputs": [
    {
     "data": {
      "text/plain": [
       "{'C': 4}"
      ]
     },
     "execution_count": 32,
     "metadata": {},
     "output_type": "execute_result"
    }
   ],
   "source": [
    "gs.best_params_"
   ]
  },
  {
   "cell_type": "code",
   "execution_count": 33,
   "metadata": {},
   "outputs": [
    {
     "data": {
      "text/plain": [
       "SVC(C=4, cache_size=200, class_weight=None, coef0=0.0,\n",
       "  decision_function_shape='ovr', degree=3, gamma='auto', kernel='rbf',\n",
       "  max_iter=-1, probability=False, random_state=None, shrinking=True,\n",
       "  tol=0.001, verbose=False)"
      ]
     },
     "execution_count": 33,
     "metadata": {},
     "output_type": "execute_result"
    }
   ],
   "source": [
    "gs.best_estimator_"
   ]
  },
  {
   "cell_type": "code",
   "execution_count": 39,
   "metadata": {},
   "outputs": [
    {
     "data": {
      "text/plain": [
       "4096"
      ]
     },
     "execution_count": 39,
     "metadata": {},
     "output_type": "execute_result"
    }
   ],
   "source": [
    "X_train.shape[1]"
   ]
  },
  {
   "cell_type": "code",
   "execution_count": 40,
   "metadata": {},
   "outputs": [
    {
     "data": {
      "text/plain": [
       "0.00048828125"
      ]
     },
     "execution_count": 40,
     "metadata": {},
     "output_type": "execute_result"
    }
   ],
   "source": [
    "1/(4096/2)"
   ]
  },
  {
   "cell_type": "code",
   "execution_count": 41,
   "metadata": {},
   "outputs": [
    {
     "name": "stdout",
     "output_type": "stream",
     "text": [
      "Fitting 3 folds for each of 9 candidates, totalling 27 fits\n",
      "[CV] C=0.9, gamma=0.0001220703125 ....................................\n",
      "[CV] C=0.9, gamma=0.0001220703125 ....................................\n",
      "[CV] C=0.9, gamma=0.0001220703125 ....................................\n",
      "[CV] C=0.9, gamma=0.00048828125 ......................................\n",
      "[CV]  C=0.9, gamma=0.0001220703125, score=0.8253073770491803, total= 1.8min\n",
      "[CV] C=0.9, gamma=0.00048828125 ......................................\n",
      "[CV]  C=0.9, gamma=0.0001220703125, score=0.8245884773662552, total= 1.8min\n",
      "[CV] C=0.9, gamma=0.00048828125 ......................................\n",
      "[CV]  C=0.9, gamma=0.0001220703125, score=0.8500517063081696, total= 1.8min\n",
      "[CV] C=0.9, gamma=1 ..................................................\n",
      "[CV]  C=0.9, gamma=0.00048828125, score=0.8273565573770492, total= 2.9min\n",
      "[CV] C=0.9, gamma=1 ..................................................\n",
      "[CV]  C=0.9, gamma=0.00048828125, score=0.8552223371251293, total= 2.9min\n",
      "[CV] C=0.9, gamma=1 ..................................................\n",
      "[CV]  C=0.9, gamma=0.00048828125, score=0.8287037037037037, total= 2.9min\n",
      "[CV] C=1.3, gamma=0.0001220703125 ....................................\n",
      "[CV] ........ C=0.9, gamma=1, score=0.04969262295081967, total= 4.6min\n",
      "[CV] C=1.3, gamma=0.0001220703125 ....................................\n",
      "[CV] ........ C=0.9, gamma=1, score=0.04989711934156379, total= 4.5min\n",
      "[CV] C=1.3, gamma=0.0001220703125 ....................................\n",
      "[CV]  C=1.3, gamma=0.0001220703125, score=0.8391393442622951, total= 1.8min\n",
      "[CV] C=1.3, gamma=0.00048828125 ......................................\n",
      "[CV]  C=1.3, gamma=0.0001220703125, score=0.8338477366255144, total= 1.8min\n",
      "[CV] C=1.3, gamma=0.00048828125 ......................................\n",
      "[CV]  C=1.3, gamma=0.0001220703125, score=0.8588417786970011, total= 1.7min\n",
      "[CV] C=1.3, gamma=0.00048828125 ......................................\n",
      "[CV] ........ C=0.9, gamma=1, score=0.04963805584281282, total= 4.5min\n",
      "[CV] C=1.3, gamma=1 ..................................................\n",
      "[CV]  C=1.3, gamma=0.00048828125, score=0.8391393442622951, total= 2.9min\n",
      "[CV] C=1.3, gamma=1 ..................................................\n",
      "[CV]  C=1.3, gamma=0.00048828125, score=0.8353909465020576, total= 3.1min\n",
      "[CV] C=1.3, gamma=1 ..................................................\n",
      "[CV]  C=1.3, gamma=0.00048828125, score=0.8634953464322648, total= 3.0min\n",
      "[CV] C=1.6, gamma=0.0001220703125 ....................................\n",
      "[CV] ........ C=1.3, gamma=1, score=0.04969262295081967, total= 4.4min\n",
      "[CV] C=1.6, gamma=0.0001220703125 ....................................\n",
      "[CV] ........ C=1.3, gamma=1, score=0.04989711934156379, total= 4.4min\n",
      "[CV] C=1.6, gamma=0.0001220703125 ....................................\n",
      "[CV]  C=1.6, gamma=0.0001220703125, score=0.8442622950819673, total= 1.7min\n",
      "[CV] C=1.6, gamma=0.00048828125 ......................................\n",
      "[CV]  C=1.6, gamma=0.0001220703125, score=0.8420781893004116, total= 1.7min\n",
      "[CV] C=1.6, gamma=0.00048828125 ......................................\n",
      "[CV] ........ C=1.3, gamma=1, score=0.04963805584281282, total= 4.4min\n",
      "[CV] C=1.6, gamma=0.00048828125 ......................................\n",
      "[CV]  C=1.6, gamma=0.0001220703125, score=0.8655635987590486, total= 1.7min\n",
      "[CV] C=1.6, gamma=1 ..................................................\n",
      "[CV]  C=1.6, gamma=0.00048828125, score=0.8432377049180327, total= 3.0min\n",
      "[CV] C=1.6, gamma=1 ..................................................\n",
      "[CV]  C=1.6, gamma=0.00048828125, score=0.8389917695473251, total= 3.1min\n",
      "[CV] C=1.6, gamma=1 ..................................................\n",
      "[CV]  C=1.6, gamma=0.00048828125, score=0.8614270941054809, total= 3.0min\n",
      "[CV] ........ C=1.6, gamma=1, score=0.04969262295081967, total= 4.3min\n",
      "[CV] ........ C=1.6, gamma=1, score=0.04989711934156379, total= 4.2min\n",
      "[CV] ........ C=1.6, gamma=1, score=0.04963805584281282, total= 4.0min\n"
     ]
    },
    {
     "name": "stderr",
     "output_type": "stream",
     "text": [
      "[Parallel(n_jobs=4)]: Done  27 out of  27 | elapsed: 33.5min finished\n"
     ]
    },
    {
     "data": {
      "text/plain": [
       "GridSearchCV(cv=None, error_score='raise',\n",
       "       estimator=SVC(C=1.0, cache_size=200, class_weight=None, coef0=0.0,\n",
       "  decision_function_shape='ovr', degree=3, gamma='auto', kernel='rbf',\n",
       "  max_iter=-1, probability=False, random_state=None, shrinking=True,\n",
       "  tol=0.001, verbose=False),\n",
       "       fit_params=None, iid=True, n_jobs=4,\n",
       "       param_grid={'C': [0.9, 1.3, 1.6], 'gamma': [0.0001220703125, 0.00048828125, 1]},\n",
       "       pre_dispatch='2*n_jobs', refit=True, return_train_score='warn',\n",
       "       scoring=None, verbose=3)"
      ]
     },
     "execution_count": 41,
     "metadata": {},
     "output_type": "execute_result"
    }
   ],
   "source": [
    "param_grid = {\n",
    "    'C': [0.9, 1.3, 1.6],\n",
    "    'gamma': [1/(4096*2), 1/(4096/2), 1]\n",
    "}\n",
    "gs = GridSearchCV(SVC(), param_grid, verbose=3, n_jobs=4)\n",
    "gs.fit(X_train, y_train)"
   ]
  },
  {
   "cell_type": "code",
   "execution_count": 43,
   "metadata": {},
   "outputs": [
    {
     "data": {
      "text/plain": [
       "{'C': 1.6, 'gamma': 0.0001220703125}"
      ]
     },
     "execution_count": 43,
     "metadata": {},
     "output_type": "execute_result"
    }
   ],
   "source": [
    "gs.best_params_"
   ]
  },
  {
   "cell_type": "code",
   "execution_count": 44,
   "metadata": {},
   "outputs": [
    {
     "data": {
      "text/plain": [
       "SVC(C=1.6, cache_size=200, class_weight=None, coef0=0.0,\n",
       "  decision_function_shape='ovr', degree=3, gamma=0.0001220703125,\n",
       "  kernel='rbf', max_iter=-1, probability=False, random_state=None,\n",
       "  shrinking=True, tol=0.001, verbose=False)"
      ]
     },
     "execution_count": 44,
     "metadata": {},
     "output_type": "execute_result"
    }
   ],
   "source": [
    "gs.best_estimator_"
   ]
  },
  {
   "cell_type": "code",
   "execution_count": 46,
   "metadata": {},
   "outputs": [
    {
     "data": {
      "text/plain": [
       "[0.0001220703125, 0.00048828125, 1]"
      ]
     },
     "execution_count": 46,
     "metadata": {},
     "output_type": "execute_result"
    }
   ],
   "source": [
    "[1/(4096*2), 1/(4096/2), 1]"
   ]
  },
  {
   "cell_type": "code",
   "execution_count": 97,
   "metadata": {},
   "outputs": [],
   "source": [
    "def draw_heatmap(gs):\n",
    "    # Average scores\n",
    "    data = []\n",
    "    data.append(gs.cv_results_['split0_test_score'])\n",
    "    data.append(gs.cv_results_['split1_test_score'])\n",
    "    data.append(gs.cv_results_['split2_test_score'])\n",
    "    arr_avg = pd.DataFrame(data).mean(axis=0)\n",
    "    \n",
    "    # Create DataFrame\n",
    "    c_values = list(set(map(lambda o: o['C'], gs.cv_results_['params'])))\n",
    "    gamma_values = list(set(map(lambda o: o['gamma'], gs.cv_results_['params'])))\n",
    "    reshaped_data = arr_avg.values.reshape(len(c_values), len(gamma_values))\n",
    "    df = pd.DataFrame(reshaped_data, index=c_values, columns=gamma_values)\n",
    "    \n",
    "    # Draw heatmap\n",
    "    ax = sns.heatmap(df, annot=True, fmt='0.4g')\n",
    "    ax.set_xlabel('gamma')\n",
    "    ax.set_ylabel('C')"
   ]
  },
  {
   "cell_type": "code",
   "execution_count": 98,
   "metadata": {},
   "outputs": [
    {
     "data": {
      "image/png": "[encoded data removed]",
      "text/plain": [
       "<matplotlib.figure.Figure at 0x7f108dc3c550>"
      ]
     },
     "metadata": {},
     "output_type": "display_data"
    }
   ],
   "source": [
    "draw_heatmap(gs)"
   ]
  },
  {
   "cell_type": "code",
   "execution_count": 103,
   "metadata": {},
   "outputs": [
    {
     "data": {
      "text/plain": [
       "SVC(C=1.6, cache_size=200, class_weight=None, coef0=0.0,\n",
       "  decision_function_shape='ovr', degree=3, gamma=0.0001220703125,\n",
       "  kernel='rbf', max_iter=-1, probability=False, random_state=None,\n",
       "  shrinking=True, tol=0.001, verbose=False)"
      ]
     },
     "execution_count": 103,
     "metadata": {},
     "output_type": "execute_result"
    }
   ],
   "source": [
    "gs.best_estimator_"
   ]
  },
  {
   "cell_type": "code",
   "execution_count": 106,
   "metadata": {},
   "outputs": [
    {
     "name": "stdout",
     "output_type": "stream",
     "text": [
      "CPU times: user 1min, sys: 40 ms, total: 1min\n",
      "Wall time: 1min\n"
     ]
    }
   ],
   "source": [
    "%time y_validation_predictions = gs.best_estimator_.predict(X_validation)"
   ]
  },
  {
   "cell_type": "code",
   "execution_count": 107,
   "metadata": {},
   "outputs": [
    {
     "name": "stdout",
     "output_type": "stream",
     "text": [
      "             precision    recall  f1-score   support\n",
      "\n",
      "          1       1.00      0.97      0.99       119\n",
      "          2       0.65      0.56      0.60       111\n",
      "          3       0.77      0.75      0.76        96\n",
      "          4       0.93      0.91      0.92        94\n",
      "          5       0.84      0.84      0.84        88\n",
      "          6       0.61      0.56      0.58       100\n",
      "          7       0.59      0.50      0.54       107\n",
      "          8       0.53      0.55      0.54        86\n",
      "          9       0.82      0.82      0.82        88\n",
      "         10       0.62      0.72      0.67        71\n",
      "         11       0.99      0.90      0.94        94\n",
      "         12       0.71      0.71      0.71        80\n",
      "         13       0.90      0.94      0.92        77\n",
      "         14       0.62      0.75      0.68        68\n",
      "         15       0.68      0.71      0.70        79\n",
      "         16       0.77      0.83      0.80        76\n",
      "         17       0.90      0.92      0.91        78\n",
      "         18       0.89      0.89      0.89        80\n",
      "         19       0.85      0.88      0.86        75\n",
      "         20       0.53      0.57      0.55        69\n",
      "         21       0.93      0.99      0.96        72\n",
      "         22       0.72      0.72      0.72        74\n",
      "         23       0.80      0.73      0.76        73\n",
      "         24       0.71      0.65      0.68        79\n",
      "         25       0.33      0.43      0.37        49\n",
      "         26       0.74      0.80      0.77        61\n",
      "         27       1.00      0.86      0.93        65\n",
      "         28       0.81      0.74      0.77        57\n",
      "         29       0.55      0.69      0.61        32\n",
      "\n",
      "avg / total       0.76      0.76      0.76      2298\n",
      "\n"
     ]
    }
   ],
   "source": [
    "print(classification_report(y_validation_predictions, y_validation))"
   ]
  },
  {
   "cell_type": "markdown",
   "metadata": {},
   "source": [
    "#### Predict Test labels"
   ]
  },
  {
   "cell_type": "code",
   "execution_count": 104,
   "metadata": {},
   "outputs": [
    {
     "name": "stdout",
     "output_type": "stream",
     "text": [
      "CPU times: user 1min 30s, sys: 36 ms, total: 1min 30s\n",
      "Wall time: 1min 30s\n"
     ]
    }
   ],
   "source": [
    "# Predict the labels for the Test dataset\n",
    "%time y_test_predictions = gs.best_estimator_.predict(X_test)"
   ]
  },
  {
   "cell_type": "code",
   "execution_count": 105,
   "metadata": {},
   "outputs": [],
   "source": [
    "# Write to file\n",
    "write_predictions(y_test_predictions, 'svc-c-1_6-gamma-0_000122.csv')"
   ]
  },
  {
   "cell_type": "code",
   "execution_count": 28,
   "metadata": {},
   "outputs": [],
   "source": [
    "file_path = 'simple_model_results/svm.json'\n",
    "search_output = json.load(open(file_path))"
   ]
  },
  {
   "cell_type": "code",
   "execution_count": 86,
   "metadata": {},
   "outputs": [],
   "source": [
    "def get_scores(search_output, score_type='mean_train_score'):\n",
    "    dict1 = search_output['results'][score_type]\n",
    "    sorted_dict = sorted(dict1.items(), key=lambda t: int(t[0]))\n",
    "    return np.array(list(map(lambda t: t[1], sorted_dict)))"
   ]
  },
  {
   "cell_type": "code",
   "execution_count": 93,
   "metadata": {},
   "outputs": [],
   "source": [
    "train_scores = get_scores(search_output, 'mean_train_score')\n",
    "validation_scores = get_scores(search_output, 'mean_test_score')"
   ]
  },
  {
   "cell_type": "markdown",
   "metadata": {},
   "source": [
    "## Plotting Grid Search Results"
   ]
  },
  {
   "cell_type": "code",
   "execution_count": 5,
   "metadata": {},
   "outputs": [],
   "source": [
    "file_path = 'simple_model_results/svm.json'\n",
    "search_output = json.load(open(file_path))"
   ]
  },
  {
   "cell_type": "code",
   "execution_count": 6,
   "metadata": {},
   "outputs": [],
   "source": [
    "def create_table(grid_search_results, param1_name, param2_name, score_name='mean_train_score'):\n",
    "    scores = grid_search_results[score_name]\n",
    "    params = grid_search_results['params']\n",
    "    param1_range = np.unique(list(grid_search_results['param_' + param1_name].values()))\n",
    "    param2_range = np.unique(list(grid_search_results['param_' + param2_name].values()))\n",
    "    \n",
    "    table = np.zeros((len(param1_range), len(param2_range)))\n",
    "    for k in params.keys():\n",
    "        param1_val = params[k][param1_name]\n",
    "        param2_val = params[k][param2_name]\n",
    "        param1_idx = np.where(param1_range == param1_val)[0][0]\n",
    "        param2_idx = np.where(param2_range == param2_val)[0][0]\n",
    "        score = scores[k]\n",
    "        table[param1_idx][param2_idx] = score\n",
    "    return pd.DataFrame(table, index=param1_range, columns=param2_range)"
   ]
  },
  {
   "cell_type": "code",
   "execution_count": 11,
   "metadata": {},
   "outputs": [],
   "source": [
    "def graph_heat_map(score_type, ax, title='None', draw_colour_bar=True):\n",
    "    df = create_table(search_output['results'], 'C', 'gamma', score_type)\n",
    "    sns.heatmap(df, annot=True, fmt='0.2g', ax=ax, vmin=0, vmax=1, cbar=draw_colour_bar)\n",
    "    ax.set_title(title)\n",
    "    ax.set_xlabel('gamma')\n",
    "    ax.set_ylabel('C')\n",
    "    \n",
    "def graph_results():\n",
    "    fig, ax = plt.subplots(1, 2, figsize=(19,7))\n",
    "    graph_heat_map('mean_train_score', ax[0], title='Training Set Accuracy')\n",
    "    graph_heat_map('mean_test_score', ax[1], title='Test Set Accuracy')"
   ]
  },
  {
   "cell_type": "code",
   "execution_count": 12,
   "metadata": {},
   "outputs": [
    {
     "data": {
      "image/png": "[encoded data removed]",
      "text/plain": [
       "<Figure size 1368x504 with 4 Axes>"
      ]
     },
     "metadata": {},
     "output_type": "display_data"
    }
   ],
   "source": [
    "graph_results()"
   ]
  },
  {
   "cell_type": "markdown",
   "metadata": {},
   "source": [
    "In general, adding more and more features (even if its not necessarily useful for making predictions) would improve the accuracy of the trained model. When the number of features would be equal to or greater than the number of samples used for training, then (not surprising) one would observe a high accuracy close to 100% on the training set (even under cross-validation). This is simply because of over-fitting: http://scikit-learn.org/stable/auto_examples/svm/plot_svm_anova.html"
   ]
  },
  {
   "cell_type": "code",
   "execution_count": 9,
   "metadata": {},
   "outputs": [
    {
     "data": {
      "text/plain": [
       "{'C': 10, 'gamma': 0.0001, 'kernel': 'rbf'}"
      ]
     },
     "execution_count": 9,
     "metadata": {},
     "output_type": "execute_result"
    }
   ],
   "source": [
    "search_output['best_params']"
   ]
  },
  {
   "cell_type": "code",
   "execution_count": 10,
   "metadata": {},
   "outputs": [
    {
     "data": {
      "text/plain": [
       "0.8463336614173228"
      ]
     },
     "execution_count": 10,
     "metadata": {},
     "output_type": "execute_result"
    }
   ],
   "source": [
    "search_output['best_score']"
   ]
  },
  {
   "cell_type": "markdown",
   "metadata": {},
   "source": [
    "On Kaggle, the accuracy on the public test data is 0.77861 using predictions C=10 and gamma=0.0001. The model is overfitting. \n",
    "\n",
    "The figures above indicate that the overfitting is less with an SVM model where C=1 and gamma=0.0001. Accuracy on Kaggle is 0.75606 on this model. The best parameters suggested by grid search  generalises better."
   ]
  },
  {
   "cell_type": "markdown",
   "metadata": {},
   "source": []
  }
 ],
 "metadata": {
  "kernelspec": {
   "display_name": "Python 3",
   "language": "python",
   "name": "python3"
  },
  "language_info": {
   "codemirror_mode": {
    "name": "ipython",
    "version": 3
   },
   "file_extension": ".py",
   "mimetype": "text/x-python",
   "name": "python",
   "nbconvert_exporter": "python",
   "pygments_lexer": "ipython3",
   "version": "3.6.5"
  }
 },
 "nbformat": 4,
 "nbformat_minor": 2
}
