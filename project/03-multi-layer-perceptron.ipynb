{
 "cells": [
  {
   "cell_type": "markdown",
   "metadata": {},
   "source": [
    "# Multi-Layer Perceptron"
   ]
  },
  {
   "cell_type": "code",
   "execution_count": 1,
   "metadata": {},
   "outputs": [],
   "source": [
    "import time\n",
    "\n",
    "import numpy as np\n",
    "import pandas as pd\n",
    "import matplotlib.pyplot as plt\n",
    "import seaborn as sns\n",
    "from sklearn.metrics import classification_report\n",
    "\n",
    "%matplotlib inline"
   ]
  },
  {
   "cell_type": "code",
   "execution_count": 2,
   "metadata": {},
   "outputs": [],
   "source": [
    "def write_predictions(predictions, file_name='pred.csv'):\n",
    "    with open(file_name, 'w') as file:\n",
    "        file.write('ID,Label')\n",
    "        for index, value in enumerate(predictions):\n",
    "            file.write('\\n{0},{1}'.format(index+1, value))"
   ]
  },
  {
   "cell_type": "code",
   "execution_count": 3,
   "metadata": {},
   "outputs": [],
   "source": [
    "# Load Data\n",
    "X_train = pd.read_csv('Train/trainVectors.csv', header=None).transpose()\n",
    "y_train = pd.read_csv('Train/trainLbls.csv', header=None, names=['label'])['label']\n",
    "X_validation = pd.read_csv('Validation/valVectors.csv', header=None).transpose()\n",
    "y_validation = pd.read_csv('Validation/valLbls.csv', header=None, names=['label'])['label']\n",
    "X_test = pd.read_csv('Test/testVectors.csv', header=None).transpose()"
   ]
  },
  {
   "cell_type": "code",
   "execution_count": 4,
   "metadata": {},
   "outputs": [
    {
     "name": "stderr",
     "output_type": "stream",
     "text": [
      "/home/omar/anaconda3/envs/cvml/lib/python3.6/site-packages/h5py/__init__.py:36: FutureWarning: Conversion of the second argument of issubdtype from `float` to `np.floating` is deprecated. In future, it will be treated as `np.float64 == np.dtype(float).type`.\n",
      "  from ._conv import register_converters as _register_converters\n",
      "Using TensorFlow backend.\n"
     ]
    }
   ],
   "source": [
    "import tensorflow as tf\n",
    "import keras\n",
    "from keras import backend as K\n",
    "from keras.models import Sequential\n",
    "from keras.layers import Dense\n",
    "from keras.wrappers.scikit_learn import KerasClassifier\n",
    "from keras.utils import np_utils\n",
    "from sklearn.model_selection import cross_val_score\n",
    "from sklearn.model_selection import KFold\n",
    "from sklearn.preprocessing import LabelEncoder\n",
    "from sklearn.pipeline import Pipeline"
   ]
  },
  {
   "cell_type": "code",
   "execution_count": 5,
   "metadata": {},
   "outputs": [],
   "source": [
    "num_classes = len(y_train.unique())\n",
    "num_dimensions = X_train.shape[1]\n",
    "num_neurons_hidden_layer = int((num_dimensions + num_classes) / 2)\n",
    "\n",
    "def baseline_model():\n",
    "    # define baseline model\n",
    "    model = Sequential()\n",
    "    model.add(Dense(num_neurons_hidden_layer, input_dim=num_dimensions, activation='relu'))\n",
    "    model.add(Dense(num_classes, activation='softmax'))\n",
    "    # Compile model\n",
    "    model.compile(loss='categorical_crossentropy', optimizer='adam', metrics=['accuracy'])\n",
    "    return model"
   ]
  },
  {
   "cell_type": "code",
   "execution_count": 6,
   "metadata": {},
   "outputs": [],
   "source": [
    "estimator = KerasClassifier(build_fn=baseline_model, epochs=20, batch_size=5, verbose=2)"
   ]
  },
  {
   "cell_type": "code",
   "execution_count": 7,
   "metadata": {},
   "outputs": [
    {
     "data": {
      "text/plain": [
       "(5830, 4096)"
      ]
     },
     "execution_count": 7,
     "metadata": {},
     "output_type": "execute_result"
    }
   ],
   "source": [
    "X_train.shape"
   ]
  },
  {
   "cell_type": "code",
   "execution_count": 8,
   "metadata": {},
   "outputs": [],
   "source": [
    "kfold = KFold(n_splits=10, shuffle=True, random_state=42)"
   ]
  },
  {
   "cell_type": "code",
   "execution_count": null,
   "metadata": {},
   "outputs": [
    {
     "name": "stdout",
     "output_type": "stream",
     "text": [
      "Epoch 1/20\n",
      " - 135s - loss: 2.2735 - acc: 0.6364\n",
      "Epoch 2/20\n",
      " - 137s - loss: 1.4584 - acc: 0.7831\n",
      "Epoch 3/20\n",
      " - 140s - loss: 1.2653 - acc: 0.8355\n",
      "Epoch 4/20\n",
      " - 132s - loss: 1.2158 - acc: 0.8557\n",
      "Epoch 5/20\n",
      " - 132s - loss: 1.1850 - acc: 0.8757\n",
      "Epoch 6/20\n",
      " - 134s - loss: 1.1872 - acc: 0.8828\n",
      "Epoch 7/20\n",
      " - 142s - loss: 1.0581 - acc: 0.8982\n",
      "Epoch 8/20\n",
      " - 132s - loss: 1.0754 - acc: 0.9017\n",
      "Epoch 9/20\n",
      " - 131s - loss: 1.0588 - acc: 0.9089\n",
      "Epoch 10/20\n",
      " - 132s - loss: 1.0006 - acc: 0.9163\n",
      "Epoch 11/20\n",
      " - 131s - loss: 1.0473 - acc: 0.9152\n",
      "Epoch 12/20\n",
      " - 132s - loss: 1.2772 - acc: 0.8971\n",
      "Epoch 13/20\n",
      " - 133s - loss: 1.0449 - acc: 0.9200\n",
      "Epoch 14/20\n",
      " - 132s - loss: 1.0034 - acc: 0.9226\n",
      "Epoch 15/20\n",
      " - 132s - loss: 0.9833 - acc: 0.9266\n",
      "Epoch 16/20\n",
      " - 132s - loss: 1.0140 - acc: 0.9251\n",
      "Epoch 17/20\n",
      " - 131s - loss: 0.9404 - acc: 0.9304\n",
      "Epoch 18/20\n",
      " - 132s - loss: 1.0176 - acc: 0.9238\n",
      "Epoch 19/20\n",
      " - 131s - loss: 0.9431 - acc: 0.9341\n",
      "Epoch 20/20\n",
      " - 131s - loss: 0.9733 - acc: 0.9304\n",
      "Epoch 1/20\n",
      " - 134s - loss: 2.1889 - acc: 0.6406\n",
      "Epoch 2/20\n",
      " - 131s - loss: 1.4715 - acc: 0.7782\n",
      "Epoch 3/20\n",
      " - 140s - loss: 1.3870 - acc: 0.8172\n",
      "Epoch 4/20\n",
      " - 141s - loss: 1.2094 - acc: 0.8574\n",
      "Epoch 5/20\n",
      " - 137s - loss: 1.1734 - acc: 0.8742\n",
      "Epoch 6/20\n",
      " - 137s - loss: 1.2157 - acc: 0.8784\n",
      "Epoch 7/20\n",
      " - 135s - loss: 1.1251 - acc: 0.8931\n",
      "Epoch 8/20\n",
      " - 130s - loss: 1.1922 - acc: 0.8933\n",
      "Epoch 9/20\n",
      " - 132s - loss: 1.1140 - acc: 0.9030\n",
      "Epoch 10/20\n",
      " - 132s - loss: 1.0656 - acc: 0.9116\n",
      "Epoch 11/20\n",
      " - 130s - loss: 0.9808 - acc: 0.9207\n",
      "Epoch 12/20\n",
      " - 132s - loss: 1.0316 - acc: 0.9201\n",
      "Epoch 13/20\n",
      " - 133s - loss: 1.0671 - acc: 0.9163\n",
      "Epoch 14/20\n",
      " - 133s - loss: 1.0339 - acc: 0.9207\n",
      "Epoch 15/20\n",
      " - 133s - loss: 1.0429 - acc: 0.9219\n",
      "Epoch 16/20\n",
      " - 133s - loss: 1.0472 - acc: 0.9184\n",
      "Epoch 17/20\n",
      " - 131s - loss: 1.0760 - acc: 0.9215\n",
      "Epoch 18/20\n",
      " - 132s - loss: 1.0835 - acc: 0.9194\n",
      "Epoch 19/20\n",
      " - 131s - loss: 1.0234 - acc: 0.9262\n",
      "Epoch 20/20\n",
      " - 132s - loss: 0.9609 - acc: 0.9318\n",
      "Epoch 1/20\n",
      " - 124s - loss: 1.5013 - acc: 0.6863\n",
      "Epoch 2/20\n",
      " - 123s - loss: 0.6853 - acc: 0.8243\n",
      "Epoch 3/20\n",
      " - 124s - loss: 0.4975 - acc: 0.8782\n",
      "Epoch 4/20\n",
      " - 125s - loss: 0.5666 - acc: 0.8917\n",
      "Epoch 5/20\n",
      " - 125s - loss: 0.3747 - acc: 0.9281\n",
      "Epoch 6/20\n",
      " - 125s - loss: 0.3687 - acc: 0.9360\n",
      "Epoch 7/20\n",
      " - 126s - loss: 0.3484 - acc: 0.9392\n",
      "Epoch 8/20\n",
      " - 125s - loss: 0.3243 - acc: 0.9472\n",
      "Epoch 9/20\n",
      " - 125s - loss: 0.3212 - acc: 0.9518\n",
      "Epoch 10/20\n",
      " - 125s - loss: 0.2633 - acc: 0.9604\n",
      "Epoch 11/20\n",
      " - 130s - loss: 0.3027 - acc: 0.9567\n",
      "Epoch 12/20\n",
      " - 125s - loss: 0.2322 - acc: 0.9674\n",
      "Epoch 13/20\n",
      " - 126s - loss: 0.2328 - acc: 0.9701\n",
      "Epoch 14/20\n",
      " - 125s - loss: 0.3259 - acc: 0.9607\n",
      "Epoch 15/20\n",
      " - 125s - loss: 0.2335 - acc: 0.9689\n",
      "Epoch 16/20\n",
      " - 125s - loss: 0.1595 - acc: 0.9788\n",
      "Epoch 17/20\n",
      " - 125s - loss: 0.1964 - acc: 0.9766\n",
      "Epoch 18/20\n"
     ]
    }
   ],
   "source": [
    "results = cross_val_score(estimator, X_train, y_train, cv=kfold)"
   ]
  },
  {
   "cell_type": "code",
   "execution_count": null,
   "metadata": {},
   "outputs": [],
   "source": [
    "print(\"Baseline: %.2f%% (%.2f%%)\" % (results.mean()*100, results.std()*100))"
   ]
  },
  {
   "cell_type": "code",
   "execution_count": null,
   "metadata": {},
   "outputs": [],
   "source": [
    "y_validation_predictions = estimator.predict(X_validation)\n",
    "print(classification_report(y_validation, y_validation_predictions))"
   ]
  },
  {
   "cell_type": "code",
   "execution_count": null,
   "metadata": {},
   "outputs": [],
   "source": []
  },
  {
   "cell_type": "code",
   "execution_count": null,
   "metadata": {},
   "outputs": [],
   "source": []
  },
  {
   "cell_type": "code",
   "execution_count": 8,
   "metadata": {},
   "outputs": [
    {
     "name": "stdout",
     "output_type": "stream",
     "text": [
      "Train on 4664 samples, validate on 1166 samples\n",
      "Epoch 1/20\n",
      " - 120s - loss: 3.9904 - acc: 0.5971 - val_loss: 14.2498 - val_acc: 0.0489\n",
      "Epoch 2/20\n",
      " - 119s - loss: 0.6574 - acc: 0.8422 - val_loss: 14.7031 - val_acc: 0.0480\n",
      "Epoch 3/20\n",
      " - 119s - loss: 0.4850 - acc: 0.8885 - val_loss: 14.8774 - val_acc: 0.0515\n",
      "Epoch 4/20\n",
      " - 119s - loss: 0.3432 - acc: 0.9237 - val_loss: 15.0133 - val_acc: 0.0463\n",
      "Epoch 5/20\n",
      " - 122s - loss: 0.3266 - acc: 0.9363 - val_loss: 14.9705 - val_acc: 0.0429\n",
      "Epoch 6/20\n",
      " - 120s - loss: 0.2952 - acc: 0.9470 - val_loss: 15.0774 - val_acc: 0.0549\n",
      "Epoch 7/20\n",
      " - 119s - loss: 0.2562 - acc: 0.9543 - val_loss: 15.2387 - val_acc: 0.0437\n",
      "Epoch 8/20\n",
      " - 120s - loss: 0.2755 - acc: 0.9552 - val_loss: 15.1056 - val_acc: 0.0575\n",
      "Epoch 9/20\n",
      " - 119s - loss: 0.3266 - acc: 0.9539 - val_loss: 15.1964 - val_acc: 0.0497\n",
      "Epoch 10/20\n",
      " - 121s - loss: 0.2394 - acc: 0.9648 - val_loss: 15.3161 - val_acc: 0.0420\n",
      "Epoch 11/20\n",
      " - 120s - loss: 0.2999 - acc: 0.9584 - val_loss: 15.2860 - val_acc: 0.0420\n",
      "Epoch 12/20\n",
      " - 120s - loss: 0.2468 - acc: 0.9687 - val_loss: 15.2251 - val_acc: 0.0497\n",
      "Epoch 13/20\n",
      " - 119s - loss: 0.2460 - acc: 0.9678 - val_loss: 15.1630 - val_acc: 0.0557\n",
      "Epoch 14/20\n",
      " - 120s - loss: 0.2834 - acc: 0.9681 - val_loss: 15.2194 - val_acc: 0.0480\n",
      "Epoch 15/20\n",
      " - 120s - loss: 0.1487 - acc: 0.9820 - val_loss: 15.2615 - val_acc: 0.0506\n",
      "Epoch 16/20\n",
      " - 120s - loss: 0.1884 - acc: 0.9777 - val_loss: 15.2235 - val_acc: 0.0523\n",
      "Epoch 17/20\n",
      " - 119s - loss: 0.2306 - acc: 0.9741 - val_loss: 15.2213 - val_acc: 0.0523\n",
      "Epoch 18/20\n",
      " - 120s - loss: 0.1838 - acc: 0.9792 - val_loss: 15.2068 - val_acc: 0.0532\n",
      "Epoch 19/20\n",
      " - 120s - loss: 0.2983 - acc: 0.9681 - val_loss: 15.3639 - val_acc: 0.0420\n",
      "Epoch 20/20\n",
      " - 120s - loss: 0.2034 - acc: 0.9764 - val_loss: 15.2219 - val_acc: 0.0532\n"
     ]
    }
   ],
   "source": [
    "#hist = estimator.fit(X_train, y_train, shuffle=True, validation_split=0.2, verbose=2)"
   ]
  },
  {
   "cell_type": "code",
   "execution_count": 9,
   "metadata": {},
   "outputs": [
    {
     "name": "stdout",
     "output_type": "stream",
     "text": [
      "_________________________________________________________________\n",
      "Layer (type)                 Output Shape              Param #   \n",
      "=================================================================\n",
      "dense_1 (Dense)              (None, 2062)              8448014   \n",
      "_________________________________________________________________\n",
      "dense_2 (Dense)              (None, 29)                59827     \n",
      "=================================================================\n",
      "Total params: 8,507,841\n",
      "Trainable params: 8,507,841\n",
      "Non-trainable params: 0\n",
      "_________________________________________________________________\n"
     ]
    }
   ],
   "source": [
    "estimator.model.summary()"
   ]
  },
  {
   "cell_type": "code",
   "execution_count": 12,
   "metadata": {},
   "outputs": [],
   "source": [
    "#estimator.model.evaluate(X_validation, keras.utils.to_categorical(y_validation), verbose=1)"
   ]
  },
  {
   "cell_type": "code",
   "execution_count": 15,
   "metadata": {},
   "outputs": [],
   "source": [
    "y_validation_predictions = estimator.predict(X_validation)"
   ]
  },
  {
   "cell_type": "code",
   "execution_count": 18,
   "metadata": {},
   "outputs": [
    {
     "name": "stdout",
     "output_type": "stream",
     "text": [
      "             precision    recall  f1-score   support\n",
      "\n",
      "          1       0.97      1.00      0.98       116\n",
      "          2       0.62      0.58      0.60        96\n",
      "          3       0.73      0.70      0.72        94\n",
      "          4       0.84      0.85      0.84        92\n",
      "          5       0.74      0.83      0.78        88\n",
      "          6       0.38      0.59      0.46        92\n",
      "          7       0.57      0.40      0.47        92\n",
      "          8       0.51      0.60      0.55        88\n",
      "          9       0.75      0.77      0.76        88\n",
      "         10       0.48      0.72      0.58        82\n",
      "         11       0.86      0.92      0.89        86\n",
      "         12       0.67      0.72      0.70        80\n",
      "         13       0.66      0.96      0.78        80\n",
      "         14       0.38      0.80      0.52        82\n",
      "         15       0.40      0.80      0.54        82\n",
      "         16       0.49      0.87      0.63        82\n",
      "         17       0.84      0.90      0.87        80\n",
      "         18       0.92      0.74      0.82        80\n",
      "         19       0.84      0.83      0.84        78\n",
      "         20       0.57      0.47      0.52        74\n",
      "         21       0.73      0.95      0.83        76\n",
      "         22       0.47      0.77      0.59        74\n",
      "         23       0.00      0.00      0.00        66\n",
      "         24       0.00      0.00      0.00        72\n",
      "         25       0.00      0.00      0.00        64\n",
      "         26       0.00      0.00      0.00        66\n",
      "         27       0.00      0.00      0.00        56\n",
      "         28       0.00      0.00      0.00        52\n",
      "         29       0.00      0.00      0.00        40\n",
      "\n",
      "avg / total       0.54      0.63      0.57      2298\n",
      "\n"
     ]
    },
    {
     "name": "stderr",
     "output_type": "stream",
     "text": [
      "/home/omar/anaconda3/envs/cvml/lib/python3.6/site-packages/sklearn/metrics/classification.py:1135: UndefinedMetricWarning: Precision and F-score are ill-defined and being set to 0.0 in labels with no predicted samples.\n",
      "  'precision', 'predicted', average, warn_for)\n"
     ]
    }
   ],
   "source": [
    "print(classification_report(y_validation, y_validation_predictions))"
   ]
  },
  {
   "cell_type": "code",
   "execution_count": null,
   "metadata": {},
   "outputs": [],
   "source": []
  }
 ],
 "metadata": {
  "kernelspec": {
   "display_name": "Python 3",
   "language": "python",
   "name": "python3"
  },
  "language_info": {
   "codemirror_mode": {
    "name": "ipython",
    "version": 3
   },
   "file_extension": ".py",
   "mimetype": "text/x-python",
   "name": "python",
   "nbconvert_exporter": "python",
   "pygments_lexer": "ipython3",
   "version": "3.6.5"
  }
 },
 "nbformat": 4,
 "nbformat_minor": 2
}
