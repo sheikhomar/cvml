{
 "cells": [
  {
   "cell_type": "markdown",
   "metadata": {},
   "source": [
    "# Multi-Layer Perceptron"
   ]
  },
  {
   "cell_type": "code",
   "execution_count": 2,
   "metadata": {
    "ExecuteTime": {
     "end_time": "2018-04-07T09:25:38.785599Z",
     "start_time": "2018-04-07T09:25:38.778097Z"
    },
    "collapsed": true
   },
   "outputs": [],
   "source": [
    "import time\n",
    "\n",
    "import numpy as np\n",
    "import pandas as pd\n",
    "import matplotlib.pyplot as plt\n",
    "import seaborn as sns\n",
    "from sklearn.metrics import classification_report\n",
    "\n",
    "%matplotlib inline"
   ]
  },
  {
   "cell_type": "code",
   "execution_count": 3,
   "metadata": {
    "ExecuteTime": {
     "end_time": "2018-04-07T09:25:38.793602Z",
     "start_time": "2018-04-07T09:25:38.787599Z"
    },
    "collapsed": true
   },
   "outputs": [],
   "source": [
    "def write_predictions(predictions, file_name='pred.csv'):\n",
    "    with open(file_name, 'w') as file:\n",
    "        file.write('ID,Label')\n",
    "        for index, value in enumerate(predictions):\n",
    "            file.write('\\n{0},{1}'.format(index+1, value))"
   ]
  },
  {
   "cell_type": "code",
   "execution_count": 4,
   "metadata": {
    "ExecuteTime": {
     "end_time": "2018-04-07T09:25:51.708378Z",
     "start_time": "2018-04-07T09:25:38.797101Z"
    },
    "collapsed": true
   },
   "outputs": [],
   "source": [
    "# Load Data\n",
    "X_train = pd.read_csv('Train/trainVectors.csv', header=None).transpose()\n",
    "y_train = pd.read_csv('Train/trainLbls.csv', header=None, names=['label'])['label']\n",
    "X_validation = pd.read_csv('Validation/valVectors.csv', header=None).transpose()\n",
    "y_validation = pd.read_csv('Validation/valLbls.csv', header=None, names=['label'])['label']\n",
    "X_test = pd.read_csv('Test/testVectors.csv', header=None).transpose()"
   ]
  },
  {
   "cell_type": "code",
   "execution_count": 5,
   "metadata": {
    "ExecuteTime": {
     "end_time": "2018-04-07T09:25:59.400661Z",
     "start_time": "2018-04-07T09:25:51.710378Z"
    }
   },
   "outputs": [
    {
     "name": "stderr",
     "output_type": "stream",
     "text": [
      "Using TensorFlow backend.\n"
     ]
    }
   ],
   "source": [
    "import tensorflow as tf\n",
    "import keras\n",
    "from keras import backend as K\n",
    "from keras.models import Sequential\n",
    "from keras.layers import Dense, Dropout\n",
    "from keras.callbacks import EarlyStopping, ModelCheckpoint\n",
    "from keras.wrappers.scikit_learn import KerasClassifier\n",
    "\n",
    "from sklearn.model_selection import cross_val_score\n",
    "from sklearn.model_selection import KFold\n",
    "from sklearn.preprocessing import LabelEncoder\n",
    "from sklearn.pipeline import Pipeline\n"
   ]
  },
  {
   "cell_type": "code",
   "execution_count": 6,
   "metadata": {
    "ExecuteTime": {
     "end_time": "2018-04-07T09:26:00.220512Z",
     "start_time": "2018-04-07T09:25:59.402662Z"
    }
   },
   "outputs": [],
   "source": [
    "from sklearn.preprocessing import StandardScaler\n",
    "scaler = StandardScaler()\n",
    "X_train = scaler.fit_transform(X_train)\n"
   ]
  },
  {
   "cell_type": "code",
   "execution_count": 7,
   "metadata": {
    "ExecuteTime": {
     "end_time": "2018-04-07T09:26:00.252017Z",
     "start_time": "2018-04-07T09:26:00.223509Z"
    }
   },
   "outputs": [],
   "source": [
    "num_classes = len(y_train.unique())\n",
    "num_dimensions = X_train.shape[1]\n",
    "\n",
    "def baseline_model():\n",
    "    # define baseline model\n",
    "    model = Sequential()\n",
    "    model.add(Dense(10, input_dim=num_dimensions, activation='tanh'))\n",
    "    model.add(Dropout(.5))\n",
    "    #model.add(Dense(20, input_dim=num_dimensions, activation='tanh'))\n",
    "    #model.add(Dense(50, input_dim=num_dimensions, activation='elu'))\n",
    "    model.add(Dense(num_classes, activation='softmax'))\n",
    "    # Compile model\n",
    "    model.compile(loss='sparse_categorical_crossentropy', optimizer='rmsprop', metrics=['accuracy'])\n",
    "    return model\n",
    "\n",
    "def plot_perf(keras_history):\n",
    "    loss_values = keras_history.history['loss']\n",
    "    val_loss_values = keras_history.history['val_loss']\n",
    "    accuracy = keras_history.history['acc']\n",
    "    epochs = range(1, len(loss_values) + 1)\n",
    "\n",
    "    # Plot the scores\n",
    "    fig, ax = plt.subplots(figsize=(4,4))\n",
    "    ax.plot(epochs, loss_values, 'o-')\n",
    "    ax.plot(epochs, val_loss_values, '-')\n",
    "    ax.set_xlabel('Epochs')\n",
    "    ax.set_ylabel('Loss')\n",
    "\n",
    "def plot_accuracy(keras_history):\n",
    "    accuracy = keras_history.history['acc']\n",
    "    epochs = range(1, len(accuracy) + 1)\n",
    "\n",
    "    # Plot the scores\n",
    "    fig, ax = plt.subplots(figsize=(4,4))\n",
    "    ax.plot(epochs, accuracy, 'o-')\n",
    "    ax.set_xlabel('Epochs')\n",
    "    ax.set_ylabel('Accuracy')\n",
    "    "
   ]
  },
  {
   "cell_type": "code",
   "execution_count": 8,
   "metadata": {
    "ExecuteTime": {
     "end_time": "2018-04-07T09:26:00.426586Z",
     "start_time": "2018-04-07T09:26:00.255016Z"
    }
   },
   "outputs": [
    {
     "name": "stdout",
     "output_type": "stream",
     "text": [
      "_________________________________________________________________\n",
      "Layer (type)                 Output Shape              Param #   \n",
      "=================================================================\n",
      "dense_1 (Dense)              (None, 10)                40970     \n",
      "_________________________________________________________________\n",
      "dropout_1 (Dropout)          (None, 10)                0         \n",
      "_________________________________________________________________\n",
      "dense_2 (Dense)              (None, 29)                319       \n",
      "=================================================================\n",
      "Total params: 41,289\n",
      "Trainable params: 41,289\n",
      "Non-trainable params: 0\n",
      "_________________________________________________________________\n"
     ]
    }
   ],
   "source": [
    "baseline_model().summary()"
   ]
  },
  {
   "cell_type": "code",
   "execution_count": 9,
   "metadata": {
    "ExecuteTime": {
     "end_time": "2018-04-07T09:26:00.432587Z",
     "start_time": "2018-04-07T09:26:00.428586Z"
    },
    "collapsed": true
   },
   "outputs": [],
   "source": [
    "estimator = KerasClassifier(build_fn=baseline_model, epochs=10, batch_size=32, verbose=0)"
   ]
  },
  {
   "cell_type": "code",
   "execution_count": 10,
   "metadata": {
    "ExecuteTime": {
     "end_time": "2018-04-07T09:26:03.207399Z",
     "start_time": "2018-04-07T09:26:00.434588Z"
    }
   },
   "outputs": [
    {
     "name": "stdout",
     "output_type": "stream",
     "text": [
      "Train on 5830 samples, validate on 2298 samples\n",
      "Epoch 1/10\n"
     ]
    },
    {
     "ename": "InternalError",
     "evalue": "Blas GEMM launch failed : a.shape=(32, 4096), b.shape=(4096, 10), m=32, n=10, k=4096\n\t [[Node: dense_3/MatMul = MatMul[T=DT_FLOAT, transpose_a=false, transpose_b=false, _device=\"/job:localhost/replica:0/task:0/device:GPU:0\"](_arg_dense_3_input_0_0/_51, dense_3/kernel/read)]]\n\t [[Node: loss_1/mul/_89 = _Recv[client_terminated=false, recv_device=\"/job:localhost/replica:0/task:0/device:CPU:0\", send_device=\"/job:localhost/replica:0/task:0/device:GPU:0\", send_device_incarnation=1, tensor_name=\"edge_388_loss_1/mul\", tensor_type=DT_FLOAT, _device=\"/job:localhost/replica:0/task:0/device:CPU:0\"]()]]\n\nCaused by op 'dense_3/MatMul', defined at:\n  File \"C:\\Users\\omar\\Anaconda3\\lib\\runpy.py\", line 193, in _run_module_as_main\n    \"__main__\", mod_spec)\n  File \"C:\\Users\\omar\\Anaconda3\\lib\\runpy.py\", line 85, in _run_code\n    exec(code, run_globals)\n  File \"C:\\Users\\omar\\Anaconda3\\lib\\site-packages\\ipykernel_launcher.py\", line 16, in <module>\n    app.launch_new_instance()\n  File \"C:\\Users\\omar\\Anaconda3\\lib\\site-packages\\traitlets\\config\\application.py\", line 658, in launch_instance\n    app.start()\n  File \"C:\\Users\\omar\\Anaconda3\\lib\\site-packages\\ipykernel\\kernelapp.py\", line 477, in start\n    ioloop.IOLoop.instance().start()\n  File \"C:\\Users\\omar\\Anaconda3\\lib\\site-packages\\zmq\\eventloop\\ioloop.py\", line 177, in start\n    super(ZMQIOLoop, self).start()\n  File \"C:\\Users\\omar\\Anaconda3\\lib\\site-packages\\tornado\\ioloop.py\", line 888, in start\n    handler_func(fd_obj, events)\n  File \"C:\\Users\\omar\\Anaconda3\\lib\\site-packages\\tornado\\stack_context.py\", line 277, in null_wrapper\n    return fn(*args, **kwargs)\n  File \"C:\\Users\\omar\\Anaconda3\\lib\\site-packages\\zmq\\eventloop\\zmqstream.py\", line 440, in _handle_events\n    self._handle_recv()\n  File \"C:\\Users\\omar\\Anaconda3\\lib\\site-packages\\zmq\\eventloop\\zmqstream.py\", line 472, in _handle_recv\n    self._run_callback(callback, msg)\n  File \"C:\\Users\\omar\\Anaconda3\\lib\\site-packages\\zmq\\eventloop\\zmqstream.py\", line 414, in _run_callback\n    callback(*args, **kwargs)\n  File \"C:\\Users\\omar\\Anaconda3\\lib\\site-packages\\tornado\\stack_context.py\", line 277, in null_wrapper\n    return fn(*args, **kwargs)\n  File \"C:\\Users\\omar\\Anaconda3\\lib\\site-packages\\ipykernel\\kernelbase.py\", line 283, in dispatcher\n    return self.dispatch_shell(stream, msg)\n  File \"C:\\Users\\omar\\Anaconda3\\lib\\site-packages\\ipykernel\\kernelbase.py\", line 235, in dispatch_shell\n    handler(stream, idents, msg)\n  File \"C:\\Users\\omar\\Anaconda3\\lib\\site-packages\\ipykernel\\kernelbase.py\", line 399, in execute_request\n    user_expressions, allow_stdin)\n  File \"C:\\Users\\omar\\Anaconda3\\lib\\site-packages\\ipykernel\\ipkernel.py\", line 196, in do_execute\n    res = shell.run_cell(code, store_history=store_history, silent=silent)\n  File \"C:\\Users\\omar\\Anaconda3\\lib\\site-packages\\ipykernel\\zmqshell.py\", line 533, in run_cell\n    return super(ZMQInteractiveShell, self).run_cell(*args, **kwargs)\n  File \"C:\\Users\\omar\\Anaconda3\\lib\\site-packages\\IPython\\core\\interactiveshell.py\", line 2717, in run_cell\n    interactivity=interactivity, compiler=compiler, result=result)\n  File \"C:\\Users\\omar\\Anaconda3\\lib\\site-packages\\IPython\\core\\interactiveshell.py\", line 2821, in run_ast_nodes\n    if self.run_code(code, result):\n  File \"C:\\Users\\omar\\Anaconda3\\lib\\site-packages\\IPython\\core\\interactiveshell.py\", line 2881, in run_code\n    exec(code_obj, self.user_global_ns, self.user_ns)\n  File \"<ipython-input-10-d633fc50dec0>\", line 2, in <module>\n    hist = estimator.fit(X_train, y_train, shuffle=True, validation_data=(X_validation, y_validation), callbacks=[checkpoint], verbose=1)\n  File \"C:\\Users\\omar\\Anaconda3\\lib\\site-packages\\keras\\wrappers\\scikit_learn.py\", line 209, in fit\n    return super(KerasClassifier, self).fit(x, y, **kwargs)\n  File \"C:\\Users\\omar\\Anaconda3\\lib\\site-packages\\keras\\wrappers\\scikit_learn.py\", line 140, in fit\n    self.model = self.build_fn(**self.filter_sk_params(self.build_fn))\n  File \"<ipython-input-7-30edb60c3694>\", line 7, in baseline_model\n    model.add(Dense(10, input_dim=num_dimensions, activation='tanh'))\n  File \"C:\\Users\\omar\\Anaconda3\\lib\\site-packages\\keras\\models.py\", line 467, in add\n    layer(x)\n  File \"C:\\Users\\omar\\Anaconda3\\lib\\site-packages\\keras\\engine\\topology.py\", line 619, in __call__\n    output = self.call(inputs, **kwargs)\n  File \"C:\\Users\\omar\\Anaconda3\\lib\\site-packages\\keras\\layers\\core.py\", line 855, in call\n    output = K.dot(inputs, self.kernel)\n  File \"C:\\Users\\omar\\Anaconda3\\lib\\site-packages\\keras\\backend\\tensorflow_backend.py\", line 1075, in dot\n    out = tf.matmul(x, y)\n  File \"C:\\Users\\omar\\Anaconda3\\lib\\site-packages\\tensorflow\\python\\ops\\math_ops.py\", line 2064, in matmul\n    a, b, transpose_a=transpose_a, transpose_b=transpose_b, name=name)\n  File \"C:\\Users\\omar\\Anaconda3\\lib\\site-packages\\tensorflow\\python\\ops\\gen_math_ops.py\", line 2790, in _mat_mul\n    name=name)\n  File \"C:\\Users\\omar\\Anaconda3\\lib\\site-packages\\tensorflow\\python\\framework\\op_def_library.py\", line 787, in _apply_op_helper\n    op_def=op_def)\n  File \"C:\\Users\\omar\\Anaconda3\\lib\\site-packages\\tensorflow\\python\\framework\\ops.py\", line 3271, in create_op\n    op_def=op_def)\n  File \"C:\\Users\\omar\\Anaconda3\\lib\\site-packages\\tensorflow\\python\\framework\\ops.py\", line 1650, in __init__\n    self._traceback = self._graph._extract_stack()  # pylint: disable=protected-access\n\nInternalError (see above for traceback): Blas GEMM launch failed : a.shape=(32, 4096), b.shape=(4096, 10), m=32, n=10, k=4096\n\t [[Node: dense_3/MatMul = MatMul[T=DT_FLOAT, transpose_a=false, transpose_b=false, _device=\"/job:localhost/replica:0/task:0/device:GPU:0\"](_arg_dense_3_input_0_0/_51, dense_3/kernel/read)]]\n\t [[Node: loss_1/mul/_89 = _Recv[client_terminated=false, recv_device=\"/job:localhost/replica:0/task:0/device:CPU:0\", send_device=\"/job:localhost/replica:0/task:0/device:GPU:0\", send_device_incarnation=1, tensor_name=\"edge_388_loss_1/mul\", tensor_type=DT_FLOAT, _device=\"/job:localhost/replica:0/task:0/device:CPU:0\"]()]]\n",
     "output_type": "error",
     "traceback": [
      "\u001b[1;31m---------------------------------------------------------------------------\u001b[0m",
      "\u001b[1;31mInternalError\u001b[0m                             Traceback (most recent call last)",
      "\u001b[1;32mC:\\Users\\omar\\Anaconda3\\lib\\site-packages\\tensorflow\\python\\client\\session.py\u001b[0m in \u001b[0;36m_do_call\u001b[1;34m(self, fn, *args)\u001b[0m\n\u001b[0;32m   1360\u001b[0m     \u001b[1;32mtry\u001b[0m\u001b[1;33m:\u001b[0m\u001b[1;33m\u001b[0m\u001b[0m\n\u001b[1;32m-> 1361\u001b[1;33m       \u001b[1;32mreturn\u001b[0m \u001b[0mfn\u001b[0m\u001b[1;33m(\u001b[0m\u001b[1;33m*\u001b[0m\u001b[0margs\u001b[0m\u001b[1;33m)\u001b[0m\u001b[1;33m\u001b[0m\u001b[0m\n\u001b[0m\u001b[0;32m   1362\u001b[0m     \u001b[1;32mexcept\u001b[0m \u001b[0merrors\u001b[0m\u001b[1;33m.\u001b[0m\u001b[0mOpError\u001b[0m \u001b[1;32mas\u001b[0m \u001b[0me\u001b[0m\u001b[1;33m:\u001b[0m\u001b[1;33m\u001b[0m\u001b[0m\n",
      "\u001b[1;32mC:\\Users\\omar\\Anaconda3\\lib\\site-packages\\tensorflow\\python\\client\\session.py\u001b[0m in \u001b[0;36m_run_fn\u001b[1;34m(session, feed_dict, fetch_list, target_list, options, run_metadata)\u001b[0m\n\u001b[0;32m   1339\u001b[0m           return tf_session.TF_Run(session, options, feed_dict, fetch_list,\n\u001b[1;32m-> 1340\u001b[1;33m                                    target_list, status, run_metadata)\n\u001b[0m\u001b[0;32m   1341\u001b[0m \u001b[1;33m\u001b[0m\u001b[0m\n",
      "\u001b[1;32mC:\\Users\\omar\\Anaconda3\\lib\\site-packages\\tensorflow\\python\\framework\\errors_impl.py\u001b[0m in \u001b[0;36m__exit__\u001b[1;34m(self, type_arg, value_arg, traceback_arg)\u001b[0m\n\u001b[0;32m    515\u001b[0m             \u001b[0mcompat\u001b[0m\u001b[1;33m.\u001b[0m\u001b[0mas_text\u001b[0m\u001b[1;33m(\u001b[0m\u001b[0mc_api\u001b[0m\u001b[1;33m.\u001b[0m\u001b[0mTF_Message\u001b[0m\u001b[1;33m(\u001b[0m\u001b[0mself\u001b[0m\u001b[1;33m.\u001b[0m\u001b[0mstatus\u001b[0m\u001b[1;33m.\u001b[0m\u001b[0mstatus\u001b[0m\u001b[1;33m)\u001b[0m\u001b[1;33m)\u001b[0m\u001b[1;33m,\u001b[0m\u001b[1;33m\u001b[0m\u001b[0m\n\u001b[1;32m--> 516\u001b[1;33m             c_api.TF_GetCode(self.status.status))\n\u001b[0m\u001b[0;32m    517\u001b[0m     \u001b[1;31m# Delete the underlying status object from memory otherwise it stays alive\u001b[0m\u001b[1;33m\u001b[0m\u001b[1;33m\u001b[0m\u001b[0m\n",
      "\u001b[1;31mInternalError\u001b[0m: Blas GEMM launch failed : a.shape=(32, 4096), b.shape=(4096, 10), m=32, n=10, k=4096\n\t [[Node: dense_3/MatMul = MatMul[T=DT_FLOAT, transpose_a=false, transpose_b=false, _device=\"/job:localhost/replica:0/task:0/device:GPU:0\"](_arg_dense_3_input_0_0/_51, dense_3/kernel/read)]]\n\t [[Node: loss_1/mul/_89 = _Recv[client_terminated=false, recv_device=\"/job:localhost/replica:0/task:0/device:CPU:0\", send_device=\"/job:localhost/replica:0/task:0/device:GPU:0\", send_device_incarnation=1, tensor_name=\"edge_388_loss_1/mul\", tensor_type=DT_FLOAT, _device=\"/job:localhost/replica:0/task:0/device:CPU:0\"]()]]",
      "\nDuring handling of the above exception, another exception occurred:\n",
      "\u001b[1;31mInternalError\u001b[0m                             Traceback (most recent call last)",
      "\u001b[1;32m<ipython-input-10-d633fc50dec0>\u001b[0m in \u001b[0;36m<module>\u001b[1;34m()\u001b[0m\n\u001b[0;32m      1\u001b[0m \u001b[0mcheckpoint\u001b[0m \u001b[1;33m=\u001b[0m \u001b[0mModelCheckpoint\u001b[0m\u001b[1;33m(\u001b[0m\u001b[1;34m'best-model.h5'\u001b[0m\u001b[1;33m,\u001b[0m \u001b[0mverbose\u001b[0m\u001b[1;33m=\u001b[0m\u001b[1;36m1\u001b[0m\u001b[1;33m,\u001b[0m \u001b[0mmonitor\u001b[0m\u001b[1;33m=\u001b[0m\u001b[1;34m'val_loss'\u001b[0m\u001b[1;33m,\u001b[0m \u001b[0msave_best_only\u001b[0m\u001b[1;33m=\u001b[0m\u001b[1;32mTrue\u001b[0m\u001b[1;33m,\u001b[0m \u001b[0mmode\u001b[0m\u001b[1;33m=\u001b[0m\u001b[1;34m'auto'\u001b[0m\u001b[1;33m)\u001b[0m\u001b[1;33m\u001b[0m\u001b[0m\n\u001b[1;32m----> 2\u001b[1;33m \u001b[0mhist\u001b[0m \u001b[1;33m=\u001b[0m \u001b[0mestimator\u001b[0m\u001b[1;33m.\u001b[0m\u001b[0mfit\u001b[0m\u001b[1;33m(\u001b[0m\u001b[0mX_train\u001b[0m\u001b[1;33m,\u001b[0m \u001b[0my_train\u001b[0m\u001b[1;33m,\u001b[0m \u001b[0mshuffle\u001b[0m\u001b[1;33m=\u001b[0m\u001b[1;32mTrue\u001b[0m\u001b[1;33m,\u001b[0m \u001b[0mvalidation_data\u001b[0m\u001b[1;33m=\u001b[0m\u001b[1;33m(\u001b[0m\u001b[0mX_validation\u001b[0m\u001b[1;33m,\u001b[0m \u001b[0my_validation\u001b[0m\u001b[1;33m)\u001b[0m\u001b[1;33m,\u001b[0m \u001b[0mcallbacks\u001b[0m\u001b[1;33m=\u001b[0m\u001b[1;33m[\u001b[0m\u001b[0mcheckpoint\u001b[0m\u001b[1;33m]\u001b[0m\u001b[1;33m,\u001b[0m \u001b[0mverbose\u001b[0m\u001b[1;33m=\u001b[0m\u001b[1;36m1\u001b[0m\u001b[1;33m)\u001b[0m\u001b[1;33m\u001b[0m\u001b[0m\n\u001b[0m",
      "\u001b[1;32mC:\\Users\\omar\\Anaconda3\\lib\\site-packages\\keras\\wrappers\\scikit_learn.py\u001b[0m in \u001b[0;36mfit\u001b[1;34m(self, x, y, sample_weight, **kwargs)\u001b[0m\n\u001b[0;32m    207\u001b[0m         \u001b[1;32mif\u001b[0m \u001b[0msample_weight\u001b[0m \u001b[1;32mis\u001b[0m \u001b[1;32mnot\u001b[0m \u001b[1;32mNone\u001b[0m\u001b[1;33m:\u001b[0m\u001b[1;33m\u001b[0m\u001b[0m\n\u001b[0;32m    208\u001b[0m             \u001b[0mkwargs\u001b[0m\u001b[1;33m[\u001b[0m\u001b[1;34m'sample_weight'\u001b[0m\u001b[1;33m]\u001b[0m \u001b[1;33m=\u001b[0m \u001b[0msample_weight\u001b[0m\u001b[1;33m\u001b[0m\u001b[0m\n\u001b[1;32m--> 209\u001b[1;33m         \u001b[1;32mreturn\u001b[0m \u001b[0msuper\u001b[0m\u001b[1;33m(\u001b[0m\u001b[0mKerasClassifier\u001b[0m\u001b[1;33m,\u001b[0m \u001b[0mself\u001b[0m\u001b[1;33m)\u001b[0m\u001b[1;33m.\u001b[0m\u001b[0mfit\u001b[0m\u001b[1;33m(\u001b[0m\u001b[0mx\u001b[0m\u001b[1;33m,\u001b[0m \u001b[0my\u001b[0m\u001b[1;33m,\u001b[0m \u001b[1;33m**\u001b[0m\u001b[0mkwargs\u001b[0m\u001b[1;33m)\u001b[0m\u001b[1;33m\u001b[0m\u001b[0m\n\u001b[0m\u001b[0;32m    210\u001b[0m \u001b[1;33m\u001b[0m\u001b[0m\n\u001b[0;32m    211\u001b[0m     \u001b[1;32mdef\u001b[0m \u001b[0mpredict\u001b[0m\u001b[1;33m(\u001b[0m\u001b[0mself\u001b[0m\u001b[1;33m,\u001b[0m \u001b[0mx\u001b[0m\u001b[1;33m,\u001b[0m \u001b[1;33m**\u001b[0m\u001b[0mkwargs\u001b[0m\u001b[1;33m)\u001b[0m\u001b[1;33m:\u001b[0m\u001b[1;33m\u001b[0m\u001b[0m\n",
      "\u001b[1;32mC:\\Users\\omar\\Anaconda3\\lib\\site-packages\\keras\\wrappers\\scikit_learn.py\u001b[0m in \u001b[0;36mfit\u001b[1;34m(self, x, y, **kwargs)\u001b[0m\n\u001b[0;32m    149\u001b[0m         \u001b[0mfit_args\u001b[0m\u001b[1;33m.\u001b[0m\u001b[0mupdate\u001b[0m\u001b[1;33m(\u001b[0m\u001b[0mkwargs\u001b[0m\u001b[1;33m)\u001b[0m\u001b[1;33m\u001b[0m\u001b[0m\n\u001b[0;32m    150\u001b[0m \u001b[1;33m\u001b[0m\u001b[0m\n\u001b[1;32m--> 151\u001b[1;33m         \u001b[0mhistory\u001b[0m \u001b[1;33m=\u001b[0m \u001b[0mself\u001b[0m\u001b[1;33m.\u001b[0m\u001b[0mmodel\u001b[0m\u001b[1;33m.\u001b[0m\u001b[0mfit\u001b[0m\u001b[1;33m(\u001b[0m\u001b[0mx\u001b[0m\u001b[1;33m,\u001b[0m \u001b[0my\u001b[0m\u001b[1;33m,\u001b[0m \u001b[1;33m**\u001b[0m\u001b[0mfit_args\u001b[0m\u001b[1;33m)\u001b[0m\u001b[1;33m\u001b[0m\u001b[0m\n\u001b[0m\u001b[0;32m    152\u001b[0m \u001b[1;33m\u001b[0m\u001b[0m\n\u001b[0;32m    153\u001b[0m         \u001b[1;32mreturn\u001b[0m \u001b[0mhistory\u001b[0m\u001b[1;33m\u001b[0m\u001b[0m\n",
      "\u001b[1;32mC:\\Users\\omar\\Anaconda3\\lib\\site-packages\\keras\\models.py\u001b[0m in \u001b[0;36mfit\u001b[1;34m(self, x, y, batch_size, epochs, verbose, callbacks, validation_split, validation_data, shuffle, class_weight, sample_weight, initial_epoch, steps_per_epoch, validation_steps, **kwargs)\u001b[0m\n\u001b[0;32m    961\u001b[0m                               \u001b[0minitial_epoch\u001b[0m\u001b[1;33m=\u001b[0m\u001b[0minitial_epoch\u001b[0m\u001b[1;33m,\u001b[0m\u001b[1;33m\u001b[0m\u001b[0m\n\u001b[0;32m    962\u001b[0m                               \u001b[0msteps_per_epoch\u001b[0m\u001b[1;33m=\u001b[0m\u001b[0msteps_per_epoch\u001b[0m\u001b[1;33m,\u001b[0m\u001b[1;33m\u001b[0m\u001b[0m\n\u001b[1;32m--> 963\u001b[1;33m                               validation_steps=validation_steps)\n\u001b[0m\u001b[0;32m    964\u001b[0m \u001b[1;33m\u001b[0m\u001b[0m\n\u001b[0;32m    965\u001b[0m     def evaluate(self, x=None, y=None,\n",
      "\u001b[1;32mC:\\Users\\omar\\Anaconda3\\lib\\site-packages\\keras\\engine\\training.py\u001b[0m in \u001b[0;36mfit\u001b[1;34m(self, x, y, batch_size, epochs, verbose, callbacks, validation_split, validation_data, shuffle, class_weight, sample_weight, initial_epoch, steps_per_epoch, validation_steps, **kwargs)\u001b[0m\n\u001b[0;32m   1703\u001b[0m                               \u001b[0minitial_epoch\u001b[0m\u001b[1;33m=\u001b[0m\u001b[0minitial_epoch\u001b[0m\u001b[1;33m,\u001b[0m\u001b[1;33m\u001b[0m\u001b[0m\n\u001b[0;32m   1704\u001b[0m                               \u001b[0msteps_per_epoch\u001b[0m\u001b[1;33m=\u001b[0m\u001b[0msteps_per_epoch\u001b[0m\u001b[1;33m,\u001b[0m\u001b[1;33m\u001b[0m\u001b[0m\n\u001b[1;32m-> 1705\u001b[1;33m                               validation_steps=validation_steps)\n\u001b[0m\u001b[0;32m   1706\u001b[0m \u001b[1;33m\u001b[0m\u001b[0m\n\u001b[0;32m   1707\u001b[0m     def evaluate(self, x=None, y=None,\n",
      "\u001b[1;32mC:\\Users\\omar\\Anaconda3\\lib\\site-packages\\keras\\engine\\training.py\u001b[0m in \u001b[0;36m_fit_loop\u001b[1;34m(self, f, ins, out_labels, batch_size, epochs, verbose, callbacks, val_f, val_ins, shuffle, callback_metrics, initial_epoch, steps_per_epoch, validation_steps)\u001b[0m\n\u001b[0;32m   1233\u001b[0m                         \u001b[0mins_batch\u001b[0m\u001b[1;33m[\u001b[0m\u001b[0mi\u001b[0m\u001b[1;33m]\u001b[0m \u001b[1;33m=\u001b[0m \u001b[0mins_batch\u001b[0m\u001b[1;33m[\u001b[0m\u001b[0mi\u001b[0m\u001b[1;33m]\u001b[0m\u001b[1;33m.\u001b[0m\u001b[0mtoarray\u001b[0m\u001b[1;33m(\u001b[0m\u001b[1;33m)\u001b[0m\u001b[1;33m\u001b[0m\u001b[0m\n\u001b[0;32m   1234\u001b[0m \u001b[1;33m\u001b[0m\u001b[0m\n\u001b[1;32m-> 1235\u001b[1;33m                     \u001b[0mouts\u001b[0m \u001b[1;33m=\u001b[0m \u001b[0mf\u001b[0m\u001b[1;33m(\u001b[0m\u001b[0mins_batch\u001b[0m\u001b[1;33m)\u001b[0m\u001b[1;33m\u001b[0m\u001b[0m\n\u001b[0m\u001b[0;32m   1236\u001b[0m                     \u001b[1;32mif\u001b[0m \u001b[1;32mnot\u001b[0m \u001b[0misinstance\u001b[0m\u001b[1;33m(\u001b[0m\u001b[0mouts\u001b[0m\u001b[1;33m,\u001b[0m \u001b[0mlist\u001b[0m\u001b[1;33m)\u001b[0m\u001b[1;33m:\u001b[0m\u001b[1;33m\u001b[0m\u001b[0m\n\u001b[0;32m   1237\u001b[0m                         \u001b[0mouts\u001b[0m \u001b[1;33m=\u001b[0m \u001b[1;33m[\u001b[0m\u001b[0mouts\u001b[0m\u001b[1;33m]\u001b[0m\u001b[1;33m\u001b[0m\u001b[0m\n",
      "\u001b[1;32mC:\\Users\\omar\\Anaconda3\\lib\\site-packages\\keras\\backend\\tensorflow_backend.py\u001b[0m in \u001b[0;36m__call__\u001b[1;34m(self, inputs)\u001b[0m\n\u001b[0;32m   2476\u001b[0m         \u001b[0msession\u001b[0m \u001b[1;33m=\u001b[0m \u001b[0mget_session\u001b[0m\u001b[1;33m(\u001b[0m\u001b[1;33m)\u001b[0m\u001b[1;33m\u001b[0m\u001b[0m\n\u001b[0;32m   2477\u001b[0m         updated = session.run(fetches=fetches, feed_dict=feed_dict,\n\u001b[1;32m-> 2478\u001b[1;33m                               **self.session_kwargs)\n\u001b[0m\u001b[0;32m   2479\u001b[0m         \u001b[1;32mreturn\u001b[0m \u001b[0mupdated\u001b[0m\u001b[1;33m[\u001b[0m\u001b[1;33m:\u001b[0m\u001b[0mlen\u001b[0m\u001b[1;33m(\u001b[0m\u001b[0mself\u001b[0m\u001b[1;33m.\u001b[0m\u001b[0moutputs\u001b[0m\u001b[1;33m)\u001b[0m\u001b[1;33m]\u001b[0m\u001b[1;33m\u001b[0m\u001b[0m\n\u001b[0;32m   2480\u001b[0m \u001b[1;33m\u001b[0m\u001b[0m\n",
      "\u001b[1;32mC:\\Users\\omar\\Anaconda3\\lib\\site-packages\\tensorflow\\python\\client\\session.py\u001b[0m in \u001b[0;36mrun\u001b[1;34m(self, fetches, feed_dict, options, run_metadata)\u001b[0m\n\u001b[0;32m    903\u001b[0m     \u001b[1;32mtry\u001b[0m\u001b[1;33m:\u001b[0m\u001b[1;33m\u001b[0m\u001b[0m\n\u001b[0;32m    904\u001b[0m       result = self._run(None, fetches, feed_dict, options_ptr,\n\u001b[1;32m--> 905\u001b[1;33m                          run_metadata_ptr)\n\u001b[0m\u001b[0;32m    906\u001b[0m       \u001b[1;32mif\u001b[0m \u001b[0mrun_metadata\u001b[0m\u001b[1;33m:\u001b[0m\u001b[1;33m\u001b[0m\u001b[0m\n\u001b[0;32m    907\u001b[0m         \u001b[0mproto_data\u001b[0m \u001b[1;33m=\u001b[0m \u001b[0mtf_session\u001b[0m\u001b[1;33m.\u001b[0m\u001b[0mTF_GetBuffer\u001b[0m\u001b[1;33m(\u001b[0m\u001b[0mrun_metadata_ptr\u001b[0m\u001b[1;33m)\u001b[0m\u001b[1;33m\u001b[0m\u001b[0m\n",
      "\u001b[1;32mC:\\Users\\omar\\Anaconda3\\lib\\site-packages\\tensorflow\\python\\client\\session.py\u001b[0m in \u001b[0;36m_run\u001b[1;34m(self, handle, fetches, feed_dict, options, run_metadata)\u001b[0m\n\u001b[0;32m   1135\u001b[0m     \u001b[1;32mif\u001b[0m \u001b[0mfinal_fetches\u001b[0m \u001b[1;32mor\u001b[0m \u001b[0mfinal_targets\u001b[0m \u001b[1;32mor\u001b[0m \u001b[1;33m(\u001b[0m\u001b[0mhandle\u001b[0m \u001b[1;32mand\u001b[0m \u001b[0mfeed_dict_tensor\u001b[0m\u001b[1;33m)\u001b[0m\u001b[1;33m:\u001b[0m\u001b[1;33m\u001b[0m\u001b[0m\n\u001b[0;32m   1136\u001b[0m       results = self._do_run(handle, final_targets, final_fetches,\n\u001b[1;32m-> 1137\u001b[1;33m                              feed_dict_tensor, options, run_metadata)\n\u001b[0m\u001b[0;32m   1138\u001b[0m     \u001b[1;32melse\u001b[0m\u001b[1;33m:\u001b[0m\u001b[1;33m\u001b[0m\u001b[0m\n\u001b[0;32m   1139\u001b[0m       \u001b[0mresults\u001b[0m \u001b[1;33m=\u001b[0m \u001b[1;33m[\u001b[0m\u001b[1;33m]\u001b[0m\u001b[1;33m\u001b[0m\u001b[0m\n",
      "\u001b[1;32mC:\\Users\\omar\\Anaconda3\\lib\\site-packages\\tensorflow\\python\\client\\session.py\u001b[0m in \u001b[0;36m_do_run\u001b[1;34m(self, handle, target_list, fetch_list, feed_dict, options, run_metadata)\u001b[0m\n\u001b[0;32m   1353\u001b[0m     \u001b[1;32mif\u001b[0m \u001b[0mhandle\u001b[0m \u001b[1;32mis\u001b[0m \u001b[1;32mNone\u001b[0m\u001b[1;33m:\u001b[0m\u001b[1;33m\u001b[0m\u001b[0m\n\u001b[0;32m   1354\u001b[0m       return self._do_call(_run_fn, self._session, feeds, fetches, targets,\n\u001b[1;32m-> 1355\u001b[1;33m                            options, run_metadata)\n\u001b[0m\u001b[0;32m   1356\u001b[0m     \u001b[1;32melse\u001b[0m\u001b[1;33m:\u001b[0m\u001b[1;33m\u001b[0m\u001b[0m\n\u001b[0;32m   1357\u001b[0m       \u001b[1;32mreturn\u001b[0m \u001b[0mself\u001b[0m\u001b[1;33m.\u001b[0m\u001b[0m_do_call\u001b[0m\u001b[1;33m(\u001b[0m\u001b[0m_prun_fn\u001b[0m\u001b[1;33m,\u001b[0m \u001b[0mself\u001b[0m\u001b[1;33m.\u001b[0m\u001b[0m_session\u001b[0m\u001b[1;33m,\u001b[0m \u001b[0mhandle\u001b[0m\u001b[1;33m,\u001b[0m \u001b[0mfeeds\u001b[0m\u001b[1;33m,\u001b[0m \u001b[0mfetches\u001b[0m\u001b[1;33m)\u001b[0m\u001b[1;33m\u001b[0m\u001b[0m\n",
      "\u001b[1;32mC:\\Users\\omar\\Anaconda3\\lib\\site-packages\\tensorflow\\python\\client\\session.py\u001b[0m in \u001b[0;36m_do_call\u001b[1;34m(self, fn, *args)\u001b[0m\n\u001b[0;32m   1372\u001b[0m         \u001b[1;32mexcept\u001b[0m \u001b[0mKeyError\u001b[0m\u001b[1;33m:\u001b[0m\u001b[1;33m\u001b[0m\u001b[0m\n\u001b[0;32m   1373\u001b[0m           \u001b[1;32mpass\u001b[0m\u001b[1;33m\u001b[0m\u001b[0m\n\u001b[1;32m-> 1374\u001b[1;33m       \u001b[1;32mraise\u001b[0m \u001b[0mtype\u001b[0m\u001b[1;33m(\u001b[0m\u001b[0me\u001b[0m\u001b[1;33m)\u001b[0m\u001b[1;33m(\u001b[0m\u001b[0mnode_def\u001b[0m\u001b[1;33m,\u001b[0m \u001b[0mop\u001b[0m\u001b[1;33m,\u001b[0m \u001b[0mmessage\u001b[0m\u001b[1;33m)\u001b[0m\u001b[1;33m\u001b[0m\u001b[0m\n\u001b[0m\u001b[0;32m   1375\u001b[0m \u001b[1;33m\u001b[0m\u001b[0m\n\u001b[0;32m   1376\u001b[0m   \u001b[1;32mdef\u001b[0m \u001b[0m_extend_graph\u001b[0m\u001b[1;33m(\u001b[0m\u001b[0mself\u001b[0m\u001b[1;33m)\u001b[0m\u001b[1;33m:\u001b[0m\u001b[1;33m\u001b[0m\u001b[0m\n",
      "\u001b[1;31mInternalError\u001b[0m: Blas GEMM launch failed : a.shape=(32, 4096), b.shape=(4096, 10), m=32, n=10, k=4096\n\t [[Node: dense_3/MatMul = MatMul[T=DT_FLOAT, transpose_a=false, transpose_b=false, _device=\"/job:localhost/replica:0/task:0/device:GPU:0\"](_arg_dense_3_input_0_0/_51, dense_3/kernel/read)]]\n\t [[Node: loss_1/mul/_89 = _Recv[client_terminated=false, recv_device=\"/job:localhost/replica:0/task:0/device:CPU:0\", send_device=\"/job:localhost/replica:0/task:0/device:GPU:0\", send_device_incarnation=1, tensor_name=\"edge_388_loss_1/mul\", tensor_type=DT_FLOAT, _device=\"/job:localhost/replica:0/task:0/device:CPU:0\"]()]]\n\nCaused by op 'dense_3/MatMul', defined at:\n  File \"C:\\Users\\omar\\Anaconda3\\lib\\runpy.py\", line 193, in _run_module_as_main\n    \"__main__\", mod_spec)\n  File \"C:\\Users\\omar\\Anaconda3\\lib\\runpy.py\", line 85, in _run_code\n    exec(code, run_globals)\n  File \"C:\\Users\\omar\\Anaconda3\\lib\\site-packages\\ipykernel_launcher.py\", line 16, in <module>\n    app.launch_new_instance()\n  File \"C:\\Users\\omar\\Anaconda3\\lib\\site-packages\\traitlets\\config\\application.py\", line 658, in launch_instance\n    app.start()\n  File \"C:\\Users\\omar\\Anaconda3\\lib\\site-packages\\ipykernel\\kernelapp.py\", line 477, in start\n    ioloop.IOLoop.instance().start()\n  File \"C:\\Users\\omar\\Anaconda3\\lib\\site-packages\\zmq\\eventloop\\ioloop.py\", line 177, in start\n    super(ZMQIOLoop, self).start()\n  File \"C:\\Users\\omar\\Anaconda3\\lib\\site-packages\\tornado\\ioloop.py\", line 888, in start\n    handler_func(fd_obj, events)\n  File \"C:\\Users\\omar\\Anaconda3\\lib\\site-packages\\tornado\\stack_context.py\", line 277, in null_wrapper\n    return fn(*args, **kwargs)\n  File \"C:\\Users\\omar\\Anaconda3\\lib\\site-packages\\zmq\\eventloop\\zmqstream.py\", line 440, in _handle_events\n    self._handle_recv()\n  File \"C:\\Users\\omar\\Anaconda3\\lib\\site-packages\\zmq\\eventloop\\zmqstream.py\", line 472, in _handle_recv\n    self._run_callback(callback, msg)\n  File \"C:\\Users\\omar\\Anaconda3\\lib\\site-packages\\zmq\\eventloop\\zmqstream.py\", line 414, in _run_callback\n    callback(*args, **kwargs)\n  File \"C:\\Users\\omar\\Anaconda3\\lib\\site-packages\\tornado\\stack_context.py\", line 277, in null_wrapper\n    return fn(*args, **kwargs)\n  File \"C:\\Users\\omar\\Anaconda3\\lib\\site-packages\\ipykernel\\kernelbase.py\", line 283, in dispatcher\n    return self.dispatch_shell(stream, msg)\n  File \"C:\\Users\\omar\\Anaconda3\\lib\\site-packages\\ipykernel\\kernelbase.py\", line 235, in dispatch_shell\n    handler(stream, idents, msg)\n  File \"C:\\Users\\omar\\Anaconda3\\lib\\site-packages\\ipykernel\\kernelbase.py\", line 399, in execute_request\n    user_expressions, allow_stdin)\n  File \"C:\\Users\\omar\\Anaconda3\\lib\\site-packages\\ipykernel\\ipkernel.py\", line 196, in do_execute\n    res = shell.run_cell(code, store_history=store_history, silent=silent)\n  File \"C:\\Users\\omar\\Anaconda3\\lib\\site-packages\\ipykernel\\zmqshell.py\", line 533, in run_cell\n    return super(ZMQInteractiveShell, self).run_cell(*args, **kwargs)\n  File \"C:\\Users\\omar\\Anaconda3\\lib\\site-packages\\IPython\\core\\interactiveshell.py\", line 2717, in run_cell\n    interactivity=interactivity, compiler=compiler, result=result)\n  File \"C:\\Users\\omar\\Anaconda3\\lib\\site-packages\\IPython\\core\\interactiveshell.py\", line 2821, in run_ast_nodes\n    if self.run_code(code, result):\n  File \"C:\\Users\\omar\\Anaconda3\\lib\\site-packages\\IPython\\core\\interactiveshell.py\", line 2881, in run_code\n    exec(code_obj, self.user_global_ns, self.user_ns)\n  File \"<ipython-input-10-d633fc50dec0>\", line 2, in <module>\n    hist = estimator.fit(X_train, y_train, shuffle=True, validation_data=(X_validation, y_validation), callbacks=[checkpoint], verbose=1)\n  File \"C:\\Users\\omar\\Anaconda3\\lib\\site-packages\\keras\\wrappers\\scikit_learn.py\", line 209, in fit\n    return super(KerasClassifier, self).fit(x, y, **kwargs)\n  File \"C:\\Users\\omar\\Anaconda3\\lib\\site-packages\\keras\\wrappers\\scikit_learn.py\", line 140, in fit\n    self.model = self.build_fn(**self.filter_sk_params(self.build_fn))\n  File \"<ipython-input-7-30edb60c3694>\", line 7, in baseline_model\n    model.add(Dense(10, input_dim=num_dimensions, activation='tanh'))\n  File \"C:\\Users\\omar\\Anaconda3\\lib\\site-packages\\keras\\models.py\", line 467, in add\n    layer(x)\n  File \"C:\\Users\\omar\\Anaconda3\\lib\\site-packages\\keras\\engine\\topology.py\", line 619, in __call__\n    output = self.call(inputs, **kwargs)\n  File \"C:\\Users\\omar\\Anaconda3\\lib\\site-packages\\keras\\layers\\core.py\", line 855, in call\n    output = K.dot(inputs, self.kernel)\n  File \"C:\\Users\\omar\\Anaconda3\\lib\\site-packages\\keras\\backend\\tensorflow_backend.py\", line 1075, in dot\n    out = tf.matmul(x, y)\n  File \"C:\\Users\\omar\\Anaconda3\\lib\\site-packages\\tensorflow\\python\\ops\\math_ops.py\", line 2064, in matmul\n    a, b, transpose_a=transpose_a, transpose_b=transpose_b, name=name)\n  File \"C:\\Users\\omar\\Anaconda3\\lib\\site-packages\\tensorflow\\python\\ops\\gen_math_ops.py\", line 2790, in _mat_mul\n    name=name)\n  File \"C:\\Users\\omar\\Anaconda3\\lib\\site-packages\\tensorflow\\python\\framework\\op_def_library.py\", line 787, in _apply_op_helper\n    op_def=op_def)\n  File \"C:\\Users\\omar\\Anaconda3\\lib\\site-packages\\tensorflow\\python\\framework\\ops.py\", line 3271, in create_op\n    op_def=op_def)\n  File \"C:\\Users\\omar\\Anaconda3\\lib\\site-packages\\tensorflow\\python\\framework\\ops.py\", line 1650, in __init__\n    self._traceback = self._graph._extract_stack()  # pylint: disable=protected-access\n\nInternalError (see above for traceback): Blas GEMM launch failed : a.shape=(32, 4096), b.shape=(4096, 10), m=32, n=10, k=4096\n\t [[Node: dense_3/MatMul = MatMul[T=DT_FLOAT, transpose_a=false, transpose_b=false, _device=\"/job:localhost/replica:0/task:0/device:GPU:0\"](_arg_dense_3_input_0_0/_51, dense_3/kernel/read)]]\n\t [[Node: loss_1/mul/_89 = _Recv[client_terminated=false, recv_device=\"/job:localhost/replica:0/task:0/device:CPU:0\", send_device=\"/job:localhost/replica:0/task:0/device:GPU:0\", send_device_incarnation=1, tensor_name=\"edge_388_loss_1/mul\", tensor_type=DT_FLOAT, _device=\"/job:localhost/replica:0/task:0/device:CPU:0\"]()]]\n"
     ]
    }
   ],
   "source": [
    "checkpoint = ModelCheckpoint('best-model.h5', verbose=1, monitor='val_loss', save_best_only=True, mode='auto')\n",
    "hist = estimator.fit(X_train, y_train, shuffle=True, validation_data=(X_validation, y_validation), callbacks=[checkpoint], verbose=1)"
   ]
  },
  {
   "cell_type": "code",
   "execution_count": 258,
   "metadata": {
    "ExecuteTime": {
     "end_time": "2018-04-07T09:00:52.621753Z",
     "start_time": "2018-04-07T09:00:52.013033Z"
    }
   },
   "outputs": [],
   "source": [
    "estimator.model.load_weights('best-model.h5')"
   ]
  },
  {
   "cell_type": "code",
   "execution_count": null,
   "metadata": {
    "ExecuteTime": {
     "end_time": "2018-04-07T09:26:03.208397Z",
     "start_time": "2018-04-07T09:25:51.074Z"
    }
   },
   "outputs": [],
   "source": [
    "plot_perf(hist)"
   ]
  },
  {
   "cell_type": "code",
   "execution_count": null,
   "metadata": {
    "ExecuteTime": {
     "end_time": "2018-04-07T09:26:03.208897Z",
     "start_time": "2018-04-07T09:25:52.062Z"
    }
   },
   "outputs": [],
   "source": [
    "plot_accuracy(hist)"
   ]
  },
  {
   "cell_type": "code",
   "execution_count": null,
   "metadata": {
    "ExecuteTime": {
     "end_time": "2018-04-07T09:26:03.209898Z",
     "start_time": "2018-04-07T09:25:53.836Z"
    }
   },
   "outputs": [],
   "source": [
    "y_validation_predictions = estimator.predict(X_validation)\n",
    "print(classification_report(y_validation, y_validation_predictions))"
   ]
  },
  {
   "cell_type": "markdown",
   "metadata": {
    "heading_collapsed": true
   },
   "source": [
    "## Using Cross Validation"
   ]
  },
  {
   "cell_type": "code",
   "execution_count": 6,
   "metadata": {
    "ExecuteTime": {
     "end_time": "2018-04-04T05:50:06.430659Z",
     "start_time": "2018-04-04T05:50:06.415033Z"
    },
    "collapsed": true,
    "hidden": true
   },
   "outputs": [],
   "source": [
    "estimator = KerasClassifier(build_fn=baseline_model, epochs=20, batch_size=100, verbose=1)"
   ]
  },
  {
   "cell_type": "code",
   "execution_count": 7,
   "metadata": {
    "ExecuteTime": {
     "end_time": "2018-04-04T05:50:06.446283Z",
     "start_time": "2018-04-04T05:50:06.430659Z"
    },
    "collapsed": true,
    "hidden": true
   },
   "outputs": [],
   "source": [
    "kfold = KFold(n_splits=10, shuffle=True, random_state=42)"
   ]
  },
  {
   "cell_type": "code",
   "execution_count": 8,
   "metadata": {
    "ExecuteTime": {
     "end_time": "2018-04-04T05:57:38.631400Z",
     "start_time": "2018-04-04T05:50:06.446283Z"
    },
    "hidden": true
   },
   "outputs": [
    {
     "name": "stdout",
     "output_type": "stream",
     "text": [
      "Epoch 1/20\n",
      "5247/5247 [==============================] - 3s 559us/step - loss: 1.0560 - acc: 0.7263\n",
      "Epoch 2/20\n",
      "5247/5247 [==============================] - 2s 339us/step - loss: 0.2161 - acc: 0.9253\n",
      "Epoch 3/20\n",
      "5247/5247 [==============================] - 2s 320us/step - loss: 0.1352 - acc: 0.9560\n",
      "Epoch 4/20\n",
      "5247/5247 [==============================] - 2s 315us/step - loss: 0.0497 - acc: 0.9853\n",
      "Epoch 5/20\n",
      "5247/5247 [==============================] - 2s 308us/step - loss: 0.0503 - acc: 0.9857\n",
      "Epoch 6/20\n",
      "5247/5247 [==============================] - 2s 331us/step - loss: 0.0262 - acc: 0.9929\n",
      "Epoch 7/20\n",
      "5247/5247 [==============================] - 2s 320us/step - loss: 0.0188 - acc: 0.9945\n",
      "Epoch 8/20\n",
      "5247/5247 [==============================] - 2s 328us/step - loss: 0.0222 - acc: 0.9947\n",
      "Epoch 9/20\n",
      "5247/5247 [==============================] - 2s 327us/step - loss: 0.0189 - acc: 0.9950\n",
      "Epoch 10/20\n",
      "5247/5247 [==============================] - 2s 337us/step - loss: 0.0211 - acc: 0.9943\n",
      "Epoch 11/20\n",
      "5247/5247 [==============================] - 2s 325us/step - loss: 0.0081 - acc: 0.9981\n",
      "Epoch 12/20\n",
      "5247/5247 [==============================] - 2s 322us/step - loss: 0.0080 - acc: 0.9985\n",
      "Epoch 13/20\n",
      "5247/5247 [==============================] - 2s 328us/step - loss: 0.0071 - acc: 0.9989\n",
      "Epoch 14/20\n",
      "5247/5247 [==============================] - 2s 319us/step - loss: 0.0043 - acc: 0.9998\n",
      "Epoch 15/20\n",
      "5247/5247 [==============================] - 2s 317us/step - loss: 0.0038 - acc: 0.9998\n",
      "Epoch 16/20\n",
      "5247/5247 [==============================] - 2s 316us/step - loss: 0.0037 - acc: 0.9998\n",
      "Epoch 17/20\n",
      "5247/5247 [==============================] - 2s 301us/step - loss: 0.0036 - acc: 0.9998\n",
      "Epoch 18/20\n",
      "5247/5247 [==============================] - 2s 310us/step - loss: 0.0035 - acc: 0.9998\n",
      "Epoch 19/20\n",
      "5247/5247 [==============================] - 2s 322us/step - loss: 0.0035 - acc: 0.9998\n",
      "Epoch 20/20\n",
      "5247/5247 [==============================] - 2s 319us/step - loss: 0.0035 - acc: 0.9998\n",
      "583/583 [==============================] - 0s 134us/step\n",
      "Epoch 1/20\n",
      "5247/5247 [==============================] - 2s 426us/step - loss: 1.0080 - acc: 0.7206\n",
      "Epoch 2/20\n",
      "5247/5247 [==============================] - 2s 327us/step - loss: 0.2318 - acc: 0.9253\n",
      "Epoch 3/20\n",
      "5247/5247 [==============================] - 2s 330us/step - loss: 0.1264 - acc: 0.9583\n",
      "Epoch 4/20\n",
      "5247/5247 [==============================] - 2s 317us/step - loss: 0.0494 - acc: 0.9888\n",
      "Epoch 5/20\n",
      "5247/5247 [==============================] - 2s 307us/step - loss: 0.0361 - acc: 0.9914\n",
      "Epoch 6/20\n",
      "5247/5247 [==============================] - 2s 299us/step - loss: 0.0341 - acc: 0.9914\n",
      "Epoch 7/20\n",
      "5247/5247 [==============================] - 2s 320us/step - loss: 0.0318 - acc: 0.9929\n",
      "Epoch 8/20\n",
      "5247/5247 [==============================] - 2s 313us/step - loss: 0.0156 - acc: 0.9970\n",
      "Epoch 9/20\n",
      "5247/5247 [==============================] - 2s 316us/step - loss: 0.0230 - acc: 0.9954\n",
      "Epoch 10/20\n",
      "5247/5247 [==============================] - 2s 319us/step - loss: 0.0194 - acc: 0.9958\n",
      "Epoch 11/20\n",
      "5247/5247 [==============================] - 2s 337us/step - loss: 0.0160 - acc: 0.9966\n",
      "Epoch 12/20\n",
      "5247/5247 [==============================] - 2s 319us/step - loss: 0.0142 - acc: 0.9970\n",
      "Epoch 13/20\n",
      "5247/5247 [==============================] - 2s 312us/step - loss: 0.0112 - acc: 0.9990\n",
      "Epoch 14/20\n",
      "5247/5247 [==============================] - 2s 328us/step - loss: 0.0085 - acc: 0.9989\n",
      "Epoch 15/20\n",
      "5247/5247 [==============================] - 2s 307us/step - loss: 0.0074 - acc: 0.9992\n",
      "Epoch 16/20\n",
      "5247/5247 [==============================] - 2s 307us/step - loss: 0.0071 - acc: 0.9996\n",
      "Epoch 17/20\n",
      "5247/5247 [==============================] - 2s 325us/step - loss: 0.0066 - acc: 0.9996\n",
      "Epoch 18/20\n",
      "5247/5247 [==============================] - 2s 329us/step - loss: 0.0065 - acc: 0.9996\n",
      "Epoch 19/20\n",
      "5247/5247 [==============================] - 2s 313us/step - loss: 0.0065 - acc: 0.9996\n",
      "Epoch 20/20\n",
      "5247/5247 [==============================] - 2s 312us/step - loss: 0.0065 - acc: 0.9996\n",
      "583/583 [==============================] - 0s 161us/step\n",
      "Epoch 1/20\n",
      "5247/5247 [==============================] - 2s 420us/step - loss: 1.0261 - acc: 0.7244\n",
      "Epoch 2/20\n",
      "5247/5247 [==============================] - 2s 310us/step - loss: 0.1883 - acc: 0.9341\n",
      "Epoch 3/20\n",
      "5247/5247 [==============================] - 2s 331us/step - loss: 0.1063 - acc: 0.9640\n",
      "Epoch 4/20\n",
      "5247/5247 [==============================] - 2s 301us/step - loss: 0.0562 - acc: 0.9823\n",
      "Epoch 5/20\n",
      "5247/5247 [==============================] - 2s 322us/step - loss: 0.0380 - acc: 0.9891\n",
      "Epoch 6/20\n",
      "5247/5247 [==============================] - 2s 337us/step - loss: 0.0341 - acc: 0.9899\n",
      "Epoch 7/20\n",
      "5247/5247 [==============================] - 2s 328us/step - loss: 0.0384 - acc: 0.9899\n",
      "Epoch 8/20\n",
      "5247/5247 [==============================] - 2s 304us/step - loss: 0.0403 - acc: 0.9880\n",
      "Epoch 9/20\n",
      "5247/5247 [==============================] - 2s 301us/step - loss: 0.0347 - acc: 0.9886\n",
      "Epoch 10/20\n",
      "5247/5247 [==============================] - 2s 331us/step - loss: 0.0355 - acc: 0.9886\n",
      "Epoch 11/20\n",
      "5247/5247 [==============================] - 2s 315us/step - loss: 0.0838 - acc: 0.9775\n",
      "Epoch 12/20\n",
      "5247/5247 [==============================] - 2s 316us/step - loss: 0.1024 - acc: 0.9710\n",
      "Epoch 13/20\n",
      "5247/5247 [==============================] - 2s 319us/step - loss: 0.1812 - acc: 0.9541\n",
      "Epoch 14/20\n",
      "5247/5247 [==============================] - 2s 322us/step - loss: 0.0976 - acc: 0.9693\n",
      "Epoch 15/20\n",
      "5247/5247 [==============================] - 2s 325us/step - loss: 0.0901 - acc: 0.9777\n",
      "Epoch 16/20\n",
      "5247/5247 [==============================] - 2s 319us/step - loss: 0.0737 - acc: 0.9796\n",
      "Epoch 17/20\n",
      "5247/5247 [==============================] - 2s 322us/step - loss: 0.0691 - acc: 0.9817\n",
      "Epoch 18/20\n",
      "5247/5247 [==============================] - 2s 304us/step - loss: 0.0155 - acc: 0.9962\n",
      "Epoch 19/20\n",
      "5247/5247 [==============================] - 2s 307us/step - loss: 0.0149 - acc: 0.9949\n",
      "Epoch 20/20\n",
      "5247/5247 [==============================] - 2s 308us/step - loss: 0.0065 - acc: 0.9981\n",
      "583/583 [==============================] - 0s 161us/step\n",
      "Epoch 1/20\n",
      "5247/5247 [==============================] - 2s 396us/step - loss: 1.0068 - acc: 0.7326\n",
      "Epoch 2/20\n",
      "5247/5247 [==============================] - 2s 331us/step - loss: 0.2262 - acc: 0.9245\n",
      "Epoch 3/20\n",
      "5247/5247 [==============================] - 2s 316us/step - loss: 0.1328 - acc: 0.9605\n",
      "Epoch 4/20\n",
      "5247/5247 [==============================] - 2s 303us/step - loss: 0.0729 - acc: 0.9798\n",
      "Epoch 5/20\n",
      "5247/5247 [==============================] - 2s 316us/step - loss: 0.0351 - acc: 0.9899\n",
      "Epoch 6/20\n",
      "5247/5247 [==============================] - 2s 316us/step - loss: 0.0366 - acc: 0.9916\n",
      "Epoch 7/20\n",
      "5247/5247 [==============================] - 2s 319us/step - loss: 0.0340 - acc: 0.9929\n",
      "Epoch 8/20\n",
      "5247/5247 [==============================] - 2s 307us/step - loss: 0.0227 - acc: 0.9958\n",
      "Epoch 9/20\n",
      "5247/5247 [==============================] - 2s 304us/step - loss: 0.0128 - acc: 0.9981\n",
      "Epoch 10/20\n",
      "5247/5247 [==============================] - 2s 328us/step - loss: 0.0261 - acc: 0.9928\n",
      "Epoch 11/20\n",
      "5247/5247 [==============================] - 2s 300us/step - loss: 0.0519 - acc: 0.9865\n",
      "Epoch 12/20\n",
      "5247/5247 [==============================] - 2s 313us/step - loss: 0.0696 - acc: 0.9809\n",
      "Epoch 13/20\n",
      "5247/5247 [==============================] - 2s 322us/step - loss: 0.0895 - acc: 0.9756\n",
      "Epoch 14/20\n",
      "5247/5247 [==============================] - 2s 331us/step - loss: 0.1610 - acc: 0.9560\n",
      "Epoch 15/20\n",
      "5247/5247 [==============================] - 2s 313us/step - loss: 0.1838 - acc: 0.9556\n",
      "Epoch 16/20\n",
      "5247/5247 [==============================] - 2s 333us/step - loss: 0.0835 - acc: 0.9794\n",
      "Epoch 17/20\n",
      "5247/5247 [==============================] - 2s 325us/step - loss: 0.0615 - acc: 0.9815\n",
      "Epoch 18/20\n",
      "5247/5247 [==============================] - 2s 312us/step - loss: 0.0456 - acc: 0.9874\n",
      "Epoch 19/20\n",
      "5247/5247 [==============================] - 2s 313us/step - loss: 0.0392 - acc: 0.9905\n",
      "Epoch 20/20\n",
      "5247/5247 [==============================] - 2s 316us/step - loss: 0.0144 - acc: 0.9973\n",
      "583/583 [==============================] - 0s 161us/step\n",
      "Epoch 1/20\n"
     ]
    },
    {
     "name": "stdout",
     "output_type": "stream",
     "text": [
      "5247/5247 [==============================] - 2s 432us/step - loss: 0.9986 - acc: 0.7358\n",
      "Epoch 2/20\n",
      "5247/5247 [==============================] - 2s 328us/step - loss: 0.2290 - acc: 0.9240\n",
      "Epoch 3/20\n",
      "5247/5247 [==============================] - 2s 321us/step - loss: 0.1146 - acc: 0.9634\n",
      "Epoch 4/20\n",
      "5247/5247 [==============================] - 2s 316us/step - loss: 0.0614 - acc: 0.9846\n",
      "Epoch 5/20\n",
      "5247/5247 [==============================] - 2s 328us/step - loss: 0.0620 - acc: 0.9775\n",
      "Epoch 6/20\n",
      "5247/5247 [==============================] - 2s 314us/step - loss: 0.0424 - acc: 0.9886\n",
      "Epoch 7/20\n",
      "5247/5247 [==============================] - 2s 325us/step - loss: 0.0414 - acc: 0.9891\n",
      "Epoch 8/20\n",
      "5247/5247 [==============================] - 2s 322us/step - loss: 0.0178 - acc: 0.9954\n",
      "Epoch 9/20\n",
      "5247/5247 [==============================] - 2s 319us/step - loss: 0.0128 - acc: 0.9968\n",
      "Epoch 10/20\n",
      "5247/5247 [==============================] - 2s 316us/step - loss: 0.0084 - acc: 0.9987\n",
      "Epoch 11/20\n",
      "5247/5247 [==============================] - 2s 314us/step - loss: 0.0099 - acc: 0.9977\n",
      "Epoch 12/20\n",
      "5247/5247 [==============================] - 2s 319us/step - loss: 0.0064 - acc: 0.9987\n",
      "Epoch 13/20\n",
      "5247/5247 [==============================] - 2s 340us/step - loss: 0.0114 - acc: 0.9977\n",
      "Epoch 14/20\n",
      "5247/5247 [==============================] - 2s 309us/step - loss: 0.0256 - acc: 0.9943\n",
      "Epoch 15/20\n",
      "5247/5247 [==============================] - 2s 313us/step - loss: 0.0504 - acc: 0.9882\n",
      "Epoch 16/20\n",
      "5247/5247 [==============================] - 2s 314us/step - loss: 0.2280 - acc: 0.9499\n",
      "Epoch 17/20\n",
      "5247/5247 [==============================] - 2s 313us/step - loss: 0.3312 - acc: 0.9259\n",
      "Epoch 18/20\n",
      "5247/5247 [==============================] - 2s 320us/step - loss: 0.2496 - acc: 0.9415\n",
      "Epoch 19/20\n",
      "5247/5247 [==============================] - 2s 316us/step - loss: 0.1278 - acc: 0.9701\n",
      "Epoch 20/20\n",
      "5247/5247 [==============================] - 2s 299us/step - loss: 0.0997 - acc: 0.9798\n",
      "583/583 [==============================] - 0s 214us/step\n",
      "Epoch 1/20\n",
      "5247/5247 [==============================] - 2s 460us/step - loss: 1.2344 - acc: 0.7164\n",
      "Epoch 2/20\n",
      "5247/5247 [==============================] - 2s 354us/step - loss: 0.2270 - acc: 0.9240\n",
      "Epoch 3/20\n",
      "5247/5247 [==============================] - 2s 352us/step - loss: 0.1032 - acc: 0.9701\n",
      "Epoch 4/20\n",
      "5247/5247 [==============================] - 2s 351us/step - loss: 0.0488 - acc: 0.9884\n",
      "Epoch 5/20\n",
      "5247/5247 [==============================] - 2s 346us/step - loss: 0.0433 - acc: 0.9882\n",
      "Epoch 6/20\n",
      "5247/5247 [==============================] - 2s 352us/step - loss: 0.0303 - acc: 0.9935\n",
      "Epoch 7/20\n",
      "5247/5247 [==============================] - 2s 350us/step - loss: 0.0334 - acc: 0.9909\n",
      "Epoch 8/20\n",
      "5247/5247 [==============================] - 2s 354us/step - loss: 0.0551 - acc: 0.9851\n",
      "Epoch 9/20\n",
      "5247/5247 [==============================] - 2s 374us/step - loss: 0.0451 - acc: 0.9884\n",
      "Epoch 10/20\n",
      "5247/5247 [==============================] - 2s 354us/step - loss: 0.1369 - acc: 0.9720\n",
      "Epoch 11/20\n",
      "5247/5247 [==============================] - 2s 343us/step - loss: 0.2247 - acc: 0.9506\n",
      "Epoch 12/20\n",
      "5247/5247 [==============================] - 2s 342us/step - loss: 0.1635 - acc: 0.9565\n",
      "Epoch 13/20\n",
      "5247/5247 [==============================] - 2s 366us/step - loss: 0.1286 - acc: 0.9706\n",
      "Epoch 14/20\n",
      "5247/5247 [==============================] - 2s 363us/step - loss: 0.0776 - acc: 0.9819\n",
      "Epoch 15/20\n",
      "5247/5247 [==============================] - 2s 355us/step - loss: 0.0356 - acc: 0.9926\n",
      "Epoch 16/20\n",
      "5247/5247 [==============================] - 2s 357us/step - loss: 0.0308 - acc: 0.9958\n",
      "Epoch 17/20\n",
      "5247/5247 [==============================] - 2s 350us/step - loss: 0.0302 - acc: 0.9949\n",
      "Epoch 18/20\n",
      "5247/5247 [==============================] - 2s 350us/step - loss: 0.0162 - acc: 0.9979\n",
      "Epoch 19/20\n",
      "5247/5247 [==============================] - 2s 347us/step - loss: 0.0145 - acc: 0.9989\n",
      "Epoch 20/20\n",
      "5247/5247 [==============================] - 2s 348us/step - loss: 0.0128 - acc: 0.9992\n",
      "583/583 [==============================] - 0s 188us/step\n",
      "Epoch 1/20\n",
      "5247/5247 [==============================] - 4s 677us/step - loss: 1.0074 - acc: 0.7256\n",
      "Epoch 2/20\n",
      "5247/5247 [==============================] - 3s 573us/step - loss: 0.2072 - acc: 0.9320\n",
      "Epoch 3/20\n",
      "5247/5247 [==============================] - 3s 575us/step - loss: 0.1008 - acc: 0.9722\n",
      "Epoch 4/20\n",
      "5247/5247 [==============================] - 3s 563us/step - loss: 0.0582 - acc: 0.9846\n",
      "Epoch 5/20\n",
      "5247/5247 [==============================] - 3s 573us/step - loss: 0.0401 - acc: 0.9893\n",
      "Epoch 6/20\n",
      "5247/5247 [==============================] - 3s 569us/step - loss: 0.0312 - acc: 0.9910\n",
      "Epoch 7/20\n",
      "5247/5247 [==============================] - 3s 567us/step - loss: 0.0318 - acc: 0.9933\n",
      "Epoch 8/20\n",
      "5247/5247 [==============================] - 3s 566us/step - loss: 0.0226 - acc: 0.9960\n",
      "Epoch 9/20\n",
      "5247/5247 [==============================] - 3s 569us/step - loss: 0.0702 - acc: 0.9886\n",
      "Epoch 10/20\n",
      "5247/5247 [==============================] - 3s 566us/step - loss: 0.0970 - acc: 0.9769\n",
      "Epoch 11/20\n",
      "5247/5247 [==============================] - 3s 565us/step - loss: 0.1338 - acc: 0.9687\n",
      "Epoch 12/20\n",
      "5247/5247 [==============================] - 3s 578us/step - loss: 0.1184 - acc: 0.9735\n",
      "Epoch 13/20\n",
      "5247/5247 [==============================] - 3s 562us/step - loss: 0.1186 - acc: 0.9706\n",
      "Epoch 14/20\n",
      "5247/5247 [==============================] - 3s 567us/step - loss: 0.0963 - acc: 0.9727\n",
      "Epoch 15/20\n",
      "5247/5247 [==============================] - 3s 580us/step - loss: 0.1024 - acc: 0.9767\n",
      "Epoch 16/20\n",
      "5247/5247 [==============================] - 3s 566us/step - loss: 0.1023 - acc: 0.9785\n",
      "Epoch 17/20\n",
      "5247/5247 [==============================] - 3s 570us/step - loss: 0.0337 - acc: 0.9935\n",
      "Epoch 18/20\n",
      "5247/5247 [==============================] - 3s 566us/step - loss: 0.0167 - acc: 0.9968\n",
      "Epoch 19/20\n",
      "5247/5247 [==============================] - 3s 570us/step - loss: 0.0167 - acc: 0.9971\n",
      "Epoch 20/20\n",
      "5247/5247 [==============================] - 3s 568us/step - loss: 0.0094 - acc: 0.9981\n",
      "583/583 [==============================] - 0s 268us/step\n",
      "Epoch 1/20\n",
      "5247/5247 [==============================] - 5s 871us/step - loss: 0.9920 - acc: 0.7286\n",
      "Epoch 2/20\n",
      "5247/5247 [==============================] - 4s 764us/step - loss: 0.2393 - acc: 0.9196\n",
      "Epoch 3/20\n",
      "5247/5247 [==============================] - 4s 760us/step - loss: 0.1132 - acc: 0.9649\n",
      "Epoch 4/20\n",
      "5247/5247 [==============================] - 4s 772us/step - loss: 0.0795 - acc: 0.9756\n",
      "Epoch 5/20\n",
      "5247/5247 [==============================] - 4s 768us/step - loss: 0.0416 - acc: 0.9899\n",
      "Epoch 6/20\n",
      "5247/5247 [==============================] - 4s 766us/step - loss: 0.0628 - acc: 0.9855\n",
      "Epoch 7/20\n",
      "5247/5247 [==============================] - 4s 754us/step - loss: 0.0273 - acc: 0.9941\n",
      "Epoch 8/20\n",
      "5247/5247 [==============================] - 4s 765us/step - loss: 0.0216 - acc: 0.9958\n",
      "Epoch 9/20\n",
      "5247/5247 [==============================] - 4s 763us/step - loss: 0.0163 - acc: 0.9975\n",
      "Epoch 10/20\n",
      "5247/5247 [==============================] - 4s 767us/step - loss: 0.0093 - acc: 0.9994\n",
      "Epoch 11/20\n",
      "5247/5247 [==============================] - 4s 769us/step - loss: 0.0075 - acc: 0.9994\n",
      "Epoch 12/20\n",
      "5247/5247 [==============================] - 4s 754us/step - loss: 0.0070 - acc: 0.9996\n",
      "Epoch 13/20\n",
      "5247/5247 [==============================] - 4s 762us/step - loss: 0.0075 - acc: 0.9992\n",
      "Epoch 14/20\n",
      "5247/5247 [==============================] - 4s 763us/step - loss: 0.0072 - acc: 0.9994\n",
      "Epoch 15/20\n",
      "5247/5247 [==============================] - 4s 772us/step - loss: 0.0067 - acc: 0.9996\n",
      "Epoch 16/20\n",
      "5247/5247 [==============================] - 4s 765us/step - loss: 0.0066 - acc: 0.9996\n",
      "Epoch 17/20\n",
      "5247/5247 [==============================] - 4s 768us/step - loss: 0.0065 - acc: 0.9996\n",
      "Epoch 18/20\n",
      "5247/5247 [==============================] - 4s 763us/step - loss: 0.0065 - acc: 0.9996\n",
      "Epoch 19/20\n",
      "5247/5247 [==============================] - 4s 748us/step - loss: 0.0065 - acc: 0.9996\n",
      "Epoch 20/20\n",
      "5247/5247 [==============================] - 4s 760us/step - loss: 0.0064 - acc: 0.9996\n",
      "583/583 [==============================] - 0s 268us/step\n",
      "Epoch 1/20\n",
      "5247/5247 [==============================] - 5s 882us/step - loss: 0.9997 - acc: 0.7360\n",
      "Epoch 2/20\n",
      "5247/5247 [==============================] - 4s 757us/step - loss: 0.2133 - acc: 0.9287\n",
      "Epoch 3/20\n",
      "5247/5247 [==============================] - 4s 769us/step - loss: 0.1146 - acc: 0.9621\n",
      "Epoch 4/20\n",
      "5247/5247 [==============================] - 4s 780us/step - loss: 0.0621 - acc: 0.9828\n",
      "Epoch 5/20\n",
      "5247/5247 [==============================] - 4s 776us/step - loss: 0.0436 - acc: 0.9884\n",
      "Epoch 6/20\n",
      "5247/5247 [==============================] - 4s 766us/step - loss: 0.0336 - acc: 0.9912\n",
      "Epoch 7/20\n",
      "5247/5247 [==============================] - 7s 1ms/step - loss: 0.0214 - acc: 0.9935\n",
      "Epoch 8/20\n",
      "5247/5247 [==============================] - 4s 763us/step - loss: 0.0163 - acc: 0.9966\n",
      "Epoch 9/20\n",
      "5247/5247 [==============================] - 4s 768us/step - loss: 0.0222 - acc: 0.9954\n",
      "Epoch 10/20\n",
      "5247/5247 [==============================] - 4s 760us/step - loss: 0.0224 - acc: 0.9933\n",
      "Epoch 11/20\n",
      "5247/5247 [==============================] - 4s 765us/step - loss: 0.0503 - acc: 0.9846\n",
      "Epoch 12/20\n",
      "5247/5247 [==============================] - 4s 763us/step - loss: 0.1013 - acc: 0.9726\n",
      "Epoch 13/20\n",
      "5247/5247 [==============================] - 4s 759us/step - loss: 0.1652 - acc: 0.9581\n",
      "Epoch 14/20\n",
      "5247/5247 [==============================] - 4s 760us/step - loss: 0.1635 - acc: 0.9506\n",
      "Epoch 15/20\n",
      "5247/5247 [==============================] - 4s 757us/step - loss: 0.1771 - acc: 0.9562\n",
      "Epoch 16/20\n",
      "5247/5247 [==============================] - 4s 753us/step - loss: 0.0859 - acc: 0.9785\n",
      "Epoch 17/20\n",
      "5247/5247 [==============================] - 4s 752us/step - loss: 0.0549 - acc: 0.9849\n",
      "Epoch 18/20\n",
      "5247/5247 [==============================] - 4s 757us/step - loss: 0.0361 - acc: 0.9914\n",
      "Epoch 19/20\n",
      "5247/5247 [==============================] - 4s 760us/step - loss: 0.0229 - acc: 0.9950\n",
      "Epoch 20/20\n",
      "5247/5247 [==============================] - 4s 757us/step - loss: 0.0197 - acc: 0.9962\n",
      "583/583 [==============================] - 0s 241us/step\n",
      "Epoch 1/20\n"
     ]
    },
    {
     "ename": "ResourceExhaustedError",
     "evalue": "OOM when allocating tensor with shape[4096,2062] and type float on /job:localhost/replica:0/task:0/device:GPU:0 by allocator GPU_0_bfc\n\t [[Node: training_9/Adam/Square = Square[T=DT_FLOAT, _device=\"/job:localhost/replica:0/task:0/device:GPU:0\"](training_9/Adam/gradients/dense_19/MatMul_grad/MatMul_1)]]\nHint: If you want to see a list of allocated tensors when OOM happens, add report_tensor_allocations_upon_oom to RunOptions for current allocation info.\n\n\nCaused by op 'training_9/Adam/Square', defined at:\n  File \"C:\\Users\\omar\\Anaconda3\\lib\\runpy.py\", line 193, in _run_module_as_main\n    \"__main__\", mod_spec)\n  File \"C:\\Users\\omar\\Anaconda3\\lib\\runpy.py\", line 85, in _run_code\n    exec(code, run_globals)\n  File \"C:\\Users\\omar\\Anaconda3\\lib\\site-packages\\ipykernel_launcher.py\", line 16, in <module>\n    app.launch_new_instance()\n  File \"C:\\Users\\omar\\Anaconda3\\lib\\site-packages\\traitlets\\config\\application.py\", line 658, in launch_instance\n    app.start()\n  File \"C:\\Users\\omar\\Anaconda3\\lib\\site-packages\\ipykernel\\kernelapp.py\", line 477, in start\n    ioloop.IOLoop.instance().start()\n  File \"C:\\Users\\omar\\Anaconda3\\lib\\site-packages\\zmq\\eventloop\\ioloop.py\", line 177, in start\n    super(ZMQIOLoop, self).start()\n  File \"C:\\Users\\omar\\Anaconda3\\lib\\site-packages\\tornado\\ioloop.py\", line 888, in start\n    handler_func(fd_obj, events)\n  File \"C:\\Users\\omar\\Anaconda3\\lib\\site-packages\\tornado\\stack_context.py\", line 277, in null_wrapper\n    return fn(*args, **kwargs)\n  File \"C:\\Users\\omar\\Anaconda3\\lib\\site-packages\\zmq\\eventloop\\zmqstream.py\", line 440, in _handle_events\n    self._handle_recv()\n  File \"C:\\Users\\omar\\Anaconda3\\lib\\site-packages\\zmq\\eventloop\\zmqstream.py\", line 472, in _handle_recv\n    self._run_callback(callback, msg)\n  File \"C:\\Users\\omar\\Anaconda3\\lib\\site-packages\\zmq\\eventloop\\zmqstream.py\", line 414, in _run_callback\n    callback(*args, **kwargs)\n  File \"C:\\Users\\omar\\Anaconda3\\lib\\site-packages\\tornado\\stack_context.py\", line 277, in null_wrapper\n    return fn(*args, **kwargs)\n  File \"C:\\Users\\omar\\Anaconda3\\lib\\site-packages\\ipykernel\\kernelbase.py\", line 283, in dispatcher\n    return self.dispatch_shell(stream, msg)\n  File \"C:\\Users\\omar\\Anaconda3\\lib\\site-packages\\ipykernel\\kernelbase.py\", line 235, in dispatch_shell\n    handler(stream, idents, msg)\n  File \"C:\\Users\\omar\\Anaconda3\\lib\\site-packages\\ipykernel\\kernelbase.py\", line 399, in execute_request\n    user_expressions, allow_stdin)\n  File \"C:\\Users\\omar\\Anaconda3\\lib\\site-packages\\ipykernel\\ipkernel.py\", line 196, in do_execute\n    res = shell.run_cell(code, store_history=store_history, silent=silent)\n  File \"C:\\Users\\omar\\Anaconda3\\lib\\site-packages\\ipykernel\\zmqshell.py\", line 533, in run_cell\n    return super(ZMQInteractiveShell, self).run_cell(*args, **kwargs)\n  File \"C:\\Users\\omar\\Anaconda3\\lib\\site-packages\\IPython\\core\\interactiveshell.py\", line 2717, in run_cell\n    interactivity=interactivity, compiler=compiler, result=result)\n  File \"C:\\Users\\omar\\Anaconda3\\lib\\site-packages\\IPython\\core\\interactiveshell.py\", line 2821, in run_ast_nodes\n    if self.run_code(code, result):\n  File \"C:\\Users\\omar\\Anaconda3\\lib\\site-packages\\IPython\\core\\interactiveshell.py\", line 2881, in run_code\n    exec(code_obj, self.user_global_ns, self.user_ns)\n  File \"<ipython-input-8-b055bdfb1723>\", line 1, in <module>\n    results = cross_val_score(estimator, X_train, y_train, cv=kfold)\n  File \"C:\\Users\\omar\\Anaconda3\\lib\\site-packages\\sklearn\\model_selection\\_validation.py\", line 321, in cross_val_score\n    pre_dispatch=pre_dispatch)\n  File \"C:\\Users\\omar\\Anaconda3\\lib\\site-packages\\sklearn\\model_selection\\_validation.py\", line 195, in cross_validate\n    for train, test in cv.split(X, y, groups))\n  File \"C:\\Users\\omar\\Anaconda3\\lib\\site-packages\\sklearn\\externals\\joblib\\parallel.py\", line 779, in __call__\n    while self.dispatch_one_batch(iterator):\n  File \"C:\\Users\\omar\\Anaconda3\\lib\\site-packages\\sklearn\\externals\\joblib\\parallel.py\", line 625, in dispatch_one_batch\n    self._dispatch(tasks)\n  File \"C:\\Users\\omar\\Anaconda3\\lib\\site-packages\\sklearn\\externals\\joblib\\parallel.py\", line 588, in _dispatch\n    job = self._backend.apply_async(batch, callback=cb)\n  File \"C:\\Users\\omar\\Anaconda3\\lib\\site-packages\\sklearn\\externals\\joblib\\_parallel_backends.py\", line 111, in apply_async\n    result = ImmediateResult(func)\n  File \"C:\\Users\\omar\\Anaconda3\\lib\\site-packages\\sklearn\\externals\\joblib\\_parallel_backends.py\", line 332, in __init__\n    self.results = batch()\n  File \"C:\\Users\\omar\\Anaconda3\\lib\\site-packages\\sklearn\\externals\\joblib\\parallel.py\", line 131, in __call__\n    return [func(*args, **kwargs) for func, args, kwargs in self.items]\n  File \"C:\\Users\\omar\\Anaconda3\\lib\\site-packages\\sklearn\\externals\\joblib\\parallel.py\", line 131, in <listcomp>\n    return [func(*args, **kwargs) for func, args, kwargs in self.items]\n  File \"C:\\Users\\omar\\Anaconda3\\lib\\site-packages\\sklearn\\model_selection\\_validation.py\", line 437, in _fit_and_score\n    estimator.fit(X_train, y_train, **fit_params)\n  File \"C:\\Users\\omar\\Anaconda3\\lib\\site-packages\\keras\\wrappers\\scikit_learn.py\", line 209, in fit\n    return super(KerasClassifier, self).fit(x, y, **kwargs)\n  File \"C:\\Users\\omar\\Anaconda3\\lib\\site-packages\\keras\\wrappers\\scikit_learn.py\", line 151, in fit\n    history = self.model.fit(x, y, **fit_args)\n  File \"C:\\Users\\omar\\Anaconda3\\lib\\site-packages\\keras\\models.py\", line 963, in fit\n    validation_steps=validation_steps)\n  File \"C:\\Users\\omar\\Anaconda3\\lib\\site-packages\\keras\\engine\\training.py\", line 1682, in fit\n    self._make_train_function()\n  File \"C:\\Users\\omar\\Anaconda3\\lib\\site-packages\\keras\\engine\\training.py\", line 990, in _make_train_function\n    loss=self.total_loss)\n  File \"C:\\Users\\omar\\Anaconda3\\lib\\site-packages\\keras\\legacy\\interfaces.py\", line 91, in wrapper\n    return func(*args, **kwargs)\n  File \"C:\\Users\\omar\\Anaconda3\\lib\\site-packages\\keras\\optimizers.py\", line 467, in get_updates\n    v_t = (self.beta_2 * v) + (1. - self.beta_2) * K.square(g)\n  File \"C:\\Users\\omar\\Anaconda3\\lib\\site-packages\\keras\\backend\\tensorflow_backend.py\", line 1435, in square\n    return tf.square(x)\n  File \"C:\\Users\\omar\\Anaconda3\\lib\\site-packages\\tensorflow\\python\\ops\\math_ops.py\", line 467, in square\n    return gen_math_ops.square(x, name=name)\n  File \"C:\\Users\\omar\\Anaconda3\\lib\\site-packages\\tensorflow\\python\\ops\\gen_math_ops.py\", line 5317, in square\n    \"Square\", x=x, name=name)\n  File \"C:\\Users\\omar\\Anaconda3\\lib\\site-packages\\tensorflow\\python\\framework\\op_def_library.py\", line 787, in _apply_op_helper\n    op_def=op_def)\n  File \"C:\\Users\\omar\\Anaconda3\\lib\\site-packages\\tensorflow\\python\\framework\\ops.py\", line 3271, in create_op\n    op_def=op_def)\n  File \"C:\\Users\\omar\\Anaconda3\\lib\\site-packages\\tensorflow\\python\\framework\\ops.py\", line 1650, in __init__\n    self._traceback = self._graph._extract_stack()  # pylint: disable=protected-access\n\nResourceExhaustedError (see above for traceback): OOM when allocating tensor with shape[4096,2062] and type float on /job:localhost/replica:0/task:0/device:GPU:0 by allocator GPU_0_bfc\n\t [[Node: training_9/Adam/Square = Square[T=DT_FLOAT, _device=\"/job:localhost/replica:0/task:0/device:GPU:0\"](training_9/Adam/gradients/dense_19/MatMul_grad/MatMul_1)]]\nHint: If you want to see a list of allocated tensors when OOM happens, add report_tensor_allocations_upon_oom to RunOptions for current allocation info.\n\n",
     "output_type": "error",
     "traceback": [
      "\u001b[1;31m---------------------------------------------------------------------------\u001b[0m",
      "\u001b[1;31mResourceExhaustedError\u001b[0m                    Traceback (most recent call last)",
      "\u001b[1;32mC:\\Users\\omar\\Anaconda3\\lib\\site-packages\\tensorflow\\python\\client\\session.py\u001b[0m in \u001b[0;36m_do_call\u001b[1;34m(self, fn, *args)\u001b[0m\n\u001b[0;32m   1360\u001b[0m     \u001b[1;32mtry\u001b[0m\u001b[1;33m:\u001b[0m\u001b[1;33m\u001b[0m\u001b[0m\n\u001b[1;32m-> 1361\u001b[1;33m       \u001b[1;32mreturn\u001b[0m \u001b[0mfn\u001b[0m\u001b[1;33m(\u001b[0m\u001b[1;33m*\u001b[0m\u001b[0margs\u001b[0m\u001b[1;33m)\u001b[0m\u001b[1;33m\u001b[0m\u001b[0m\n\u001b[0m\u001b[0;32m   1362\u001b[0m     \u001b[1;32mexcept\u001b[0m \u001b[0merrors\u001b[0m\u001b[1;33m.\u001b[0m\u001b[0mOpError\u001b[0m \u001b[1;32mas\u001b[0m \u001b[0me\u001b[0m\u001b[1;33m:\u001b[0m\u001b[1;33m\u001b[0m\u001b[0m\n",
      "\u001b[1;32mC:\\Users\\omar\\Anaconda3\\lib\\site-packages\\tensorflow\\python\\client\\session.py\u001b[0m in \u001b[0;36m_run_fn\u001b[1;34m(session, feed_dict, fetch_list, target_list, options, run_metadata)\u001b[0m\n\u001b[0;32m   1339\u001b[0m           return tf_session.TF_Run(session, options, feed_dict, fetch_list,\n\u001b[1;32m-> 1340\u001b[1;33m                                    target_list, status, run_metadata)\n\u001b[0m\u001b[0;32m   1341\u001b[0m \u001b[1;33m\u001b[0m\u001b[0m\n",
      "\u001b[1;32mC:\\Users\\omar\\Anaconda3\\lib\\site-packages\\tensorflow\\python\\framework\\errors_impl.py\u001b[0m in \u001b[0;36m__exit__\u001b[1;34m(self, type_arg, value_arg, traceback_arg)\u001b[0m\n\u001b[0;32m    515\u001b[0m             \u001b[0mcompat\u001b[0m\u001b[1;33m.\u001b[0m\u001b[0mas_text\u001b[0m\u001b[1;33m(\u001b[0m\u001b[0mc_api\u001b[0m\u001b[1;33m.\u001b[0m\u001b[0mTF_Message\u001b[0m\u001b[1;33m(\u001b[0m\u001b[0mself\u001b[0m\u001b[1;33m.\u001b[0m\u001b[0mstatus\u001b[0m\u001b[1;33m.\u001b[0m\u001b[0mstatus\u001b[0m\u001b[1;33m)\u001b[0m\u001b[1;33m)\u001b[0m\u001b[1;33m,\u001b[0m\u001b[1;33m\u001b[0m\u001b[0m\n\u001b[1;32m--> 516\u001b[1;33m             c_api.TF_GetCode(self.status.status))\n\u001b[0m\u001b[0;32m    517\u001b[0m     \u001b[1;31m# Delete the underlying status object from memory otherwise it stays alive\u001b[0m\u001b[1;33m\u001b[0m\u001b[1;33m\u001b[0m\u001b[0m\n",
      "\u001b[1;31mResourceExhaustedError\u001b[0m: OOM when allocating tensor with shape[4096,2062] and type float on /job:localhost/replica:0/task:0/device:GPU:0 by allocator GPU_0_bfc\n\t [[Node: training_9/Adam/Square = Square[T=DT_FLOAT, _device=\"/job:localhost/replica:0/task:0/device:GPU:0\"](training_9/Adam/gradients/dense_19/MatMul_grad/MatMul_1)]]\nHint: If you want to see a list of allocated tensors when OOM happens, add report_tensor_allocations_upon_oom to RunOptions for current allocation info.\n",
      "\nDuring handling of the above exception, another exception occurred:\n",
      "\u001b[1;31mResourceExhaustedError\u001b[0m                    Traceback (most recent call last)",
      "\u001b[1;32m<ipython-input-8-b055bdfb1723>\u001b[0m in \u001b[0;36m<module>\u001b[1;34m()\u001b[0m\n\u001b[1;32m----> 1\u001b[1;33m \u001b[0mresults\u001b[0m \u001b[1;33m=\u001b[0m \u001b[0mcross_val_score\u001b[0m\u001b[1;33m(\u001b[0m\u001b[0mestimator\u001b[0m\u001b[1;33m,\u001b[0m \u001b[0mX_train\u001b[0m\u001b[1;33m,\u001b[0m \u001b[0my_train\u001b[0m\u001b[1;33m,\u001b[0m \u001b[0mcv\u001b[0m\u001b[1;33m=\u001b[0m\u001b[0mkfold\u001b[0m\u001b[1;33m)\u001b[0m\u001b[1;33m\u001b[0m\u001b[0m\n\u001b[0m",
      "\u001b[1;32mC:\\Users\\omar\\Anaconda3\\lib\\site-packages\\sklearn\\model_selection\\_validation.py\u001b[0m in \u001b[0;36mcross_val_score\u001b[1;34m(estimator, X, y, groups, scoring, cv, n_jobs, verbose, fit_params, pre_dispatch)\u001b[0m\n\u001b[0;32m    319\u001b[0m                                 \u001b[0mn_jobs\u001b[0m\u001b[1;33m=\u001b[0m\u001b[0mn_jobs\u001b[0m\u001b[1;33m,\u001b[0m \u001b[0mverbose\u001b[0m\u001b[1;33m=\u001b[0m\u001b[0mverbose\u001b[0m\u001b[1;33m,\u001b[0m\u001b[1;33m\u001b[0m\u001b[0m\n\u001b[0;32m    320\u001b[0m                                 \u001b[0mfit_params\u001b[0m\u001b[1;33m=\u001b[0m\u001b[0mfit_params\u001b[0m\u001b[1;33m,\u001b[0m\u001b[1;33m\u001b[0m\u001b[0m\n\u001b[1;32m--> 321\u001b[1;33m                                 pre_dispatch=pre_dispatch)\n\u001b[0m\u001b[0;32m    322\u001b[0m     \u001b[1;32mreturn\u001b[0m \u001b[0mcv_results\u001b[0m\u001b[1;33m[\u001b[0m\u001b[1;34m'test_score'\u001b[0m\u001b[1;33m]\u001b[0m\u001b[1;33m\u001b[0m\u001b[0m\n\u001b[0;32m    323\u001b[0m \u001b[1;33m\u001b[0m\u001b[0m\n",
      "\u001b[1;32mC:\\Users\\omar\\Anaconda3\\lib\\site-packages\\sklearn\\model_selection\\_validation.py\u001b[0m in \u001b[0;36mcross_validate\u001b[1;34m(estimator, X, y, groups, scoring, cv, n_jobs, verbose, fit_params, pre_dispatch, return_train_score)\u001b[0m\n\u001b[0;32m    193\u001b[0m             \u001b[0mfit_params\u001b[0m\u001b[1;33m,\u001b[0m \u001b[0mreturn_train_score\u001b[0m\u001b[1;33m=\u001b[0m\u001b[0mreturn_train_score\u001b[0m\u001b[1;33m,\u001b[0m\u001b[1;33m\u001b[0m\u001b[0m\n\u001b[0;32m    194\u001b[0m             return_times=True)\n\u001b[1;32m--> 195\u001b[1;33m         for train, test in cv.split(X, y, groups))\n\u001b[0m\u001b[0;32m    196\u001b[0m \u001b[1;33m\u001b[0m\u001b[0m\n\u001b[0;32m    197\u001b[0m     \u001b[1;32mif\u001b[0m \u001b[0mreturn_train_score\u001b[0m\u001b[1;33m:\u001b[0m\u001b[1;33m\u001b[0m\u001b[0m\n",
      "\u001b[1;32mC:\\Users\\omar\\Anaconda3\\lib\\site-packages\\sklearn\\externals\\joblib\\parallel.py\u001b[0m in \u001b[0;36m__call__\u001b[1;34m(self, iterable)\u001b[0m\n\u001b[0;32m    777\u001b[0m             \u001b[1;31m# was dispatched. In particular this covers the edge\u001b[0m\u001b[1;33m\u001b[0m\u001b[1;33m\u001b[0m\u001b[0m\n\u001b[0;32m    778\u001b[0m             \u001b[1;31m# case of Parallel used with an exhausted iterator.\u001b[0m\u001b[1;33m\u001b[0m\u001b[1;33m\u001b[0m\u001b[0m\n\u001b[1;32m--> 779\u001b[1;33m             \u001b[1;32mwhile\u001b[0m \u001b[0mself\u001b[0m\u001b[1;33m.\u001b[0m\u001b[0mdispatch_one_batch\u001b[0m\u001b[1;33m(\u001b[0m\u001b[0miterator\u001b[0m\u001b[1;33m)\u001b[0m\u001b[1;33m:\u001b[0m\u001b[1;33m\u001b[0m\u001b[0m\n\u001b[0m\u001b[0;32m    780\u001b[0m                 \u001b[0mself\u001b[0m\u001b[1;33m.\u001b[0m\u001b[0m_iterating\u001b[0m \u001b[1;33m=\u001b[0m \u001b[1;32mTrue\u001b[0m\u001b[1;33m\u001b[0m\u001b[0m\n\u001b[0;32m    781\u001b[0m             \u001b[1;32melse\u001b[0m\u001b[1;33m:\u001b[0m\u001b[1;33m\u001b[0m\u001b[0m\n",
      "\u001b[1;32mC:\\Users\\omar\\Anaconda3\\lib\\site-packages\\sklearn\\externals\\joblib\\parallel.py\u001b[0m in \u001b[0;36mdispatch_one_batch\u001b[1;34m(self, iterator)\u001b[0m\n\u001b[0;32m    623\u001b[0m                 \u001b[1;32mreturn\u001b[0m \u001b[1;32mFalse\u001b[0m\u001b[1;33m\u001b[0m\u001b[0m\n\u001b[0;32m    624\u001b[0m             \u001b[1;32melse\u001b[0m\u001b[1;33m:\u001b[0m\u001b[1;33m\u001b[0m\u001b[0m\n\u001b[1;32m--> 625\u001b[1;33m                 \u001b[0mself\u001b[0m\u001b[1;33m.\u001b[0m\u001b[0m_dispatch\u001b[0m\u001b[1;33m(\u001b[0m\u001b[0mtasks\u001b[0m\u001b[1;33m)\u001b[0m\u001b[1;33m\u001b[0m\u001b[0m\n\u001b[0m\u001b[0;32m    626\u001b[0m                 \u001b[1;32mreturn\u001b[0m \u001b[1;32mTrue\u001b[0m\u001b[1;33m\u001b[0m\u001b[0m\n\u001b[0;32m    627\u001b[0m \u001b[1;33m\u001b[0m\u001b[0m\n",
      "\u001b[1;32mC:\\Users\\omar\\Anaconda3\\lib\\site-packages\\sklearn\\externals\\joblib\\parallel.py\u001b[0m in \u001b[0;36m_dispatch\u001b[1;34m(self, batch)\u001b[0m\n\u001b[0;32m    586\u001b[0m         \u001b[0mdispatch_timestamp\u001b[0m \u001b[1;33m=\u001b[0m \u001b[0mtime\u001b[0m\u001b[1;33m.\u001b[0m\u001b[0mtime\u001b[0m\u001b[1;33m(\u001b[0m\u001b[1;33m)\u001b[0m\u001b[1;33m\u001b[0m\u001b[0m\n\u001b[0;32m    587\u001b[0m         \u001b[0mcb\u001b[0m \u001b[1;33m=\u001b[0m \u001b[0mBatchCompletionCallBack\u001b[0m\u001b[1;33m(\u001b[0m\u001b[0mdispatch_timestamp\u001b[0m\u001b[1;33m,\u001b[0m \u001b[0mlen\u001b[0m\u001b[1;33m(\u001b[0m\u001b[0mbatch\u001b[0m\u001b[1;33m)\u001b[0m\u001b[1;33m,\u001b[0m \u001b[0mself\u001b[0m\u001b[1;33m)\u001b[0m\u001b[1;33m\u001b[0m\u001b[0m\n\u001b[1;32m--> 588\u001b[1;33m         \u001b[0mjob\u001b[0m \u001b[1;33m=\u001b[0m \u001b[0mself\u001b[0m\u001b[1;33m.\u001b[0m\u001b[0m_backend\u001b[0m\u001b[1;33m.\u001b[0m\u001b[0mapply_async\u001b[0m\u001b[1;33m(\u001b[0m\u001b[0mbatch\u001b[0m\u001b[1;33m,\u001b[0m \u001b[0mcallback\u001b[0m\u001b[1;33m=\u001b[0m\u001b[0mcb\u001b[0m\u001b[1;33m)\u001b[0m\u001b[1;33m\u001b[0m\u001b[0m\n\u001b[0m\u001b[0;32m    589\u001b[0m         \u001b[0mself\u001b[0m\u001b[1;33m.\u001b[0m\u001b[0m_jobs\u001b[0m\u001b[1;33m.\u001b[0m\u001b[0mappend\u001b[0m\u001b[1;33m(\u001b[0m\u001b[0mjob\u001b[0m\u001b[1;33m)\u001b[0m\u001b[1;33m\u001b[0m\u001b[0m\n\u001b[0;32m    590\u001b[0m \u001b[1;33m\u001b[0m\u001b[0m\n",
      "\u001b[1;32mC:\\Users\\omar\\Anaconda3\\lib\\site-packages\\sklearn\\externals\\joblib\\_parallel_backends.py\u001b[0m in \u001b[0;36mapply_async\u001b[1;34m(self, func, callback)\u001b[0m\n\u001b[0;32m    109\u001b[0m     \u001b[1;32mdef\u001b[0m \u001b[0mapply_async\u001b[0m\u001b[1;33m(\u001b[0m\u001b[0mself\u001b[0m\u001b[1;33m,\u001b[0m \u001b[0mfunc\u001b[0m\u001b[1;33m,\u001b[0m \u001b[0mcallback\u001b[0m\u001b[1;33m=\u001b[0m\u001b[1;32mNone\u001b[0m\u001b[1;33m)\u001b[0m\u001b[1;33m:\u001b[0m\u001b[1;33m\u001b[0m\u001b[0m\n\u001b[0;32m    110\u001b[0m         \u001b[1;34m\"\"\"Schedule a func to be run\"\"\"\u001b[0m\u001b[1;33m\u001b[0m\u001b[0m\n\u001b[1;32m--> 111\u001b[1;33m         \u001b[0mresult\u001b[0m \u001b[1;33m=\u001b[0m \u001b[0mImmediateResult\u001b[0m\u001b[1;33m(\u001b[0m\u001b[0mfunc\u001b[0m\u001b[1;33m)\u001b[0m\u001b[1;33m\u001b[0m\u001b[0m\n\u001b[0m\u001b[0;32m    112\u001b[0m         \u001b[1;32mif\u001b[0m \u001b[0mcallback\u001b[0m\u001b[1;33m:\u001b[0m\u001b[1;33m\u001b[0m\u001b[0m\n\u001b[0;32m    113\u001b[0m             \u001b[0mcallback\u001b[0m\u001b[1;33m(\u001b[0m\u001b[0mresult\u001b[0m\u001b[1;33m)\u001b[0m\u001b[1;33m\u001b[0m\u001b[0m\n",
      "\u001b[1;32mC:\\Users\\omar\\Anaconda3\\lib\\site-packages\\sklearn\\externals\\joblib\\_parallel_backends.py\u001b[0m in \u001b[0;36m__init__\u001b[1;34m(self, batch)\u001b[0m\n\u001b[0;32m    330\u001b[0m         \u001b[1;31m# Don't delay the application, to avoid keeping the input\u001b[0m\u001b[1;33m\u001b[0m\u001b[1;33m\u001b[0m\u001b[0m\n\u001b[0;32m    331\u001b[0m         \u001b[1;31m# arguments in memory\u001b[0m\u001b[1;33m\u001b[0m\u001b[1;33m\u001b[0m\u001b[0m\n\u001b[1;32m--> 332\u001b[1;33m         \u001b[0mself\u001b[0m\u001b[1;33m.\u001b[0m\u001b[0mresults\u001b[0m \u001b[1;33m=\u001b[0m \u001b[0mbatch\u001b[0m\u001b[1;33m(\u001b[0m\u001b[1;33m)\u001b[0m\u001b[1;33m\u001b[0m\u001b[0m\n\u001b[0m\u001b[0;32m    333\u001b[0m \u001b[1;33m\u001b[0m\u001b[0m\n\u001b[0;32m    334\u001b[0m     \u001b[1;32mdef\u001b[0m \u001b[0mget\u001b[0m\u001b[1;33m(\u001b[0m\u001b[0mself\u001b[0m\u001b[1;33m)\u001b[0m\u001b[1;33m:\u001b[0m\u001b[1;33m\u001b[0m\u001b[0m\n",
      "\u001b[1;32mC:\\Users\\omar\\Anaconda3\\lib\\site-packages\\sklearn\\externals\\joblib\\parallel.py\u001b[0m in \u001b[0;36m__call__\u001b[1;34m(self)\u001b[0m\n\u001b[0;32m    129\u001b[0m \u001b[1;33m\u001b[0m\u001b[0m\n\u001b[0;32m    130\u001b[0m     \u001b[1;32mdef\u001b[0m \u001b[0m__call__\u001b[0m\u001b[1;33m(\u001b[0m\u001b[0mself\u001b[0m\u001b[1;33m)\u001b[0m\u001b[1;33m:\u001b[0m\u001b[1;33m\u001b[0m\u001b[0m\n\u001b[1;32m--> 131\u001b[1;33m         \u001b[1;32mreturn\u001b[0m \u001b[1;33m[\u001b[0m\u001b[0mfunc\u001b[0m\u001b[1;33m(\u001b[0m\u001b[1;33m*\u001b[0m\u001b[0margs\u001b[0m\u001b[1;33m,\u001b[0m \u001b[1;33m**\u001b[0m\u001b[0mkwargs\u001b[0m\u001b[1;33m)\u001b[0m \u001b[1;32mfor\u001b[0m \u001b[0mfunc\u001b[0m\u001b[1;33m,\u001b[0m \u001b[0margs\u001b[0m\u001b[1;33m,\u001b[0m \u001b[0mkwargs\u001b[0m \u001b[1;32min\u001b[0m \u001b[0mself\u001b[0m\u001b[1;33m.\u001b[0m\u001b[0mitems\u001b[0m\u001b[1;33m]\u001b[0m\u001b[1;33m\u001b[0m\u001b[0m\n\u001b[0m\u001b[0;32m    132\u001b[0m \u001b[1;33m\u001b[0m\u001b[0m\n\u001b[0;32m    133\u001b[0m     \u001b[1;32mdef\u001b[0m \u001b[0m__len__\u001b[0m\u001b[1;33m(\u001b[0m\u001b[0mself\u001b[0m\u001b[1;33m)\u001b[0m\u001b[1;33m:\u001b[0m\u001b[1;33m\u001b[0m\u001b[0m\n",
      "\u001b[1;32mC:\\Users\\omar\\Anaconda3\\lib\\site-packages\\sklearn\\externals\\joblib\\parallel.py\u001b[0m in \u001b[0;36m<listcomp>\u001b[1;34m(.0)\u001b[0m\n\u001b[0;32m    129\u001b[0m \u001b[1;33m\u001b[0m\u001b[0m\n\u001b[0;32m    130\u001b[0m     \u001b[1;32mdef\u001b[0m \u001b[0m__call__\u001b[0m\u001b[1;33m(\u001b[0m\u001b[0mself\u001b[0m\u001b[1;33m)\u001b[0m\u001b[1;33m:\u001b[0m\u001b[1;33m\u001b[0m\u001b[0m\n\u001b[1;32m--> 131\u001b[1;33m         \u001b[1;32mreturn\u001b[0m \u001b[1;33m[\u001b[0m\u001b[0mfunc\u001b[0m\u001b[1;33m(\u001b[0m\u001b[1;33m*\u001b[0m\u001b[0margs\u001b[0m\u001b[1;33m,\u001b[0m \u001b[1;33m**\u001b[0m\u001b[0mkwargs\u001b[0m\u001b[1;33m)\u001b[0m \u001b[1;32mfor\u001b[0m \u001b[0mfunc\u001b[0m\u001b[1;33m,\u001b[0m \u001b[0margs\u001b[0m\u001b[1;33m,\u001b[0m \u001b[0mkwargs\u001b[0m \u001b[1;32min\u001b[0m \u001b[0mself\u001b[0m\u001b[1;33m.\u001b[0m\u001b[0mitems\u001b[0m\u001b[1;33m]\u001b[0m\u001b[1;33m\u001b[0m\u001b[0m\n\u001b[0m\u001b[0;32m    132\u001b[0m \u001b[1;33m\u001b[0m\u001b[0m\n\u001b[0;32m    133\u001b[0m     \u001b[1;32mdef\u001b[0m \u001b[0m__len__\u001b[0m\u001b[1;33m(\u001b[0m\u001b[0mself\u001b[0m\u001b[1;33m)\u001b[0m\u001b[1;33m:\u001b[0m\u001b[1;33m\u001b[0m\u001b[0m\n",
      "\u001b[1;32mC:\\Users\\omar\\Anaconda3\\lib\\site-packages\\sklearn\\model_selection\\_validation.py\u001b[0m in \u001b[0;36m_fit_and_score\u001b[1;34m(estimator, X, y, scorer, train, test, verbose, parameters, fit_params, return_train_score, return_parameters, return_n_test_samples, return_times, error_score)\u001b[0m\n\u001b[0;32m    435\u001b[0m             \u001b[0mestimator\u001b[0m\u001b[1;33m.\u001b[0m\u001b[0mfit\u001b[0m\u001b[1;33m(\u001b[0m\u001b[0mX_train\u001b[0m\u001b[1;33m,\u001b[0m \u001b[1;33m**\u001b[0m\u001b[0mfit_params\u001b[0m\u001b[1;33m)\u001b[0m\u001b[1;33m\u001b[0m\u001b[0m\n\u001b[0;32m    436\u001b[0m         \u001b[1;32melse\u001b[0m\u001b[1;33m:\u001b[0m\u001b[1;33m\u001b[0m\u001b[0m\n\u001b[1;32m--> 437\u001b[1;33m             \u001b[0mestimator\u001b[0m\u001b[1;33m.\u001b[0m\u001b[0mfit\u001b[0m\u001b[1;33m(\u001b[0m\u001b[0mX_train\u001b[0m\u001b[1;33m,\u001b[0m \u001b[0my_train\u001b[0m\u001b[1;33m,\u001b[0m \u001b[1;33m**\u001b[0m\u001b[0mfit_params\u001b[0m\u001b[1;33m)\u001b[0m\u001b[1;33m\u001b[0m\u001b[0m\n\u001b[0m\u001b[0;32m    438\u001b[0m \u001b[1;33m\u001b[0m\u001b[0m\n\u001b[0;32m    439\u001b[0m     \u001b[1;32mexcept\u001b[0m \u001b[0mException\u001b[0m \u001b[1;32mas\u001b[0m \u001b[0me\u001b[0m\u001b[1;33m:\u001b[0m\u001b[1;33m\u001b[0m\u001b[0m\n",
      "\u001b[1;32mC:\\Users\\omar\\Anaconda3\\lib\\site-packages\\keras\\wrappers\\scikit_learn.py\u001b[0m in \u001b[0;36mfit\u001b[1;34m(self, x, y, sample_weight, **kwargs)\u001b[0m\n\u001b[0;32m    207\u001b[0m         \u001b[1;32mif\u001b[0m \u001b[0msample_weight\u001b[0m \u001b[1;32mis\u001b[0m \u001b[1;32mnot\u001b[0m \u001b[1;32mNone\u001b[0m\u001b[1;33m:\u001b[0m\u001b[1;33m\u001b[0m\u001b[0m\n\u001b[0;32m    208\u001b[0m             \u001b[0mkwargs\u001b[0m\u001b[1;33m[\u001b[0m\u001b[1;34m'sample_weight'\u001b[0m\u001b[1;33m]\u001b[0m \u001b[1;33m=\u001b[0m \u001b[0msample_weight\u001b[0m\u001b[1;33m\u001b[0m\u001b[0m\n\u001b[1;32m--> 209\u001b[1;33m         \u001b[1;32mreturn\u001b[0m \u001b[0msuper\u001b[0m\u001b[1;33m(\u001b[0m\u001b[0mKerasClassifier\u001b[0m\u001b[1;33m,\u001b[0m \u001b[0mself\u001b[0m\u001b[1;33m)\u001b[0m\u001b[1;33m.\u001b[0m\u001b[0mfit\u001b[0m\u001b[1;33m(\u001b[0m\u001b[0mx\u001b[0m\u001b[1;33m,\u001b[0m \u001b[0my\u001b[0m\u001b[1;33m,\u001b[0m \u001b[1;33m**\u001b[0m\u001b[0mkwargs\u001b[0m\u001b[1;33m)\u001b[0m\u001b[1;33m\u001b[0m\u001b[0m\n\u001b[0m\u001b[0;32m    210\u001b[0m \u001b[1;33m\u001b[0m\u001b[0m\n\u001b[0;32m    211\u001b[0m     \u001b[1;32mdef\u001b[0m \u001b[0mpredict\u001b[0m\u001b[1;33m(\u001b[0m\u001b[0mself\u001b[0m\u001b[1;33m,\u001b[0m \u001b[0mx\u001b[0m\u001b[1;33m,\u001b[0m \u001b[1;33m**\u001b[0m\u001b[0mkwargs\u001b[0m\u001b[1;33m)\u001b[0m\u001b[1;33m:\u001b[0m\u001b[1;33m\u001b[0m\u001b[0m\n",
      "\u001b[1;32mC:\\Users\\omar\\Anaconda3\\lib\\site-packages\\keras\\wrappers\\scikit_learn.py\u001b[0m in \u001b[0;36mfit\u001b[1;34m(self, x, y, **kwargs)\u001b[0m\n\u001b[0;32m    149\u001b[0m         \u001b[0mfit_args\u001b[0m\u001b[1;33m.\u001b[0m\u001b[0mupdate\u001b[0m\u001b[1;33m(\u001b[0m\u001b[0mkwargs\u001b[0m\u001b[1;33m)\u001b[0m\u001b[1;33m\u001b[0m\u001b[0m\n\u001b[0;32m    150\u001b[0m \u001b[1;33m\u001b[0m\u001b[0m\n\u001b[1;32m--> 151\u001b[1;33m         \u001b[0mhistory\u001b[0m \u001b[1;33m=\u001b[0m \u001b[0mself\u001b[0m\u001b[1;33m.\u001b[0m\u001b[0mmodel\u001b[0m\u001b[1;33m.\u001b[0m\u001b[0mfit\u001b[0m\u001b[1;33m(\u001b[0m\u001b[0mx\u001b[0m\u001b[1;33m,\u001b[0m \u001b[0my\u001b[0m\u001b[1;33m,\u001b[0m \u001b[1;33m**\u001b[0m\u001b[0mfit_args\u001b[0m\u001b[1;33m)\u001b[0m\u001b[1;33m\u001b[0m\u001b[0m\n\u001b[0m\u001b[0;32m    152\u001b[0m \u001b[1;33m\u001b[0m\u001b[0m\n\u001b[0;32m    153\u001b[0m         \u001b[1;32mreturn\u001b[0m \u001b[0mhistory\u001b[0m\u001b[1;33m\u001b[0m\u001b[0m\n",
      "\u001b[1;32mC:\\Users\\omar\\Anaconda3\\lib\\site-packages\\keras\\models.py\u001b[0m in \u001b[0;36mfit\u001b[1;34m(self, x, y, batch_size, epochs, verbose, callbacks, validation_split, validation_data, shuffle, class_weight, sample_weight, initial_epoch, steps_per_epoch, validation_steps, **kwargs)\u001b[0m\n\u001b[0;32m    961\u001b[0m                               \u001b[0minitial_epoch\u001b[0m\u001b[1;33m=\u001b[0m\u001b[0minitial_epoch\u001b[0m\u001b[1;33m,\u001b[0m\u001b[1;33m\u001b[0m\u001b[0m\n\u001b[0;32m    962\u001b[0m                               \u001b[0msteps_per_epoch\u001b[0m\u001b[1;33m=\u001b[0m\u001b[0msteps_per_epoch\u001b[0m\u001b[1;33m,\u001b[0m\u001b[1;33m\u001b[0m\u001b[0m\n\u001b[1;32m--> 963\u001b[1;33m                               validation_steps=validation_steps)\n\u001b[0m\u001b[0;32m    964\u001b[0m \u001b[1;33m\u001b[0m\u001b[0m\n\u001b[0;32m    965\u001b[0m     def evaluate(self, x=None, y=None,\n",
      "\u001b[1;32mC:\\Users\\omar\\Anaconda3\\lib\\site-packages\\keras\\engine\\training.py\u001b[0m in \u001b[0;36mfit\u001b[1;34m(self, x, y, batch_size, epochs, verbose, callbacks, validation_split, validation_data, shuffle, class_weight, sample_weight, initial_epoch, steps_per_epoch, validation_steps, **kwargs)\u001b[0m\n\u001b[0;32m   1703\u001b[0m                               \u001b[0minitial_epoch\u001b[0m\u001b[1;33m=\u001b[0m\u001b[0minitial_epoch\u001b[0m\u001b[1;33m,\u001b[0m\u001b[1;33m\u001b[0m\u001b[0m\n\u001b[0;32m   1704\u001b[0m                               \u001b[0msteps_per_epoch\u001b[0m\u001b[1;33m=\u001b[0m\u001b[0msteps_per_epoch\u001b[0m\u001b[1;33m,\u001b[0m\u001b[1;33m\u001b[0m\u001b[0m\n\u001b[1;32m-> 1705\u001b[1;33m                               validation_steps=validation_steps)\n\u001b[0m\u001b[0;32m   1706\u001b[0m \u001b[1;33m\u001b[0m\u001b[0m\n\u001b[0;32m   1707\u001b[0m     def evaluate(self, x=None, y=None,\n",
      "\u001b[1;32mC:\\Users\\omar\\Anaconda3\\lib\\site-packages\\keras\\engine\\training.py\u001b[0m in \u001b[0;36m_fit_loop\u001b[1;34m(self, f, ins, out_labels, batch_size, epochs, verbose, callbacks, val_f, val_ins, shuffle, callback_metrics, initial_epoch, steps_per_epoch, validation_steps)\u001b[0m\n\u001b[0;32m   1233\u001b[0m                         \u001b[0mins_batch\u001b[0m\u001b[1;33m[\u001b[0m\u001b[0mi\u001b[0m\u001b[1;33m]\u001b[0m \u001b[1;33m=\u001b[0m \u001b[0mins_batch\u001b[0m\u001b[1;33m[\u001b[0m\u001b[0mi\u001b[0m\u001b[1;33m]\u001b[0m\u001b[1;33m.\u001b[0m\u001b[0mtoarray\u001b[0m\u001b[1;33m(\u001b[0m\u001b[1;33m)\u001b[0m\u001b[1;33m\u001b[0m\u001b[0m\n\u001b[0;32m   1234\u001b[0m \u001b[1;33m\u001b[0m\u001b[0m\n\u001b[1;32m-> 1235\u001b[1;33m                     \u001b[0mouts\u001b[0m \u001b[1;33m=\u001b[0m \u001b[0mf\u001b[0m\u001b[1;33m(\u001b[0m\u001b[0mins_batch\u001b[0m\u001b[1;33m)\u001b[0m\u001b[1;33m\u001b[0m\u001b[0m\n\u001b[0m\u001b[0;32m   1236\u001b[0m                     \u001b[1;32mif\u001b[0m \u001b[1;32mnot\u001b[0m \u001b[0misinstance\u001b[0m\u001b[1;33m(\u001b[0m\u001b[0mouts\u001b[0m\u001b[1;33m,\u001b[0m \u001b[0mlist\u001b[0m\u001b[1;33m)\u001b[0m\u001b[1;33m:\u001b[0m\u001b[1;33m\u001b[0m\u001b[0m\n\u001b[0;32m   1237\u001b[0m                         \u001b[0mouts\u001b[0m \u001b[1;33m=\u001b[0m \u001b[1;33m[\u001b[0m\u001b[0mouts\u001b[0m\u001b[1;33m]\u001b[0m\u001b[1;33m\u001b[0m\u001b[0m\n",
      "\u001b[1;32mC:\\Users\\omar\\Anaconda3\\lib\\site-packages\\keras\\backend\\tensorflow_backend.py\u001b[0m in \u001b[0;36m__call__\u001b[1;34m(self, inputs)\u001b[0m\n\u001b[0;32m   2476\u001b[0m         \u001b[0msession\u001b[0m \u001b[1;33m=\u001b[0m \u001b[0mget_session\u001b[0m\u001b[1;33m(\u001b[0m\u001b[1;33m)\u001b[0m\u001b[1;33m\u001b[0m\u001b[0m\n\u001b[0;32m   2477\u001b[0m         updated = session.run(fetches=fetches, feed_dict=feed_dict,\n\u001b[1;32m-> 2478\u001b[1;33m                               **self.session_kwargs)\n\u001b[0m\u001b[0;32m   2479\u001b[0m         \u001b[1;32mreturn\u001b[0m \u001b[0mupdated\u001b[0m\u001b[1;33m[\u001b[0m\u001b[1;33m:\u001b[0m\u001b[0mlen\u001b[0m\u001b[1;33m(\u001b[0m\u001b[0mself\u001b[0m\u001b[1;33m.\u001b[0m\u001b[0moutputs\u001b[0m\u001b[1;33m)\u001b[0m\u001b[1;33m]\u001b[0m\u001b[1;33m\u001b[0m\u001b[0m\n\u001b[0;32m   2480\u001b[0m \u001b[1;33m\u001b[0m\u001b[0m\n",
      "\u001b[1;32mC:\\Users\\omar\\Anaconda3\\lib\\site-packages\\tensorflow\\python\\client\\session.py\u001b[0m in \u001b[0;36mrun\u001b[1;34m(self, fetches, feed_dict, options, run_metadata)\u001b[0m\n\u001b[0;32m    903\u001b[0m     \u001b[1;32mtry\u001b[0m\u001b[1;33m:\u001b[0m\u001b[1;33m\u001b[0m\u001b[0m\n\u001b[0;32m    904\u001b[0m       result = self._run(None, fetches, feed_dict, options_ptr,\n\u001b[1;32m--> 905\u001b[1;33m                          run_metadata_ptr)\n\u001b[0m\u001b[0;32m    906\u001b[0m       \u001b[1;32mif\u001b[0m \u001b[0mrun_metadata\u001b[0m\u001b[1;33m:\u001b[0m\u001b[1;33m\u001b[0m\u001b[0m\n\u001b[0;32m    907\u001b[0m         \u001b[0mproto_data\u001b[0m \u001b[1;33m=\u001b[0m \u001b[0mtf_session\u001b[0m\u001b[1;33m.\u001b[0m\u001b[0mTF_GetBuffer\u001b[0m\u001b[1;33m(\u001b[0m\u001b[0mrun_metadata_ptr\u001b[0m\u001b[1;33m)\u001b[0m\u001b[1;33m\u001b[0m\u001b[0m\n",
      "\u001b[1;32mC:\\Users\\omar\\Anaconda3\\lib\\site-packages\\tensorflow\\python\\client\\session.py\u001b[0m in \u001b[0;36m_run\u001b[1;34m(self, handle, fetches, feed_dict, options, run_metadata)\u001b[0m\n\u001b[0;32m   1135\u001b[0m     \u001b[1;32mif\u001b[0m \u001b[0mfinal_fetches\u001b[0m \u001b[1;32mor\u001b[0m \u001b[0mfinal_targets\u001b[0m \u001b[1;32mor\u001b[0m \u001b[1;33m(\u001b[0m\u001b[0mhandle\u001b[0m \u001b[1;32mand\u001b[0m \u001b[0mfeed_dict_tensor\u001b[0m\u001b[1;33m)\u001b[0m\u001b[1;33m:\u001b[0m\u001b[1;33m\u001b[0m\u001b[0m\n\u001b[0;32m   1136\u001b[0m       results = self._do_run(handle, final_targets, final_fetches,\n\u001b[1;32m-> 1137\u001b[1;33m                              feed_dict_tensor, options, run_metadata)\n\u001b[0m\u001b[0;32m   1138\u001b[0m     \u001b[1;32melse\u001b[0m\u001b[1;33m:\u001b[0m\u001b[1;33m\u001b[0m\u001b[0m\n\u001b[0;32m   1139\u001b[0m       \u001b[0mresults\u001b[0m \u001b[1;33m=\u001b[0m \u001b[1;33m[\u001b[0m\u001b[1;33m]\u001b[0m\u001b[1;33m\u001b[0m\u001b[0m\n",
      "\u001b[1;32mC:\\Users\\omar\\Anaconda3\\lib\\site-packages\\tensorflow\\python\\client\\session.py\u001b[0m in \u001b[0;36m_do_run\u001b[1;34m(self, handle, target_list, fetch_list, feed_dict, options, run_metadata)\u001b[0m\n\u001b[0;32m   1353\u001b[0m     \u001b[1;32mif\u001b[0m \u001b[0mhandle\u001b[0m \u001b[1;32mis\u001b[0m \u001b[1;32mNone\u001b[0m\u001b[1;33m:\u001b[0m\u001b[1;33m\u001b[0m\u001b[0m\n\u001b[0;32m   1354\u001b[0m       return self._do_call(_run_fn, self._session, feeds, fetches, targets,\n\u001b[1;32m-> 1355\u001b[1;33m                            options, run_metadata)\n\u001b[0m\u001b[0;32m   1356\u001b[0m     \u001b[1;32melse\u001b[0m\u001b[1;33m:\u001b[0m\u001b[1;33m\u001b[0m\u001b[0m\n\u001b[0;32m   1357\u001b[0m       \u001b[1;32mreturn\u001b[0m \u001b[0mself\u001b[0m\u001b[1;33m.\u001b[0m\u001b[0m_do_call\u001b[0m\u001b[1;33m(\u001b[0m\u001b[0m_prun_fn\u001b[0m\u001b[1;33m,\u001b[0m \u001b[0mself\u001b[0m\u001b[1;33m.\u001b[0m\u001b[0m_session\u001b[0m\u001b[1;33m,\u001b[0m \u001b[0mhandle\u001b[0m\u001b[1;33m,\u001b[0m \u001b[0mfeeds\u001b[0m\u001b[1;33m,\u001b[0m \u001b[0mfetches\u001b[0m\u001b[1;33m)\u001b[0m\u001b[1;33m\u001b[0m\u001b[0m\n",
      "\u001b[1;32mC:\\Users\\omar\\Anaconda3\\lib\\site-packages\\tensorflow\\python\\client\\session.py\u001b[0m in \u001b[0;36m_do_call\u001b[1;34m(self, fn, *args)\u001b[0m\n\u001b[0;32m   1372\u001b[0m         \u001b[1;32mexcept\u001b[0m \u001b[0mKeyError\u001b[0m\u001b[1;33m:\u001b[0m\u001b[1;33m\u001b[0m\u001b[0m\n\u001b[0;32m   1373\u001b[0m           \u001b[1;32mpass\u001b[0m\u001b[1;33m\u001b[0m\u001b[0m\n\u001b[1;32m-> 1374\u001b[1;33m       \u001b[1;32mraise\u001b[0m \u001b[0mtype\u001b[0m\u001b[1;33m(\u001b[0m\u001b[0me\u001b[0m\u001b[1;33m)\u001b[0m\u001b[1;33m(\u001b[0m\u001b[0mnode_def\u001b[0m\u001b[1;33m,\u001b[0m \u001b[0mop\u001b[0m\u001b[1;33m,\u001b[0m \u001b[0mmessage\u001b[0m\u001b[1;33m)\u001b[0m\u001b[1;33m\u001b[0m\u001b[0m\n\u001b[0m\u001b[0;32m   1375\u001b[0m \u001b[1;33m\u001b[0m\u001b[0m\n\u001b[0;32m   1376\u001b[0m   \u001b[1;32mdef\u001b[0m \u001b[0m_extend_graph\u001b[0m\u001b[1;33m(\u001b[0m\u001b[0mself\u001b[0m\u001b[1;33m)\u001b[0m\u001b[1;33m:\u001b[0m\u001b[1;33m\u001b[0m\u001b[0m\n",
      "\u001b[1;31mResourceExhaustedError\u001b[0m: OOM when allocating tensor with shape[4096,2062] and type float on /job:localhost/replica:0/task:0/device:GPU:0 by allocator GPU_0_bfc\n\t [[Node: training_9/Adam/Square = Square[T=DT_FLOAT, _device=\"/job:localhost/replica:0/task:0/device:GPU:0\"](training_9/Adam/gradients/dense_19/MatMul_grad/MatMul_1)]]\nHint: If you want to see a list of allocated tensors when OOM happens, add report_tensor_allocations_upon_oom to RunOptions for current allocation info.\n\n\nCaused by op 'training_9/Adam/Square', defined at:\n  File \"C:\\Users\\omar\\Anaconda3\\lib\\runpy.py\", line 193, in _run_module_as_main\n    \"__main__\", mod_spec)\n  File \"C:\\Users\\omar\\Anaconda3\\lib\\runpy.py\", line 85, in _run_code\n    exec(code, run_globals)\n  File \"C:\\Users\\omar\\Anaconda3\\lib\\site-packages\\ipykernel_launcher.py\", line 16, in <module>\n    app.launch_new_instance()\n  File \"C:\\Users\\omar\\Anaconda3\\lib\\site-packages\\traitlets\\config\\application.py\", line 658, in launch_instance\n    app.start()\n  File \"C:\\Users\\omar\\Anaconda3\\lib\\site-packages\\ipykernel\\kernelapp.py\", line 477, in start\n    ioloop.IOLoop.instance().start()\n  File \"C:\\Users\\omar\\Anaconda3\\lib\\site-packages\\zmq\\eventloop\\ioloop.py\", line 177, in start\n    super(ZMQIOLoop, self).start()\n  File \"C:\\Users\\omar\\Anaconda3\\lib\\site-packages\\tornado\\ioloop.py\", line 888, in start\n    handler_func(fd_obj, events)\n  File \"C:\\Users\\omar\\Anaconda3\\lib\\site-packages\\tornado\\stack_context.py\", line 277, in null_wrapper\n    return fn(*args, **kwargs)\n  File \"C:\\Users\\omar\\Anaconda3\\lib\\site-packages\\zmq\\eventloop\\zmqstream.py\", line 440, in _handle_events\n    self._handle_recv()\n  File \"C:\\Users\\omar\\Anaconda3\\lib\\site-packages\\zmq\\eventloop\\zmqstream.py\", line 472, in _handle_recv\n    self._run_callback(callback, msg)\n  File \"C:\\Users\\omar\\Anaconda3\\lib\\site-packages\\zmq\\eventloop\\zmqstream.py\", line 414, in _run_callback\n    callback(*args, **kwargs)\n  File \"C:\\Users\\omar\\Anaconda3\\lib\\site-packages\\tornado\\stack_context.py\", line 277, in null_wrapper\n    return fn(*args, **kwargs)\n  File \"C:\\Users\\omar\\Anaconda3\\lib\\site-packages\\ipykernel\\kernelbase.py\", line 283, in dispatcher\n    return self.dispatch_shell(stream, msg)\n  File \"C:\\Users\\omar\\Anaconda3\\lib\\site-packages\\ipykernel\\kernelbase.py\", line 235, in dispatch_shell\n    handler(stream, idents, msg)\n  File \"C:\\Users\\omar\\Anaconda3\\lib\\site-packages\\ipykernel\\kernelbase.py\", line 399, in execute_request\n    user_expressions, allow_stdin)\n  File \"C:\\Users\\omar\\Anaconda3\\lib\\site-packages\\ipykernel\\ipkernel.py\", line 196, in do_execute\n    res = shell.run_cell(code, store_history=store_history, silent=silent)\n  File \"C:\\Users\\omar\\Anaconda3\\lib\\site-packages\\ipykernel\\zmqshell.py\", line 533, in run_cell\n    return super(ZMQInteractiveShell, self).run_cell(*args, **kwargs)\n  File \"C:\\Users\\omar\\Anaconda3\\lib\\site-packages\\IPython\\core\\interactiveshell.py\", line 2717, in run_cell\n    interactivity=interactivity, compiler=compiler, result=result)\n  File \"C:\\Users\\omar\\Anaconda3\\lib\\site-packages\\IPython\\core\\interactiveshell.py\", line 2821, in run_ast_nodes\n    if self.run_code(code, result):\n  File \"C:\\Users\\omar\\Anaconda3\\lib\\site-packages\\IPython\\core\\interactiveshell.py\", line 2881, in run_code\n    exec(code_obj, self.user_global_ns, self.user_ns)\n  File \"<ipython-input-8-b055bdfb1723>\", line 1, in <module>\n    results = cross_val_score(estimator, X_train, y_train, cv=kfold)\n  File \"C:\\Users\\omar\\Anaconda3\\lib\\site-packages\\sklearn\\model_selection\\_validation.py\", line 321, in cross_val_score\n    pre_dispatch=pre_dispatch)\n  File \"C:\\Users\\omar\\Anaconda3\\lib\\site-packages\\sklearn\\model_selection\\_validation.py\", line 195, in cross_validate\n    for train, test in cv.split(X, y, groups))\n  File \"C:\\Users\\omar\\Anaconda3\\lib\\site-packages\\sklearn\\externals\\joblib\\parallel.py\", line 779, in __call__\n    while self.dispatch_one_batch(iterator):\n  File \"C:\\Users\\omar\\Anaconda3\\lib\\site-packages\\sklearn\\externals\\joblib\\parallel.py\", line 625, in dispatch_one_batch\n    self._dispatch(tasks)\n  File \"C:\\Users\\omar\\Anaconda3\\lib\\site-packages\\sklearn\\externals\\joblib\\parallel.py\", line 588, in _dispatch\n    job = self._backend.apply_async(batch, callback=cb)\n  File \"C:\\Users\\omar\\Anaconda3\\lib\\site-packages\\sklearn\\externals\\joblib\\_parallel_backends.py\", line 111, in apply_async\n    result = ImmediateResult(func)\n  File \"C:\\Users\\omar\\Anaconda3\\lib\\site-packages\\sklearn\\externals\\joblib\\_parallel_backends.py\", line 332, in __init__\n    self.results = batch()\n  File \"C:\\Users\\omar\\Anaconda3\\lib\\site-packages\\sklearn\\externals\\joblib\\parallel.py\", line 131, in __call__\n    return [func(*args, **kwargs) for func, args, kwargs in self.items]\n  File \"C:\\Users\\omar\\Anaconda3\\lib\\site-packages\\sklearn\\externals\\joblib\\parallel.py\", line 131, in <listcomp>\n    return [func(*args, **kwargs) for func, args, kwargs in self.items]\n  File \"C:\\Users\\omar\\Anaconda3\\lib\\site-packages\\sklearn\\model_selection\\_validation.py\", line 437, in _fit_and_score\n    estimator.fit(X_train, y_train, **fit_params)\n  File \"C:\\Users\\omar\\Anaconda3\\lib\\site-packages\\keras\\wrappers\\scikit_learn.py\", line 209, in fit\n    return super(KerasClassifier, self).fit(x, y, **kwargs)\n  File \"C:\\Users\\omar\\Anaconda3\\lib\\site-packages\\keras\\wrappers\\scikit_learn.py\", line 151, in fit\n    history = self.model.fit(x, y, **fit_args)\n  File \"C:\\Users\\omar\\Anaconda3\\lib\\site-packages\\keras\\models.py\", line 963, in fit\n    validation_steps=validation_steps)\n  File \"C:\\Users\\omar\\Anaconda3\\lib\\site-packages\\keras\\engine\\training.py\", line 1682, in fit\n    self._make_train_function()\n  File \"C:\\Users\\omar\\Anaconda3\\lib\\site-packages\\keras\\engine\\training.py\", line 990, in _make_train_function\n    loss=self.total_loss)\n  File \"C:\\Users\\omar\\Anaconda3\\lib\\site-packages\\keras\\legacy\\interfaces.py\", line 91, in wrapper\n    return func(*args, **kwargs)\n  File \"C:\\Users\\omar\\Anaconda3\\lib\\site-packages\\keras\\optimizers.py\", line 467, in get_updates\n    v_t = (self.beta_2 * v) + (1. - self.beta_2) * K.square(g)\n  File \"C:\\Users\\omar\\Anaconda3\\lib\\site-packages\\keras\\backend\\tensorflow_backend.py\", line 1435, in square\n    return tf.square(x)\n  File \"C:\\Users\\omar\\Anaconda3\\lib\\site-packages\\tensorflow\\python\\ops\\math_ops.py\", line 467, in square\n    return gen_math_ops.square(x, name=name)\n  File \"C:\\Users\\omar\\Anaconda3\\lib\\site-packages\\tensorflow\\python\\ops\\gen_math_ops.py\", line 5317, in square\n    \"Square\", x=x, name=name)\n  File \"C:\\Users\\omar\\Anaconda3\\lib\\site-packages\\tensorflow\\python\\framework\\op_def_library.py\", line 787, in _apply_op_helper\n    op_def=op_def)\n  File \"C:\\Users\\omar\\Anaconda3\\lib\\site-packages\\tensorflow\\python\\framework\\ops.py\", line 3271, in create_op\n    op_def=op_def)\n  File \"C:\\Users\\omar\\Anaconda3\\lib\\site-packages\\tensorflow\\python\\framework\\ops.py\", line 1650, in __init__\n    self._traceback = self._graph._extract_stack()  # pylint: disable=protected-access\n\nResourceExhaustedError (see above for traceback): OOM when allocating tensor with shape[4096,2062] and type float on /job:localhost/replica:0/task:0/device:GPU:0 by allocator GPU_0_bfc\n\t [[Node: training_9/Adam/Square = Square[T=DT_FLOAT, _device=\"/job:localhost/replica:0/task:0/device:GPU:0\"](training_9/Adam/gradients/dense_19/MatMul_grad/MatMul_1)]]\nHint: If you want to see a list of allocated tensors when OOM happens, add report_tensor_allocations_upon_oom to RunOptions for current allocation info.\n\n"
     ]
    }
   ],
   "source": [
    "results = cross_val_score(estimator, X_train, y_train, cv=kfold)"
   ]
  },
  {
   "cell_type": "code",
   "execution_count": null,
   "metadata": {
    "collapsed": true,
    "hidden": true
   },
   "outputs": [],
   "source": []
  },
  {
   "cell_type": "code",
   "execution_count": null,
   "metadata": {
    "ExecuteTime": {
     "end_time": "2018-04-04T05:57:38.631400Z",
     "start_time": "2018-04-04T05:50:01.856Z"
    },
    "collapsed": true,
    "hidden": true
   },
   "outputs": [],
   "source": [
    "print(\"Baseline: %.2f%% (%.2f%%)\" % (results.mean()*100, results.std()*100))"
   ]
  },
  {
   "cell_type": "code",
   "execution_count": null,
   "metadata": {
    "ExecuteTime": {
     "end_time": "2018-04-04T05:57:38.631400Z",
     "start_time": "2018-04-04T05:50:02.304Z"
    },
    "collapsed": true,
    "hidden": true
   },
   "outputs": [],
   "source": [
    "y_validation_predictions = estimator.predict(X_validation)\n",
    "print(classification_report(y_validation, y_validation_predictions))"
   ]
  },
  {
   "cell_type": "code",
   "execution_count": 9,
   "metadata": {
    "ExecuteTime": {
     "end_time": "2018-04-04T13:31:32.372779Z",
     "start_time": "2018-04-04T13:31:32.247779Z"
    },
    "hidden": true
   },
   "outputs": [
    {
     "name": "stdout",
     "output_type": "stream",
     "text": [
      "_________________________________________________________________\n",
      "Layer (type)                 Output Shape              Param #   \n",
      "=================================================================\n",
      "dense_21 (Dense)             (None, 2062)              8448014   \n",
      "_________________________________________________________________\n",
      "dense_22 (Dense)             (None, 29)                59827     \n",
      "=================================================================\n",
      "Total params: 8,507,841\n",
      "Trainable params: 8,507,841\n",
      "Non-trainable params: 0\n",
      "_________________________________________________________________\n"
     ]
    }
   ],
   "source": [
    "baseline_model().summary()"
   ]
  },
  {
   "cell_type": "code",
   "execution_count": null,
   "metadata": {
    "collapsed": true,
    "hidden": true
   },
   "outputs": [],
   "source": []
  },
  {
   "cell_type": "code",
   "execution_count": 8,
   "metadata": {
    "hidden": true
   },
   "outputs": [
    {
     "name": "stdout",
     "output_type": "stream",
     "text": [
      "Train on 4664 samples, validate on 1166 samples\n",
      "Epoch 1/20\n",
      " - 120s - loss: 3.9904 - acc: 0.5971 - val_loss: 14.2498 - val_acc: 0.0489\n",
      "Epoch 2/20\n",
      " - 119s - loss: 0.6574 - acc: 0.8422 - val_loss: 14.7031 - val_acc: 0.0480\n",
      "Epoch 3/20\n",
      " - 119s - loss: 0.4850 - acc: 0.8885 - val_loss: 14.8774 - val_acc: 0.0515\n",
      "Epoch 4/20\n",
      " - 119s - loss: 0.3432 - acc: 0.9237 - val_loss: 15.0133 - val_acc: 0.0463\n",
      "Epoch 5/20\n",
      " - 122s - loss: 0.3266 - acc: 0.9363 - val_loss: 14.9705 - val_acc: 0.0429\n",
      "Epoch 6/20\n",
      " - 120s - loss: 0.2952 - acc: 0.9470 - val_loss: 15.0774 - val_acc: 0.0549\n",
      "Epoch 7/20\n",
      " - 119s - loss: 0.2562 - acc: 0.9543 - val_loss: 15.2387 - val_acc: 0.0437\n",
      "Epoch 8/20\n",
      " - 120s - loss: 0.2755 - acc: 0.9552 - val_loss: 15.1056 - val_acc: 0.0575\n",
      "Epoch 9/20\n",
      " - 119s - loss: 0.3266 - acc: 0.9539 - val_loss: 15.1964 - val_acc: 0.0497\n",
      "Epoch 10/20\n",
      " - 121s - loss: 0.2394 - acc: 0.9648 - val_loss: 15.3161 - val_acc: 0.0420\n",
      "Epoch 11/20\n",
      " - 120s - loss: 0.2999 - acc: 0.9584 - val_loss: 15.2860 - val_acc: 0.0420\n",
      "Epoch 12/20\n",
      " - 120s - loss: 0.2468 - acc: 0.9687 - val_loss: 15.2251 - val_acc: 0.0497\n",
      "Epoch 13/20\n",
      " - 119s - loss: 0.2460 - acc: 0.9678 - val_loss: 15.1630 - val_acc: 0.0557\n",
      "Epoch 14/20\n",
      " - 120s - loss: 0.2834 - acc: 0.9681 - val_loss: 15.2194 - val_acc: 0.0480\n",
      "Epoch 15/20\n",
      " - 120s - loss: 0.1487 - acc: 0.9820 - val_loss: 15.2615 - val_acc: 0.0506\n",
      "Epoch 16/20\n",
      " - 120s - loss: 0.1884 - acc: 0.9777 - val_loss: 15.2235 - val_acc: 0.0523\n",
      "Epoch 17/20\n",
      " - 119s - loss: 0.2306 - acc: 0.9741 - val_loss: 15.2213 - val_acc: 0.0523\n",
      "Epoch 18/20\n",
      " - 120s - loss: 0.1838 - acc: 0.9792 - val_loss: 15.2068 - val_acc: 0.0532\n",
      "Epoch 19/20\n",
      " - 120s - loss: 0.2983 - acc: 0.9681 - val_loss: 15.3639 - val_acc: 0.0420\n",
      "Epoch 20/20\n",
      " - 120s - loss: 0.2034 - acc: 0.9764 - val_loss: 15.2219 - val_acc: 0.0532\n"
     ]
    }
   ],
   "source": [
    "hist = estimator.fit(X_train, y_train, shuffle=True, validation_split=0.2, verbose=1)"
   ]
  },
  {
   "cell_type": "code",
   "execution_count": 9,
   "metadata": {
    "hidden": true
   },
   "outputs": [
    {
     "name": "stdout",
     "output_type": "stream",
     "text": [
      "_________________________________________________________________\n",
      "Layer (type)                 Output Shape              Param #   \n",
      "=================================================================\n",
      "dense_1 (Dense)              (None, 2062)              8448014   \n",
      "_________________________________________________________________\n",
      "dense_2 (Dense)              (None, 29)                59827     \n",
      "=================================================================\n",
      "Total params: 8,507,841\n",
      "Trainable params: 8,507,841\n",
      "Non-trainable params: 0\n",
      "_________________________________________________________________\n"
     ]
    }
   ],
   "source": [
    "estimator.model.summary()"
   ]
  },
  {
   "cell_type": "code",
   "execution_count": 12,
   "metadata": {
    "collapsed": true,
    "hidden": true
   },
   "outputs": [],
   "source": [
    "#estimator.model.evaluate(X_validation, keras.utils.to_categorical(y_validation), verbose=1)"
   ]
  },
  {
   "cell_type": "code",
   "execution_count": 15,
   "metadata": {
    "collapsed": true,
    "hidden": true
   },
   "outputs": [],
   "source": [
    "y_validation_predictions = estimator.predict(X_validation)\n",
    "print(classification_report(y_validation, y_validation_predictions))"
   ]
  },
  {
   "cell_type": "code",
   "execution_count": 18,
   "metadata": {
    "hidden": true
   },
   "outputs": [
    {
     "name": "stdout",
     "output_type": "stream",
     "text": [
      "             precision    recall  f1-score   support\n",
      "\n",
      "          1       0.97      1.00      0.98       116\n",
      "          2       0.62      0.58      0.60        96\n",
      "          3       0.73      0.70      0.72        94\n",
      "          4       0.84      0.85      0.84        92\n",
      "          5       0.74      0.83      0.78        88\n",
      "          6       0.38      0.59      0.46        92\n",
      "          7       0.57      0.40      0.47        92\n",
      "          8       0.51      0.60      0.55        88\n",
      "          9       0.75      0.77      0.76        88\n",
      "         10       0.48      0.72      0.58        82\n",
      "         11       0.86      0.92      0.89        86\n",
      "         12       0.67      0.72      0.70        80\n",
      "         13       0.66      0.96      0.78        80\n",
      "         14       0.38      0.80      0.52        82\n",
      "         15       0.40      0.80      0.54        82\n",
      "         16       0.49      0.87      0.63        82\n",
      "         17       0.84      0.90      0.87        80\n",
      "         18       0.92      0.74      0.82        80\n",
      "         19       0.84      0.83      0.84        78\n",
      "         20       0.57      0.47      0.52        74\n",
      "         21       0.73      0.95      0.83        76\n",
      "         22       0.47      0.77      0.59        74\n",
      "         23       0.00      0.00      0.00        66\n",
      "         24       0.00      0.00      0.00        72\n",
      "         25       0.00      0.00      0.00        64\n",
      "         26       0.00      0.00      0.00        66\n",
      "         27       0.00      0.00      0.00        56\n",
      "         28       0.00      0.00      0.00        52\n",
      "         29       0.00      0.00      0.00        40\n",
      "\n",
      "avg / total       0.54      0.63      0.57      2298\n",
      "\n"
     ]
    },
    {
     "name": "stderr",
     "output_type": "stream",
     "text": [
      "/home/omar/anaconda3/envs/cvml/lib/python3.6/site-packages/sklearn/metrics/classification.py:1135: UndefinedMetricWarning: Precision and F-score are ill-defined and being set to 0.0 in labels with no predicted samples.\n",
      "  'precision', 'predicted', average, warn_for)\n"
     ]
    }
   ],
   "source": [
    "print(classification_report(y_validation, y_validation_predictions))"
   ]
  },
  {
   "cell_type": "code",
   "execution_count": null,
   "metadata": {
    "collapsed": true,
    "hidden": true
   },
   "outputs": [],
   "source": []
  }
 ],
 "metadata": {
  "kernelspec": {
   "display_name": "Python 3",
   "language": "python",
   "name": "python3"
  },
  "language_info": {
   "codemirror_mode": {
    "name": "ipython",
    "version": 3
   },
   "file_extension": ".py",
   "mimetype": "text/x-python",
   "name": "python",
   "nbconvert_exporter": "python",
   "pygments_lexer": "ipython3",
   "version": "3.6.1"
  },
  "toc": {
   "colors": {
    "hover_highlight": "#DAA520",
    "navigate_num": "#000000",
    "navigate_text": "#333333",
    "running_highlight": "#FF0000",
    "selected_highlight": "#FFD700",
    "sidebar_border": "#EEEEEE",
    "wrapper_background": "#FFFFFF"
   },
   "moveMenuLeft": true,
   "nav_menu": {
    "height": "49px",
    "width": "252px"
   },
   "navigate_menu": true,
   "number_sections": true,
   "sideBar": true,
   "threshold": 4,
   "toc_cell": false,
   "toc_section_display": "block",
   "toc_window_display": false,
   "widenNotebook": false
  }
 },
 "nbformat": 4,
 "nbformat_minor": 2
}
